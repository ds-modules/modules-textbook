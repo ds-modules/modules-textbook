{
 "cells": [
  {
   "cell_type": "markdown",
   "metadata": {},
   "source": [
    "# XRHETOR-R1A Data Science Module \n",
    "\n",
    "## 01 - Intro to Data Science in Rhetoric\n",
    "\n",
    "## Professor Amy Tick \n",
    "\n",
    "Data Science is a fast-growing discipline with applications in many fields. Over the course of the next week, these modules will explore the use of Data Science in Rhetoric. Module 01 introduces the Python programming language and the Pandas DataFrame table structure and shows how to apply coding skills exploratory analysis for text data. Module 02 walks through the data science process start to finish to test Moral Foundations Theory. Finally, Module 03 examines data science as a rhetorical tool: how human biases, conscious or unconscious, affect how data is processed and perceived. \n",
    "\n",
    "Estimated Time: 50 minutes"
   ]
  },
  {
   "cell_type": "markdown",
   "metadata": {},
   "source": [
    "## __Topics Covered__\n",
    "\n",
    "### Data Science Intro\n",
    "- The field of Data Science <br>\n",
    "- Environment (Jupyter Notebook/Data hub)<br>\n",
    "- Basic Python\n",
    "- Introduction to Pandas DataFrames\n",
    "\n",
    "### Data\n",
    "- Election 2016 <br> http://www.presidency.ucsb.edu/2016_election.php <br>\n",
    "\n",
    "### Text processing\n",
    "- String manipulation\n",
    "- Word counts\n",
    "\n",
    "### What you need to know\n",
    "- data type\n",
    "- expression\n",
    "- names\n",
    "- call expression\n",
    "- attribute operator\n",
    "- lists\n",
    "- dict\n",
    "- importing library\n",
    "- table\n",
    "- functions"
   ]
  },
  {
   "cell_type": "markdown",
   "metadata": {},
   "source": [
    "**Dependencies: datascience, nltk, pandas"
   ]
  },
  {
   "cell_type": "markdown",
   "metadata": {},
   "source": [
    "## Before we begin \n",
    "Please help us better establish the audience that we are reaching by filling out this survey:\n",
    "https://docs.google.com/forms/d/1f7EekVoQYHaFeXpzKUul_ZrxzvXz_Iso5aDOMXNl8ic/edit?usp=sharing"
   ]
  },
  {
   "cell_type": "markdown",
   "metadata": {},
   "source": [
    "## What is Datascience?\n",
    "### Data science is an interdisciplinary field that seeks to extract knowledge or insights from various forms of data.\n",
    "\n",
    "<img src=\"http://www.kiwidatascience.com/wp/wp-content/uploads/2016/01/data_scientist.png\" style=\"width: 550px; height: 500px;\\\" />\n",
    "Statistics is a central component of data science because statistics studies how to make robust conclusions with incomplete information. Computing is a central component because programming allows us to apply analysis techniques to the large and diverse data sets that arise in real-world applications. Domain knowlege is the most important compoent among above. Domain expertise is perhaps most relevant in the interpretation of insights. Without knowlege in the domain of the subject, we can't decide what to analyze."
   ]
  },
  {
   "cell_type": "markdown",
   "metadata": {},
   "source": [
    "## The Jupyter Notebook\n",
    "\n",
    "Note that this page is divided into what are called \"cells\". For example, the following cell is a \"code cell\" where you will write your code. You'll see a In [ ]: next to each cell for code, which is a counter for the cells you have run. You can navigate cells by clicking on them or by using the up and down arrows. Cells will be highlighted as you navigate them."
   ]
  },
  {
   "cell_type": "code",
   "execution_count": 1,
   "metadata": {
    "collapsed": true
   },
   "outputs": [],
   "source": [
    "# this is a code cell"
   ]
  },
  {
   "cell_type": "markdown",
   "metadata": {},
   "source": [
    "## Python"
   ]
  },
  {
   "cell_type": "markdown",
   "metadata": {},
   "source": [
    "### Data Types"
   ]
  },
  {
   "cell_type": "markdown",
   "metadata": {},
   "source": [
    "Text analysis uses two basic types of data: numbers and text. \n",
    "\n",
    "In Jupyter notebooks, Python numbers are shown in green. \n",
    "\n",
    "Python text is referred to as a **string** and is written inside of single or double quotation marks. Jupyter shows it in red."
   ]
  },
  {
   "cell_type": "code",
   "execution_count": 2,
   "metadata": {
    "collapsed": true
   },
   "outputs": [
    {
     "data": {
      "text/plain": [
       "1837720.8787623"
      ]
     },
     "execution_count": 2,
     "metadata": {},
     "output_type": "execute_result"
    }
   ],
   "source": [
    "# Numbers in Python\n",
    "3\n",
    "6.0\n",
    "1837720.8787623"
   ]
  },
  {
   "cell_type": "code",
   "execution_count": 3,
   "metadata": {
    "collapsed": true
   },
   "outputs": [
    {
     "data": {
      "text/plain": [
       "'The quick brown fox jumped over the lazy dog'"
      ]
     },
     "execution_count": 3,
     "metadata": {},
     "output_type": "execute_result"
    }
   ],
   "source": [
    "# Python text, aka strings\n",
    "\"a\"\n",
    "\"word\"\n",
    "\"The quick brown fox jumped over the lazy dog\""
   ]
  },
  {
   "cell_type": "markdown",
   "metadata": {},
   "source": [
    "### Expressions\n",
    "Programs are made up of expressions, which describe to the computer how to combine pieces of data. \n",
    "\n",
    "Running a code cell will output the result of the expression below the cell. Code cells are run by navigating to the cell and pressing `Shift` + `Enter`."
   ]
  },
  {
   "cell_type": "code",
   "execution_count": 4,
   "metadata": {
    "collapsed": true
   },
   "outputs": [
    {
     "data": {
      "text/plain": [
       "12"
      ]
     },
     "execution_count": 4,
     "metadata": {},
     "output_type": "execute_result"
    }
   ],
   "source": [
    "# number expression\n",
    "3 * 4"
   ]
  },
  {
   "cell_type": "code",
   "execution_count": 5,
   "metadata": {
    "collapsed": true
   },
   "outputs": [
    {
     "data": {
      "text/plain": [
       "168"
      ]
     },
     "execution_count": 5,
     "metadata": {},
     "output_type": "execute_result"
    }
   ],
   "source": [
    "24 * 7"
   ]
  },
  {
   "cell_type": "markdown",
   "metadata": {},
   "source": [
    "### Names (Identifiers)\n",
    "Names are given to values in Python using an assignment statement. In an assignment, a name is followed by =, which is followed by any expression. The value of the expression to the right of = is assigned to the name."
   ]
  },
  {
   "cell_type": "code",
   "execution_count": 6,
   "metadata": {
    "collapsed": true
   },
   "outputs": [],
   "source": [
    "#if you want to save it for later use\n",
    "hours_per_week = 24 * 7"
   ]
  },
  {
   "cell_type": "code",
   "execution_count": 7,
   "metadata": {
    "collapsed": true
   },
   "outputs": [
    {
     "data": {
      "text/plain": [
       "10080"
      ]
     },
     "execution_count": 7,
     "metadata": {},
     "output_type": "execute_result"
    }
   ],
   "source": [
    "hours_per_week * 60"
   ]
  },
  {
   "cell_type": "code",
   "execution_count": 8,
   "metadata": {
    "collapsed": true
   },
   "outputs": [],
   "source": [
    "seconds_per_year = 60 * 60 * 24 * 365"
   ]
  },
  {
   "cell_type": "code",
   "execution_count": 9,
   "metadata": {
    "collapsed": true
   },
   "outputs": [
    {
     "data": {
      "text/plain": [
       "31536000"
      ]
     },
     "execution_count": 9,
     "metadata": {},
     "output_type": "execute_result"
    }
   ],
   "source": [
    "seconds_per_year"
   ]
  },
  {
   "cell_type": "code",
   "execution_count": 10,
   "metadata": {
    "collapsed": true
   },
   "outputs": [
    {
     "data": {
      "text/plain": [
       "31536000"
      ]
     },
     "execution_count": 10,
     "metadata": {},
     "output_type": "execute_result"
    }
   ],
   "source": [
    "seconds_per_hour = 60 * 60\n",
    "hours_per_year = 24 * 365\n",
    "seconds_per_year = seconds_per_hour * hours_per_year\n",
    "seconds_per_year"
   ]
  },
  {
   "cell_type": "markdown",
   "metadata": {},
   "source": [
    "### Call Expressions"
   ]
  },
  {
   "cell_type": "markdown",
   "metadata": {},
   "source": [
    "The most important kind of compound expression is a call expression, which applies a function to some arguments. Recall from algebra that the mathematical notion of a function is a mapping from some input arguments to an output value. The way in which Python expresses function application is the same as in conventional mathematics."
   ]
  },
  {
   "cell_type": "markdown",
   "metadata": {},
   "source": [
    "For instance, the abs function maps its single inputs to a single output, which is the absolute value of the inputs. "
   ]
  },
  {
   "cell_type": "code",
   "execution_count": 11,
   "metadata": {
    "collapsed": true
   },
   "outputs": [
    {
     "data": {
      "text/plain": [
       "5"
      ]
     },
     "execution_count": 11,
     "metadata": {},
     "output_type": "execute_result"
    }
   ],
   "source": [
    "abs(-5)"
   ]
  },
  {
   "cell_type": "markdown",
   "metadata": {},
   "source": [
    "For instance, the max function maps its inputs to a single output, which is the largest of the inputs."
   ]
  },
  {
   "cell_type": "code",
   "execution_count": 12,
   "metadata": {
    "collapsed": true
   },
   "outputs": [
    {
     "data": {
      "text/plain": [
       "4"
      ]
     },
     "execution_count": 12,
     "metadata": {},
     "output_type": "execute_result"
    }
   ],
   "source": [
    "max(3, 4)"
   ]
  },
  {
   "cell_type": "code",
   "execution_count": 13,
   "metadata": {
    "collapsed": true
   },
   "outputs": [],
   "source": [
    "y = max(3, 4)"
   ]
  },
  {
   "cell_type": "code",
   "execution_count": 14,
   "metadata": {
    "collapsed": true
   },
   "outputs": [
    {
     "data": {
      "text/plain": [
       "4"
      ]
     },
     "execution_count": 14,
     "metadata": {},
     "output_type": "execute_result"
    }
   ],
   "source": [
    "y"
   ]
  },
  {
   "cell_type": "markdown",
   "metadata": {},
   "source": [
    "### Attribute Operator\n",
    "A few functions are available by default, such as abs and max, but most functions that are built into the Python language are stored in a collection of functions called a module. An import statement is used to provide access to a module, such as math or operator. Operators and call expressions can be used together in an expression.\n",
    "\n",
    "Put another way, specific types of data have specific functions that can be used with **dot notation**. The order of the syntax goes `data` then a '.' then the function. \n",
    "\n",
    "For example, the `upper()` function can be called on a string to make all of its characters uppercase."
   ]
  },
  {
   "cell_type": "code",
   "execution_count": 15,
   "metadata": {
    "collapsed": true
   },
   "outputs": [],
   "source": [
    "message = \"python is fun\""
   ]
  },
  {
   "cell_type": "code",
   "execution_count": 16,
   "metadata": {
    "collapsed": true
   },
   "outputs": [
    {
     "data": {
      "text/plain": [
       "'PYTHON IS FUN'"
      ]
     },
     "execution_count": 16,
     "metadata": {},
     "output_type": "execute_result"
    }
   ],
   "source": [
    "message.upper()"
   ]
  },
  {
   "cell_type": "markdown",
   "metadata": {},
   "source": [
    "### Lists"
   ]
  },
  {
   "cell_type": "markdown",
   "metadata": {},
   "source": [
    "Python has a great built-in list type named \"list\". Items in a list are written within square brackets [ ] and separated by commas. Lists work similarly to strings -- use square brackets [ ] to access data, with the first element at index 0."
   ]
  },
  {
   "cell_type": "code",
   "execution_count": 17,
   "metadata": {
    "collapsed": true
   },
   "outputs": [],
   "source": [
    "colors = ['red', 'blue', 'green']"
   ]
  },
  {
   "cell_type": "code",
   "execution_count": 18,
   "metadata": {
    "collapsed": true
   },
   "outputs": [
    {
     "data": {
      "text/plain": [
       "'red'"
      ]
     },
     "execution_count": 18,
     "metadata": {},
     "output_type": "execute_result"
    }
   ],
   "source": [
    "colors[0]    ## red"
   ]
  },
  {
   "cell_type": "code",
   "execution_count": 19,
   "metadata": {
    "collapsed": true,
    "scrolled": true
   },
   "outputs": [
    {
     "data": {
      "text/plain": [
       "'green'"
      ]
     },
     "execution_count": 19,
     "metadata": {},
     "output_type": "execute_result"
    }
   ],
   "source": [
    "colors[2]    ## green"
   ]
  },
  {
   "cell_type": "code",
   "execution_count": 20,
   "metadata": {
    "collapsed": true
   },
   "outputs": [
    {
     "data": {
      "text/plain": [
       "3"
      ]
     },
     "execution_count": 20,
     "metadata": {},
     "output_type": "execute_result"
    }
   ],
   "source": [
    "len(colors)  ## 3"
   ]
  },
  {
   "cell_type": "markdown",
   "metadata": {},
   "source": [
    "### Dict (Python dictionary)"
   ]
  },
  {
   "cell_type": "markdown",
   "metadata": {},
   "source": [
    "Python also has a **dictionary** structure called a \"dict\". The contents of a dict can be written as a series of key:value pairs within braces { }, e.g. dict = {key1:value1, key2:value2, ... }. The \"empty dict\" is just an empty pair of curly braces {}."
   ]
  },
  {
   "cell_type": "code",
   "execution_count": 21,
   "metadata": {
    "collapsed": true
   },
   "outputs": [],
   "source": [
    "## Can build up a dict by starting with the the empty dict {}\n",
    "## and storing key/value pairs into the dict like this:\n",
    "## dict[key] = value-for-that-key\n",
    "dict = {}\n",
    "dict['a'] = 'alpha'\n",
    "dict['g'] = 'gamma'\n",
    "dict['o'] = 'omega'"
   ]
  },
  {
   "cell_type": "code",
   "execution_count": 22,
   "metadata": {
    "collapsed": true
   },
   "outputs": [
    {
     "data": {
      "text/plain": [
       "{'a': 'alpha', 'g': 'gamma', 'o': 'omega'}"
      ]
     },
     "execution_count": 22,
     "metadata": {},
     "output_type": "execute_result"
    }
   ],
   "source": [
    "dict"
   ]
  },
  {
   "cell_type": "code",
   "execution_count": 23,
   "metadata": {
    "collapsed": true
   },
   "outputs": [
    {
     "data": {
      "text/plain": [
       "'alpha'"
      ]
     },
     "execution_count": 23,
     "metadata": {},
     "output_type": "execute_result"
    }
   ],
   "source": [
    "dict['a']     ## Simple lookup, returns 'alpha'"
   ]
  },
  {
   "cell_type": "code",
   "execution_count": 24,
   "metadata": {
    "collapsed": true
   },
   "outputs": [],
   "source": [
    "dict['a'] = 6       ## Put new key/value into dict"
   ]
  },
  {
   "cell_type": "code",
   "execution_count": 25,
   "metadata": {
    "collapsed": true
   },
   "outputs": [
    {
     "data": {
      "text/plain": [
       "True"
      ]
     },
     "execution_count": 25,
     "metadata": {},
     "output_type": "execute_result"
    }
   ],
   "source": [
    "'a' in dict         ## True"
   ]
  },
  {
   "cell_type": "markdown",
   "metadata": {},
   "source": [
    "### Errors"
   ]
  },
  {
   "cell_type": "markdown",
   "metadata": {},
   "source": [
    "The Python language has a very specific syntax. If code is not written in that syntax, running a cell will result in an **error** and show an error message.\n",
    "\n",
    "Error messages can be confusing, but they can also give information about what is wrong."
   ]
  },
  {
   "cell_type": "code",
   "execution_count": 26,
   "metadata": {
    "collapsed": true
   },
   "outputs": [],
   "source": [
    "# Un-comment the next line, then run the cell to create an error\n",
    "# dict['b']"
   ]
  },
  {
   "cell_type": "markdown",
   "metadata": {},
   "source": [
    "### Importing Library Functions"
   ]
  },
  {
   "cell_type": "markdown",
   "metadata": {},
   "source": [
    "Python defines a very large number of functions, including the operator functions mentioned in the preceding section, but does not make all of their names available by default. Instead, it organizes the functions and other quantities that it knows about into modules, which together comprise the Python Library. To use these elements, one imports them.\n",
    "These libraries below are what we are using in this demo."
   ]
  },
  {
   "cell_type": "code",
   "execution_count": 27,
   "metadata": {
    "collapsed": true
   },
   "outputs": [],
   "source": [
    "import pandas as pd\n",
    "import json\n",
    "from collections import Counter\n",
    "from nltk.corpus import stopwords\n",
    "from nltk.tokenize import word_tokenize\n",
    "from nltk.corpus import wordnet as wn\n",
    "from nltk.stem.snowball import SnowballStemmer"
   ]
  },
  {
   "cell_type": "markdown",
   "metadata": {},
   "source": [
    "## Data Source\n",
    "http://www.presidency.ucsb.edu/2016_election.php "
   ]
  },
  {
   "cell_type": "code",
   "execution_count": 28,
   "metadata": {
    "collapsed": true,
    "scrolled": true
   },
   "outputs": [],
   "source": [
    "# All the csv files are prepared.\n",
    "# We are not going to cover web scraping but you can see the code later if you have interest.\n",
    "\n",
    "# Loading csv data to jupyter notebook and save it as table.\n",
    "\n",
    "clinton_press = pd.read_csv(\"../mft_data/csv/Clinton_p.csv\")"
   ]
  },
  {
   "cell_type": "markdown",
   "metadata": {},
   "source": [
    "## Using DataFrame in pandas\n"
   ]
  },
  {
   "cell_type": "markdown",
   "metadata": {},
   "source": [
    "A DataFrame is a 2-dimensional labeled data structure with columns of potentially different types. You can think of it like a spreadsheet or table.\n",
    "\n",
    "Each row represents one **entry**: in this case, a speech, statement, or press release. Each column column describes an **aspect** of entries, like the title or date of the speech.\n",
    "\n",
    "The `head()` function shows us the first five rows of the table."
   ]
  },
  {
   "cell_type": "code",
   "execution_count": 29,
   "metadata": {
    "collapsed": true
   },
   "outputs": [
    {
     "data": {
      "text/html": [
       "<div>\n",
       "<style scoped>\n",
       "    .dataframe tbody tr th:only-of-type {\n",
       "        vertical-align: middle;\n",
       "    }\n",
       "\n",
       "    .dataframe tbody tr th {\n",
       "        vertical-align: top;\n",
       "    }\n",
       "\n",
       "    .dataframe thead th {\n",
       "        text-align: right;\n",
       "    }\n",
       "</style>\n",
       "<table border=\"1\" class=\"dataframe\">\n",
       "  <thead>\n",
       "    <tr style=\"text-align: right;\">\n",
       "      <th></th>\n",
       "      <th>Candidate</th>\n",
       "      <th>Party</th>\n",
       "      <th>Type</th>\n",
       "      <th>Date</th>\n",
       "      <th>Title</th>\n",
       "      <th>Speech</th>\n",
       "    </tr>\n",
       "  </thead>\n",
       "  <tbody>\n",
       "    <tr>\n",
       "      <th>0</th>\n",
       "      <td>Hillary Clinton</td>\n",
       "      <td>D</td>\n",
       "      <td>p</td>\n",
       "      <td>January 20, 2007</td>\n",
       "      <td>Press Release - Clinton Candidacy Garners Huge...</td>\n",
       "      <td>Campaign web site signs up 100 new members per...</td>\n",
       "    </tr>\n",
       "    <tr>\n",
       "      <th>1</th>\n",
       "      <td>Hillary Clinton</td>\n",
       "      <td>D</td>\n",
       "      <td>p</td>\n",
       "      <td>January 20, 2007</td>\n",
       "      <td>FYI: New Washington Post-ABC Poll Shows Senato...</td>\n",
       "      <td>The new Washington Post-ABC poll out this afte...</td>\n",
       "    </tr>\n",
       "    <tr>\n",
       "      <th>2</th>\n",
       "      <td>Hillary Clinton</td>\n",
       "      <td>D</td>\n",
       "      <td>p</td>\n",
       "      <td>January 21, 2007</td>\n",
       "      <td>Press Release - 24 Hours Later, the Reviews Ar...</td>\n",
       "      <td>Top pundits on Hillary's announcement: 'brilli...</td>\n",
       "    </tr>\n",
       "    <tr>\n",
       "      <th>3</th>\n",
       "      <td>Hillary Clinton</td>\n",
       "      <td>D</td>\n",
       "      <td>p</td>\n",
       "      <td>January 22, 2007</td>\n",
       "      <td>Press Release - Conversation Begins Tonight</td>\n",
       "      <td>Senator Clinton's first video webcast is live ...</td>\n",
       "    </tr>\n",
       "    <tr>\n",
       "      <th>4</th>\n",
       "      <td>Hillary Clinton</td>\n",
       "      <td>D</td>\n",
       "      <td>p</td>\n",
       "      <td>January 25, 2007</td>\n",
       "      <td>Press Release - Clinton Hires Former Harkin Ch...</td>\n",
       "      <td>Fourth-generation Iowan is veteran of numerous...</td>\n",
       "    </tr>\n",
       "  </tbody>\n",
       "</table>\n",
       "</div>"
      ],
      "text/plain": [
       "          Candidate Party Type              Date  \\\n",
       "0  Hillary Clinton      D    p  January 20, 2007   \n",
       "1  Hillary Clinton      D    p  January 20, 2007   \n",
       "2  Hillary Clinton      D    p  January 21, 2007   \n",
       "3  Hillary Clinton      D    p  January 22, 2007   \n",
       "4  Hillary Clinton      D    p  January 25, 2007   \n",
       "\n",
       "                                               Title  \\\n",
       "0  Press Release - Clinton Candidacy Garners Huge...   \n",
       "1  FYI: New Washington Post-ABC Poll Shows Senato...   \n",
       "2  Press Release - 24 Hours Later, the Reviews Ar...   \n",
       "3        Press Release - Conversation Begins Tonight   \n",
       "4  Press Release - Clinton Hires Former Harkin Ch...   \n",
       "\n",
       "                                              Speech  \n",
       "0  Campaign web site signs up 100 new members per...  \n",
       "1  The new Washington Post-ABC poll out this afte...  \n",
       "2  Top pundits on Hillary's announcement: 'brilli...  \n",
       "3  Senator Clinton's first video webcast is live ...  \n",
       "4  Fourth-generation Iowan is veteran of numerous...  "
      ]
     },
     "execution_count": 29,
     "metadata": {},
     "output_type": "execute_result"
    }
   ],
   "source": [
    "clinton_press.head()"
   ]
  },
  {
   "cell_type": "markdown",
   "metadata": {},
   "source": [
    "While `shape` shows the number of rows and columns."
   ]
  },
  {
   "cell_type": "code",
   "execution_count": 30,
   "metadata": {
    "collapsed": true,
    "scrolled": true
   },
   "outputs": [
    {
     "data": {
      "text/plain": [
       "(1925, 6)"
      ]
     },
     "execution_count": 30,
     "metadata": {},
     "output_type": "execute_result"
    }
   ],
   "source": [
    "# A csv file is either campaign speeches, statements or press releases of a candidate.\n",
    "# This is an example of candiate \"Hillary\" and her press releases\n",
    "# A single press release is saved in \"Speech\" column\n",
    "# How many press releases do we have?\n",
    "clinton_press.shape"
   ]
  },
  {
   "cell_type": "markdown",
   "metadata": {},
   "source": [
    "To select a single column, put the column name in square brackets next to the DataFrame (similar to looking up an entry in a Python dictionary)."
   ]
  },
  {
   "cell_type": "code",
   "execution_count": 31,
   "metadata": {
    "collapsed": true
   },
   "outputs": [
    {
     "data": {
      "text/plain": [
       "0    Press Release - Clinton Candidacy Garners Huge...\n",
       "1    FYI: New Washington Post-ABC Poll Shows Senato...\n",
       "2    Press Release - 24 Hours Later, the Reviews Ar...\n",
       "3          Press Release - Conversation Begins Tonight\n",
       "4    Press Release - Clinton Hires Former Harkin Ch...\n",
       "Name: Title, dtype: object"
      ]
     },
     "execution_count": 31,
     "metadata": {},
     "output_type": "execute_result"
    }
   ],
   "source": [
    "# Selecting a single column\n",
    "title_col = clinton_press['Title']\n",
    "title_col.head()"
   ]
  },
  {
   "cell_type": "markdown",
   "metadata": {},
   "source": [
    "Items in a column can be accessed like items in a Python list using square brackets."
   ]
  },
  {
   "cell_type": "code",
   "execution_count": 32,
   "metadata": {
    "collapsed": true
   },
   "outputs": [
    {
     "data": {
      "text/plain": [
       "'Press Release - Clinton Candidacy Garners Huge Online Response'"
      ]
     },
     "execution_count": 32,
     "metadata": {},
     "output_type": "execute_result"
    }
   ],
   "source": [
    "title_col[0]"
   ]
  },
  {
   "cell_type": "markdown",
   "metadata": {},
   "source": [
    "Select a row using `.loc[]` with the number of the row inside the brackets. \n",
    "\n",
    "A range of rows can be selected by giving two numbers separated by a colon. The first number is the first row returned, and the last number is the last row returned."
   ]
  },
  {
   "cell_type": "code",
   "execution_count": 33,
   "metadata": {
    "collapsed": true
   },
   "outputs": [
    {
     "data": {
      "text/plain": [
       "Candidate                                     Hillary Clinton \n",
       "Party                                                        D\n",
       "Type                                                         p\n",
       "Date                                          January 20, 2007\n",
       "Title        FYI: New Washington Post-ABC Poll Shows Senato...\n",
       "Speech       The new Washington Post-ABC poll out this afte...\n",
       "Name: 1, dtype: object"
      ]
     },
     "execution_count": 33,
     "metadata": {},
     "output_type": "execute_result"
    }
   ],
   "source": [
    "# Locate the 1st row\n",
    "clinton_press.loc[1]"
   ]
  },
  {
   "cell_type": "code",
   "execution_count": 34,
   "metadata": {
    "collapsed": true
   },
   "outputs": [
    {
     "data": {
      "text/html": [
       "<div>\n",
       "<style scoped>\n",
       "    .dataframe tbody tr th:only-of-type {\n",
       "        vertical-align: middle;\n",
       "    }\n",
       "\n",
       "    .dataframe tbody tr th {\n",
       "        vertical-align: top;\n",
       "    }\n",
       "\n",
       "    .dataframe thead th {\n",
       "        text-align: right;\n",
       "    }\n",
       "</style>\n",
       "<table border=\"1\" class=\"dataframe\">\n",
       "  <thead>\n",
       "    <tr style=\"text-align: right;\">\n",
       "      <th></th>\n",
       "      <th>Candidate</th>\n",
       "      <th>Party</th>\n",
       "      <th>Type</th>\n",
       "      <th>Date</th>\n",
       "      <th>Title</th>\n",
       "      <th>Speech</th>\n",
       "    </tr>\n",
       "  </thead>\n",
       "  <tbody>\n",
       "    <tr>\n",
       "      <th>50</th>\n",
       "      <td>Hillary Clinton</td>\n",
       "      <td>D</td>\n",
       "      <td>p</td>\n",
       "      <td>April 1, 2007</td>\n",
       "      <td>Press Release - Clinton Reports $36 Million in...</td>\n",
       "      <td>Total includes $26 million raised since Jan 20...</td>\n",
       "    </tr>\n",
       "    <tr>\n",
       "      <th>51</th>\n",
       "      <td>Hillary Clinton</td>\n",
       "      <td>D</td>\n",
       "      <td>p</td>\n",
       "      <td>April 2, 2007</td>\n",
       "      <td>Gov. Corzine, NJ Officials Endorse Clinton</td>\n",
       "      <td>The Clinton Campaign today announced the endor...</td>\n",
       "    </tr>\n",
       "    <tr>\n",
       "      <th>52</th>\n",
       "      <td>Hillary Clinton</td>\n",
       "      <td>D</td>\n",
       "      <td>p</td>\n",
       "      <td>April 3, 2007</td>\n",
       "      <td>Press Release - Clinton Launches Petition Call...</td>\n",
       "      <td>Bush Renews Veto Threat Today, Defying Congres...</td>\n",
       "    </tr>\n",
       "    <tr>\n",
       "      <th>53</th>\n",
       "      <td>Hillary Clinton</td>\n",
       "      <td>D</td>\n",
       "      <td>p</td>\n",
       "      <td>April 5, 2007</td>\n",
       "      <td>Press Release - Nine More NH State Representat...</td>\n",
       "      <td>NH House Support Continues to Grow; Now Totals...</td>\n",
       "    </tr>\n",
       "    <tr>\n",
       "      <th>54</th>\n",
       "      <td>Hillary Clinton</td>\n",
       "      <td>D</td>\n",
       "      <td>p</td>\n",
       "      <td>April 6, 2007</td>\n",
       "      <td>Clinton to Participate in South Carolina Debate</td>\n",
       "      <td>The Clinton campaign announced today that Hill...</td>\n",
       "    </tr>\n",
       "    <tr>\n",
       "      <th>55</th>\n",
       "      <td>Hillary Clinton</td>\n",
       "      <td>D</td>\n",
       "      <td>p</td>\n",
       "      <td>April 10, 2007</td>\n",
       "      <td>Press Release - From the Senate: Senator Clint...</td>\n",
       "      <td>Visit to three Upstate New York VA &amp; Military ...</td>\n",
       "    </tr>\n",
       "  </tbody>\n",
       "</table>\n",
       "</div>"
      ],
      "text/plain": [
       "           Candidate Party Type            Date  \\\n",
       "50  Hillary Clinton      D    p   April 1, 2007   \n",
       "51  Hillary Clinton      D    p   April 2, 2007   \n",
       "52  Hillary Clinton      D    p   April 3, 2007   \n",
       "53  Hillary Clinton      D    p   April 5, 2007   \n",
       "54  Hillary Clinton      D    p   April 6, 2007   \n",
       "55  Hillary Clinton      D    p  April 10, 2007   \n",
       "\n",
       "                                                Title  \\\n",
       "50  Press Release - Clinton Reports $36 Million in...   \n",
       "51         Gov. Corzine, NJ Officials Endorse Clinton   \n",
       "52  Press Release - Clinton Launches Petition Call...   \n",
       "53  Press Release - Nine More NH State Representat...   \n",
       "54    Clinton to Participate in South Carolina Debate   \n",
       "55  Press Release - From the Senate: Senator Clint...   \n",
       "\n",
       "                                               Speech  \n",
       "50  Total includes $26 million raised since Jan 20...  \n",
       "51  The Clinton Campaign today announced the endor...  \n",
       "52  Bush Renews Veto Threat Today, Defying Congres...  \n",
       "53  NH House Support Continues to Grow; Now Totals...  \n",
       "54  The Clinton campaign announced today that Hill...  \n",
       "55  Visit to three Upstate New York VA & Military ...  "
      ]
     },
     "execution_count": 34,
     "metadata": {},
     "output_type": "execute_result"
    }
   ],
   "source": [
    "# Locate the 50th-55th rows\n",
    "clinton_press.loc[50:55]"
   ]
  },
  {
   "cell_type": "markdown",
   "metadata": {},
   "source": [
    "These filtering tools help us in text analysis. In the next section, we'll analyze the first speech in the DataFrame. Run the next cell to select the speech and save it to a variable."
   ]
  },
  {
   "cell_type": "code",
   "execution_count": 35,
   "metadata": {
    "collapsed": true
   },
   "outputs": [
    {
     "data": {
      "text/plain": [
       "'Campaign web site signs up 100 new members per minute, racks up 10,000 messages of support within 6 hours of announcement  Clinton candidacy hailed online as \"profoundly moving\"; \"top tier\"; \"exciting\"; \"remarkable\"; \"smart\"; and \"news of a generation\" Demonstrating the groundswell of enthusiasm generated by her historic candidacy, Senator Hillary Rodham Clinton\\'s announcement for President lit up the internet today, garnering rave reviews in the blogosphere, and thousands of supporters flocking to her web site each hour. Within just six hours of the announcement going live on her campaign web site, Senator Clinton\\'s candidacy attracted thousands of messages of support, and widespread accolades online. Overwhelming Response Within Hours of Going Live:  SIGN UPS = 100 per minute MESSAGES OF SUPPORT = 10,000 VIDEO WEBCAST SIGN-UPS = 7,700 BLOG CONTEST SUBMISSIONS = 2,200  Bloggers Give Clinton Announcement Rave Reviews: MYDD (Jerome Armstrong) - \"And as blogger savvy as John Edwards was in outreach, Clinton internet team had the emails of bloggers to notify them separate from the press (no such outreach from the Obama camp). The website has the clean, Kerry-2004 look about it. A smart \"write our first post\" call to action on the website. The announcement of \"an unprecedented series of video webcasts beginning Monday, January 22nd at 7pm EST for three nights\" creates a quick narrative of interaction and response around Bush\\'s SOTU address.\" DAILY KOS DIARY (nyceve) - \"I\\'m an open and honest person, and I\\'m profoundly moved by her announcement. What was unimaginable just a few decades ago, is now something we can almost touch.\" THE CARPETBAGGER REPORT - \"Clinton enters the race, without a doubt, at the top of the top tier. I\\'ve heard all the various concerns about her candidacy, but I don\\'t have any doubt that she has what it takes to win. Indeed, Clinton brings an enormous amount of talent, experience, and intelligence to the table.\" TAYLOR MARSH - \"Sitting in a living room setting, Senator Hillary Clinton made one simple statement that changed the landscape of the \\'08 presidential tournament to come. (To add, I got an email about this event this morning just after 6:00 a.m.) Because when the first woman to run for president, with an actual chance of winning, puts her name and reputation on the line, it becomes news of the day, week, even a generation.\" TALK LEFT - It is exciting to have a serious female candidate for President. OUTSIDE THE BELTWAY - After nearly eight years of speculation, Hillary Clinton has announced her candidacy for president.... she has done a remarkable job these past several years getting out of her husband\\'s shadow, positioning herself as more moderate than previously thought, and garnering bipartisan praise for collegiality and hard work in the Senate. DAILY KOS DIARY (Yellow Dog Blue) - \"How has she survived and thrived? Not by heavying up her armor. Not by engaging and overwhelming her opponents. Not even by appealing for public sympathy. Instead Hillary has just gone her business being a Senator, building personal relationships and support, getting and using power. And I really admire that.\" SEEING THE FOREST (Dave Johnson) - \"People say Hillary Clinton has \"baggage\" and is \"divisive.\" Actually she has been investigated more thoroughly than almost anyone in the country\\'s history and they found nothing at all. It isn\\'t Hillary who is divisive, it\\'s the people making all the accusations.\"'"
      ]
     },
     "execution_count": 35,
     "metadata": {},
     "output_type": "execute_result"
    }
   ],
   "source": [
    "a_speech = clinton_press[\"Speech\"][0]\n",
    "a_speech"
   ]
  },
  {
   "cell_type": "markdown",
   "metadata": {},
   "source": [
    "## Using String and split\n",
    "\n",
    "When you break a large string down into smaller chunks, or strings.\n",
    "\n"
   ]
  },
  {
   "cell_type": "code",
   "execution_count": 36,
   "metadata": {
    "collapsed": true
   },
   "outputs": [
    {
     "data": {
      "text/plain": [
       "['This', 'is', 'random', 'text', 'we’re', 'going', 'to', 'split', 'apart']"
      ]
     },
     "execution_count": 36,
     "metadata": {},
     "output_type": "execute_result"
    }
   ],
   "source": [
    "sentence = \"This is random text we’re going to split apart\"\n",
    "words = sentence.split(\" \")\n",
    "words"
   ]
  },
  {
   "cell_type": "code",
   "execution_count": 37,
   "metadata": {
    "collapsed": true
   },
   "outputs": [],
   "source": [
    "# Splitting speech by words\n",
    "by_words = a_speech.split(' ')"
   ]
  },
  {
   "cell_type": "markdown",
   "metadata": {},
   "source": [
    "## Counting words\n",
    "A Counter is a dict subclass for counting. most_common() returns all elements in the counter."
   ]
  },
  {
   "cell_type": "code",
   "execution_count": 38,
   "metadata": {
    "collapsed": true
   },
   "outputs": [
    {
     "data": {
      "text/plain": [
       "Counter({'': 3,\n",
       "         '\"And': 1,\n",
       "         '\"Clinton': 1,\n",
       "         '\"How': 1,\n",
       "         '\"I\\'m': 1,\n",
       "         '\"People': 1,\n",
       "         '\"Sitting': 1,\n",
       "         '\"an': 1,\n",
       "         '\"baggage\"': 1,\n",
       "         '\"divisive.\"': 1,\n",
       "         '\"exciting\";': 1,\n",
       "         '\"news': 1,\n",
       "         '\"profoundly': 1,\n",
       "         '\"remarkable\";': 1,\n",
       "         '\"smart\";': 1,\n",
       "         '\"top': 1,\n",
       "         '\"write': 1,\n",
       "         \"'08\": 1,\n",
       "         '(Dave': 1,\n",
       "         '(Jerome': 1,\n",
       "         '(To': 1,\n",
       "         '(Yellow': 1,\n",
       "         '(no': 1,\n",
       "         '(nyceve)': 1,\n",
       "         '-': 8,\n",
       "         '10,000': 2,\n",
       "         '100': 2,\n",
       "         '2,200': 1,\n",
       "         '22nd': 1,\n",
       "         '6': 1,\n",
       "         '6:00': 1,\n",
       "         '7,700': 1,\n",
       "         '7pm': 1,\n",
       "         '=': 4,\n",
       "         'A': 1,\n",
       "         'Actually': 1,\n",
       "         'After': 1,\n",
       "         'And': 1,\n",
       "         'Announcement': 1,\n",
       "         'Armstrong)': 1,\n",
       "         'BELTWAY': 1,\n",
       "         'BLOG': 1,\n",
       "         'Because': 1,\n",
       "         'Bloggers': 1,\n",
       "         'Blue)': 1,\n",
       "         \"Bush's\": 1,\n",
       "         'CARPETBAGGER': 1,\n",
       "         'CONTEST': 1,\n",
       "         'Campaign': 1,\n",
       "         'Clinton': 7,\n",
       "         \"Clinton's\": 2,\n",
       "         'DAILY': 2,\n",
       "         'DIARY': 2,\n",
       "         'Demonstrating': 1,\n",
       "         'Dog': 1,\n",
       "         'EST': 1,\n",
       "         'Edwards': 1,\n",
       "         'FOREST': 1,\n",
       "         'Give': 1,\n",
       "         'Going': 1,\n",
       "         'Hillary': 6,\n",
       "         'Hours': 1,\n",
       "         'I': 3,\n",
       "         \"I'm\": 1,\n",
       "         \"I've\": 1,\n",
       "         'Indeed,': 1,\n",
       "         'Instead': 1,\n",
       "         'It': 2,\n",
       "         'January': 1,\n",
       "         'John': 1,\n",
       "         'Johnson)': 1,\n",
       "         'KOS': 2,\n",
       "         'Kerry-2004': 1,\n",
       "         'LEFT': 1,\n",
       "         'Live:': 1,\n",
       "         'MARSH': 1,\n",
       "         'MESSAGES': 1,\n",
       "         'MYDD': 1,\n",
       "         'Monday,': 1,\n",
       "         'Not': 3,\n",
       "         'OF': 1,\n",
       "         'OUTSIDE': 1,\n",
       "         'Obama': 1,\n",
       "         'Overwhelming': 1,\n",
       "         'President': 1,\n",
       "         'President.': 1,\n",
       "         'REPORT': 1,\n",
       "         'Rave': 1,\n",
       "         'Response': 1,\n",
       "         'Reviews:': 1,\n",
       "         'Rodham': 1,\n",
       "         'SEEING': 1,\n",
       "         'SIGN': 1,\n",
       "         'SIGN-UPS': 1,\n",
       "         'SOTU': 1,\n",
       "         'SUBMISSIONS': 1,\n",
       "         'SUPPORT': 1,\n",
       "         'Senate.': 1,\n",
       "         'Senator': 3,\n",
       "         'Senator,': 1,\n",
       "         'TALK': 1,\n",
       "         'TAYLOR': 1,\n",
       "         'THE': 3,\n",
       "         'The': 2,\n",
       "         'UPS': 1,\n",
       "         'VIDEO': 1,\n",
       "         'WEBCAST': 1,\n",
       "         'What': 1,\n",
       "         'Within': 2,\n",
       "         'a': 9,\n",
       "         'a.m.)': 1,\n",
       "         'about': 3,\n",
       "         'accolades': 1,\n",
       "         'accusations.\"': 1,\n",
       "         'action': 1,\n",
       "         'actual': 1,\n",
       "         'add,': 1,\n",
       "         'address.\"': 1,\n",
       "         'admire': 1,\n",
       "         'after': 1,\n",
       "         'ago,': 1,\n",
       "         'all': 2,\n",
       "         'all.': 1,\n",
       "         'almost': 2,\n",
       "         'amount': 1,\n",
       "         'an': 4,\n",
       "         'and': 16,\n",
       "         'announced': 1,\n",
       "         'announcement': 4,\n",
       "         'announcement.': 1,\n",
       "         'any': 1,\n",
       "         'anyone': 1,\n",
       "         'appealing': 1,\n",
       "         'armor.': 1,\n",
       "         'around': 1,\n",
       "         'as': 4,\n",
       "         'at': 3,\n",
       "         'attracted': 1,\n",
       "         'becomes': 1,\n",
       "         'been': 1,\n",
       "         'beginning': 1,\n",
       "         'being': 1,\n",
       "         'bipartisan': 1,\n",
       "         'blogger': 1,\n",
       "         'bloggers': 1,\n",
       "         'blogosphere,': 1,\n",
       "         'brings': 1,\n",
       "         'building': 1,\n",
       "         'business': 1,\n",
       "         'but': 1,\n",
       "         'by': 5,\n",
       "         'call': 1,\n",
       "         'camp).': 1,\n",
       "         'campaign': 1,\n",
       "         'can': 1,\n",
       "         'candidacy': 3,\n",
       "         'candidacy,': 2,\n",
       "         'candidate': 1,\n",
       "         'chance': 1,\n",
       "         'changed': 1,\n",
       "         'clean,': 1,\n",
       "         'collegiality': 1,\n",
       "         'come.': 1,\n",
       "         'concerns': 1,\n",
       "         \"country's\": 1,\n",
       "         'creates': 1,\n",
       "         'day,': 1,\n",
       "         'decades': 1,\n",
       "         'divisive,': 1,\n",
       "         \"don't\": 1,\n",
       "         'done': 1,\n",
       "         'doubt': 1,\n",
       "         'doubt,': 1,\n",
       "         'each': 1,\n",
       "         'eight': 1,\n",
       "         'email': 1,\n",
       "         'emails': 1,\n",
       "         'engaging': 1,\n",
       "         'enormous': 1,\n",
       "         'enters': 1,\n",
       "         'enthusiasm': 1,\n",
       "         'even': 2,\n",
       "         'event': 1,\n",
       "         'exciting': 1,\n",
       "         'experience,': 1,\n",
       "         'female': 1,\n",
       "         'few': 1,\n",
       "         'first': 2,\n",
       "         'flocking': 1,\n",
       "         'for': 7,\n",
       "         'found': 1,\n",
       "         'from': 2,\n",
       "         'garnering': 2,\n",
       "         'generated': 1,\n",
       "         'generation\"': 1,\n",
       "         'generation.\"': 1,\n",
       "         'getting': 2,\n",
       "         'going': 1,\n",
       "         'gone': 1,\n",
       "         'got': 1,\n",
       "         'groundswell': 1,\n",
       "         'had': 1,\n",
       "         'hailed': 1,\n",
       "         'hard': 1,\n",
       "         'has': 8,\n",
       "         'have': 2,\n",
       "         'heard': 1,\n",
       "         'heavying': 1,\n",
       "         'her': 11,\n",
       "         'herself': 1,\n",
       "         'historic': 1,\n",
       "         'history': 1,\n",
       "         'honest': 1,\n",
       "         'hour.': 1,\n",
       "         'hours': 2,\n",
       "         \"husband's\": 1,\n",
       "         'in': 5,\n",
       "         'intelligence': 1,\n",
       "         'interaction': 1,\n",
       "         'internet': 2,\n",
       "         'investigated': 1,\n",
       "         'is': 4,\n",
       "         \"isn't\": 1,\n",
       "         'it': 2,\n",
       "         \"it's\": 1,\n",
       "         'it.': 1,\n",
       "         'job': 1,\n",
       "         'just': 4,\n",
       "         'landscape': 1,\n",
       "         'line,': 1,\n",
       "         'lit': 1,\n",
       "         'live': 1,\n",
       "         'living': 1,\n",
       "         'look': 1,\n",
       "         'made': 1,\n",
       "         'making': 1,\n",
       "         'members': 1,\n",
       "         'messages': 2,\n",
       "         'minute': 1,\n",
       "         'minute,': 1,\n",
       "         'moderate': 1,\n",
       "         'more': 2,\n",
       "         'morning': 1,\n",
       "         'moved': 1,\n",
       "         'moving\";': 1,\n",
       "         'name': 1,\n",
       "         'narrative': 1,\n",
       "         'nearly': 1,\n",
       "         'new': 1,\n",
       "         'news': 1,\n",
       "         'nights\"': 1,\n",
       "         'nothing': 1,\n",
       "         'notify': 1,\n",
       "         'now': 1,\n",
       "         'of': 20,\n",
       "         'on': 3,\n",
       "         'one': 1,\n",
       "         'online': 1,\n",
       "         'online.': 1,\n",
       "         'open': 1,\n",
       "         'opponents.': 1,\n",
       "         'our': 1,\n",
       "         'out': 1,\n",
       "         'outreach': 1,\n",
       "         'outreach,': 1,\n",
       "         'overwhelming': 1,\n",
       "         'past': 1,\n",
       "         'people': 1,\n",
       "         'per': 2,\n",
       "         'person,': 1,\n",
       "         'personal': 1,\n",
       "         'positioning': 1,\n",
       "         'post\"': 1,\n",
       "         'power.': 1,\n",
       "         'praise': 1,\n",
       "         'president,': 1,\n",
       "         'president....': 1,\n",
       "         'presidential': 1,\n",
       "         'press': 1,\n",
       "         'previously': 1,\n",
       "         'profoundly': 1,\n",
       "         'public': 1,\n",
       "         'puts': 1,\n",
       "         'quick': 1,\n",
       "         'race,': 1,\n",
       "         'racks': 1,\n",
       "         'rave': 1,\n",
       "         'really': 1,\n",
       "         'relationships': 1,\n",
       "         'remarkable': 1,\n",
       "         'reputation': 1,\n",
       "         'response': 1,\n",
       "         'reviews': 1,\n",
       "         'room': 1,\n",
       "         'run': 1,\n",
       "         'savvy': 1,\n",
       "         'say': 1,\n",
       "         'separate': 1,\n",
       "         'series': 1,\n",
       "         'serious': 1,\n",
       "         'setting,': 1,\n",
       "         'several': 1,\n",
       "         'shadow,': 1,\n",
       "         'she': 4,\n",
       "         'signs': 1,\n",
       "         'simple': 1,\n",
       "         'site': 2,\n",
       "         'site,': 1,\n",
       "         'six': 1,\n",
       "         'smart': 1,\n",
       "         'something': 1,\n",
       "         'speculation,': 1,\n",
       "         'statement': 1,\n",
       "         'such': 1,\n",
       "         'support': 1,\n",
       "         'support,': 2,\n",
       "         'supporters': 1,\n",
       "         'survived': 1,\n",
       "         'sympathy.': 1,\n",
       "         'table.\"': 1,\n",
       "         'takes': 1,\n",
       "         'talent,': 1,\n",
       "         'team': 1,\n",
       "         'than': 2,\n",
       "         'that': 2,\n",
       "         'that.\"': 1,\n",
       "         'the': 23,\n",
       "         'them': 1,\n",
       "         'these': 1,\n",
       "         'they': 1,\n",
       "         'this': 2,\n",
       "         'thoroughly': 1,\n",
       "         'thought,': 1,\n",
       "         'thousands': 2,\n",
       "         'three': 1,\n",
       "         'thrived?': 1,\n",
       "         'tier\";': 1,\n",
       "         'tier.': 1,\n",
       "         'to': 8,\n",
       "         'today,': 1,\n",
       "         'top': 2,\n",
       "         'touch.\"': 1,\n",
       "         'tournament': 1,\n",
       "         'unimaginable': 1,\n",
       "         'unprecedented': 1,\n",
       "         'up': 4,\n",
       "         'using': 1,\n",
       "         'various': 1,\n",
       "         'video': 1,\n",
       "         'was': 2,\n",
       "         'we': 1,\n",
       "         'web': 3,\n",
       "         'webcasts': 1,\n",
       "         'website': 1,\n",
       "         'website.': 1,\n",
       "         'week,': 1,\n",
       "         'what': 1,\n",
       "         'when': 1,\n",
       "         'who': 1,\n",
       "         'widespread': 1,\n",
       "         'win.': 1,\n",
       "         'winning,': 1,\n",
       "         'with': 1,\n",
       "         'within': 1,\n",
       "         'without': 1,\n",
       "         'woman': 1,\n",
       "         'work': 1,\n",
       "         'years': 2})"
      ]
     },
     "execution_count": 38,
     "metadata": {},
     "output_type": "execute_result"
    }
   ],
   "source": [
    "# Counting the number of words showed up in a speech\n",
    "count_words_freq = Counter(by_words)\n",
    "count_words_freq"
   ]
  },
  {
   "cell_type": "code",
   "execution_count": 39,
   "metadata": {
    "collapsed": true
   },
   "outputs": [
    {
     "data": {
      "text/plain": [
       "[('the', 23),\n",
       " ('of', 20),\n",
       " ('and', 16),\n",
       " ('her', 11),\n",
       " ('a', 9),\n",
       " ('to', 8),\n",
       " ('-', 8),\n",
       " ('has', 8),\n",
       " ('Clinton', 7),\n",
       " ('for', 7),\n",
       " ('Hillary', 6),\n",
       " ('by', 5),\n",
       " ('in', 5),\n",
       " ('up', 4),\n",
       " ('announcement', 4),\n",
       " ('as', 4),\n",
       " ('just', 4),\n",
       " ('=', 4),\n",
       " ('an', 4),\n",
       " ('is', 4),\n",
       " ('she', 4),\n",
       " ('web', 3),\n",
       " ('', 3),\n",
       " ('candidacy', 3),\n",
       " ('Senator', 3),\n",
       " ('on', 3),\n",
       " ('about', 3),\n",
       " ('at', 3),\n",
       " ('THE', 3),\n",
       " ('I', 3),\n",
       " ('Not', 3),\n",
       " ('site', 2),\n",
       " ('100', 2),\n",
       " ('per', 2),\n",
       " ('10,000', 2),\n",
       " ('messages', 2),\n",
       " ('hours', 2),\n",
       " ('candidacy,', 2),\n",
       " (\"Clinton's\", 2),\n",
       " ('internet', 2),\n",
       " ('garnering', 2),\n",
       " ('thousands', 2),\n",
       " ('Within', 2),\n",
       " ('support,', 2),\n",
       " ('was', 2),\n",
       " ('from', 2),\n",
       " ('The', 2),\n",
       " ('first', 2),\n",
       " ('DAILY', 2),\n",
       " ('KOS', 2),\n",
       " ('DIARY', 2),\n",
       " ('almost', 2),\n",
       " ('top', 2),\n",
       " ('all', 2),\n",
       " ('have', 2),\n",
       " ('that', 2),\n",
       " ('it', 2),\n",
       " ('this', 2),\n",
       " ('even', 2),\n",
       " ('It', 2),\n",
       " ('years', 2),\n",
       " ('getting', 2),\n",
       " ('more', 2),\n",
       " ('than', 2),\n",
       " ('Campaign', 1),\n",
       " ('signs', 1),\n",
       " ('new', 1),\n",
       " ('members', 1),\n",
       " ('minute,', 1),\n",
       " ('racks', 1),\n",
       " ('support', 1),\n",
       " ('within', 1),\n",
       " ('6', 1),\n",
       " ('hailed', 1),\n",
       " ('online', 1),\n",
       " ('\"profoundly', 1),\n",
       " ('moving\";', 1),\n",
       " ('\"top', 1),\n",
       " ('tier\";', 1),\n",
       " ('\"exciting\";', 1),\n",
       " ('\"remarkable\";', 1),\n",
       " ('\"smart\";', 1),\n",
       " ('\"news', 1),\n",
       " ('generation\"', 1),\n",
       " ('Demonstrating', 1),\n",
       " ('groundswell', 1),\n",
       " ('enthusiasm', 1),\n",
       " ('generated', 1),\n",
       " ('historic', 1),\n",
       " ('Rodham', 1),\n",
       " ('President', 1),\n",
       " ('lit', 1),\n",
       " ('today,', 1),\n",
       " ('rave', 1),\n",
       " ('reviews', 1),\n",
       " ('blogosphere,', 1),\n",
       " ('supporters', 1),\n",
       " ('flocking', 1),\n",
       " ('each', 1),\n",
       " ('hour.', 1),\n",
       " ('six', 1),\n",
       " ('going', 1),\n",
       " ('live', 1),\n",
       " ('campaign', 1),\n",
       " ('site,', 1),\n",
       " ('attracted', 1),\n",
       " ('widespread', 1),\n",
       " ('accolades', 1),\n",
       " ('online.', 1),\n",
       " ('Overwhelming', 1),\n",
       " ('Response', 1),\n",
       " ('Hours', 1),\n",
       " ('Going', 1),\n",
       " ('Live:', 1),\n",
       " ('SIGN', 1),\n",
       " ('UPS', 1),\n",
       " ('minute', 1),\n",
       " ('MESSAGES', 1),\n",
       " ('OF', 1),\n",
       " ('SUPPORT', 1),\n",
       " ('VIDEO', 1),\n",
       " ('WEBCAST', 1),\n",
       " ('SIGN-UPS', 1),\n",
       " ('7,700', 1),\n",
       " ('BLOG', 1),\n",
       " ('CONTEST', 1),\n",
       " ('SUBMISSIONS', 1),\n",
       " ('2,200', 1),\n",
       " ('Bloggers', 1),\n",
       " ('Give', 1),\n",
       " ('Announcement', 1),\n",
       " ('Rave', 1),\n",
       " ('Reviews:', 1),\n",
       " ('MYDD', 1),\n",
       " ('(Jerome', 1),\n",
       " ('Armstrong)', 1),\n",
       " ('\"And', 1),\n",
       " ('blogger', 1),\n",
       " ('savvy', 1),\n",
       " ('John', 1),\n",
       " ('Edwards', 1),\n",
       " ('outreach,', 1),\n",
       " ('team', 1),\n",
       " ('had', 1),\n",
       " ('emails', 1),\n",
       " ('bloggers', 1),\n",
       " ('notify', 1),\n",
       " ('them', 1),\n",
       " ('separate', 1),\n",
       " ('press', 1),\n",
       " ('(no', 1),\n",
       " ('such', 1),\n",
       " ('outreach', 1),\n",
       " ('Obama', 1),\n",
       " ('camp).', 1),\n",
       " ('website', 1),\n",
       " ('clean,', 1),\n",
       " ('Kerry-2004', 1),\n",
       " ('look', 1),\n",
       " ('it.', 1),\n",
       " ('A', 1),\n",
       " ('smart', 1),\n",
       " ('\"write', 1),\n",
       " ('our', 1),\n",
       " ('post\"', 1),\n",
       " ('call', 1),\n",
       " ('action', 1),\n",
       " ('website.', 1),\n",
       " ('\"an', 1),\n",
       " ('unprecedented', 1),\n",
       " ('series', 1),\n",
       " ('video', 1),\n",
       " ('webcasts', 1),\n",
       " ('beginning', 1),\n",
       " ('Monday,', 1),\n",
       " ('January', 1),\n",
       " ('22nd', 1),\n",
       " ('7pm', 1),\n",
       " ('EST', 1),\n",
       " ('three', 1),\n",
       " ('nights\"', 1),\n",
       " ('creates', 1),\n",
       " ('quick', 1),\n",
       " ('narrative', 1),\n",
       " ('interaction', 1),\n",
       " ('response', 1),\n",
       " ('around', 1),\n",
       " (\"Bush's\", 1),\n",
       " ('SOTU', 1),\n",
       " ('address.\"', 1),\n",
       " ('(nyceve)', 1),\n",
       " ('\"I\\'m', 1),\n",
       " ('open', 1),\n",
       " ('honest', 1),\n",
       " ('person,', 1),\n",
       " (\"I'm\", 1),\n",
       " ('profoundly', 1),\n",
       " ('moved', 1),\n",
       " ('announcement.', 1),\n",
       " ('What', 1),\n",
       " ('unimaginable', 1),\n",
       " ('few', 1),\n",
       " ('decades', 1),\n",
       " ('ago,', 1),\n",
       " ('now', 1),\n",
       " ('something', 1),\n",
       " ('we', 1),\n",
       " ('can', 1),\n",
       " ('touch.\"', 1),\n",
       " ('CARPETBAGGER', 1),\n",
       " ('REPORT', 1),\n",
       " ('\"Clinton', 1),\n",
       " ('enters', 1),\n",
       " ('race,', 1),\n",
       " ('without', 1),\n",
       " ('doubt,', 1),\n",
       " ('tier.', 1),\n",
       " (\"I've\", 1),\n",
       " ('heard', 1),\n",
       " ('various', 1),\n",
       " ('concerns', 1),\n",
       " ('but', 1),\n",
       " (\"don't\", 1),\n",
       " ('any', 1),\n",
       " ('doubt', 1),\n",
       " ('what', 1),\n",
       " ('takes', 1),\n",
       " ('win.', 1),\n",
       " ('Indeed,', 1),\n",
       " ('brings', 1),\n",
       " ('enormous', 1),\n",
       " ('amount', 1),\n",
       " ('talent,', 1),\n",
       " ('experience,', 1),\n",
       " ('intelligence', 1),\n",
       " ('table.\"', 1),\n",
       " ('TAYLOR', 1),\n",
       " ('MARSH', 1),\n",
       " ('\"Sitting', 1),\n",
       " ('living', 1),\n",
       " ('room', 1),\n",
       " ('setting,', 1),\n",
       " ('made', 1),\n",
       " ('one', 1),\n",
       " ('simple', 1),\n",
       " ('statement', 1),\n",
       " ('changed', 1),\n",
       " ('landscape', 1),\n",
       " (\"'08\", 1),\n",
       " ('presidential', 1),\n",
       " ('tournament', 1),\n",
       " ('come.', 1),\n",
       " ('(To', 1),\n",
       " ('add,', 1),\n",
       " ('got', 1),\n",
       " ('email', 1),\n",
       " ('event', 1),\n",
       " ('morning', 1),\n",
       " ('after', 1),\n",
       " ('6:00', 1),\n",
       " ('a.m.)', 1),\n",
       " ('Because', 1),\n",
       " ('when', 1),\n",
       " ('woman', 1),\n",
       " ('run', 1),\n",
       " ('president,', 1),\n",
       " ('with', 1),\n",
       " ('actual', 1),\n",
       " ('chance', 1),\n",
       " ('winning,', 1),\n",
       " ('puts', 1),\n",
       " ('name', 1),\n",
       " ('reputation', 1),\n",
       " ('line,', 1),\n",
       " ('becomes', 1),\n",
       " ('news', 1),\n",
       " ('day,', 1),\n",
       " ('week,', 1),\n",
       " ('generation.\"', 1),\n",
       " ('TALK', 1),\n",
       " ('LEFT', 1),\n",
       " ('exciting', 1),\n",
       " ('serious', 1),\n",
       " ('female', 1),\n",
       " ('candidate', 1),\n",
       " ('President.', 1),\n",
       " ('OUTSIDE', 1),\n",
       " ('BELTWAY', 1),\n",
       " ('After', 1),\n",
       " ('nearly', 1),\n",
       " ('eight', 1),\n",
       " ('speculation,', 1),\n",
       " ('announced', 1),\n",
       " ('president....', 1),\n",
       " ('done', 1),\n",
       " ('remarkable', 1),\n",
       " ('job', 1),\n",
       " ('these', 1),\n",
       " ('past', 1),\n",
       " ('several', 1),\n",
       " ('out', 1),\n",
       " (\"husband's\", 1),\n",
       " ('shadow,', 1),\n",
       " ('positioning', 1),\n",
       " ('herself', 1),\n",
       " ('moderate', 1),\n",
       " ('previously', 1),\n",
       " ('thought,', 1),\n",
       " ('bipartisan', 1),\n",
       " ('praise', 1),\n",
       " ('collegiality', 1),\n",
       " ('hard', 1),\n",
       " ('work', 1),\n",
       " ('Senate.', 1),\n",
       " ('(Yellow', 1),\n",
       " ('Dog', 1),\n",
       " ('Blue)', 1),\n",
       " ('\"How', 1),\n",
       " ('survived', 1),\n",
       " ('thrived?', 1),\n",
       " ('heavying', 1),\n",
       " ('armor.', 1),\n",
       " ('engaging', 1),\n",
       " ('overwhelming', 1),\n",
       " ('opponents.', 1),\n",
       " ('appealing', 1),\n",
       " ('public', 1),\n",
       " ('sympathy.', 1),\n",
       " ('Instead', 1),\n",
       " ('gone', 1),\n",
       " ('business', 1),\n",
       " ('being', 1),\n",
       " ('Senator,', 1),\n",
       " ('building', 1),\n",
       " ('personal', 1),\n",
       " ('relationships', 1),\n",
       " ('using', 1),\n",
       " ('power.', 1),\n",
       " ('And', 1),\n",
       " ('really', 1),\n",
       " ('admire', 1),\n",
       " ('that.\"', 1),\n",
       " ('SEEING', 1),\n",
       " ('FOREST', 1),\n",
       " ('(Dave', 1),\n",
       " ('Johnson)', 1),\n",
       " ('\"People', 1),\n",
       " ('say', 1),\n",
       " ('\"baggage\"', 1),\n",
       " ('\"divisive.\"', 1),\n",
       " ('Actually', 1),\n",
       " ('been', 1),\n",
       " ('investigated', 1),\n",
       " ('thoroughly', 1),\n",
       " ('anyone', 1),\n",
       " (\"country's\", 1),\n",
       " ('history', 1),\n",
       " ('they', 1),\n",
       " ('found', 1),\n",
       " ('nothing', 1),\n",
       " ('all.', 1),\n",
       " (\"isn't\", 1),\n",
       " ('who', 1),\n",
       " ('divisive,', 1),\n",
       " (\"it's\", 1),\n",
       " ('people', 1),\n",
       " ('making', 1),\n",
       " ('accusations.\"', 1)]"
      ]
     },
     "execution_count": 39,
     "metadata": {},
     "output_type": "execute_result"
    }
   ],
   "source": [
    "# Guess what are the most frequent words in it\n",
    "# Is it what you expected?\n",
    "# Why? / Why not?\n",
    "count_words_freq.most_common()"
   ]
  },
  {
   "cell_type": "markdown",
   "metadata": {},
   "source": [
    "## Data Processing"
   ]
  },
  {
   "cell_type": "markdown",
   "metadata": {},
   "source": [
    "Some libraries are huge. It takes time to retrieve the data from the libraries.\n",
    "So we prepared stopwords from  \"from nltk.corpus import stopwords\".\n",
    "\n",
    "A **stopword** is a word that is often filtered out during text processing. Stopwords are usually common function words, like 'the', 'a', or 'and'. These words are used frequently but aren't very informative. Filtering them out results in more informative and interesting analysis."
   ]
  },
  {
   "cell_type": "code",
   "execution_count": 40,
   "metadata": {
    "collapsed": true
   },
   "outputs": [
    {
     "data": {
      "text/plain": [
       "['a',\n",
       " 'about',\n",
       " 'above',\n",
       " 'after',\n",
       " 'again',\n",
       " 'against',\n",
       " 'ain',\n",
       " 'all',\n",
       " 'am',\n",
       " 'an',\n",
       " 'and',\n",
       " 'any',\n",
       " 'are',\n",
       " 'aren',\n",
       " 'as',\n",
       " 'at',\n",
       " 'be',\n",
       " 'because',\n",
       " 'been',\n",
       " 'before',\n",
       " 'being',\n",
       " 'below',\n",
       " 'between',\n",
       " 'both',\n",
       " 'but',\n",
       " 'by',\n",
       " 'can',\n",
       " 'couldn',\n",
       " 'd',\n",
       " 'did',\n",
       " 'didn',\n",
       " 'do',\n",
       " 'does',\n",
       " 'doesn',\n",
       " 'doing',\n",
       " 'don',\n",
       " 'down',\n",
       " 'during',\n",
       " 'each',\n",
       " 'few',\n",
       " 'for',\n",
       " 'from',\n",
       " 'further',\n",
       " 'had',\n",
       " 'hadn',\n",
       " 'has',\n",
       " 'hasn',\n",
       " 'have',\n",
       " 'haven',\n",
       " 'having',\n",
       " 'he',\n",
       " 'her',\n",
       " 'here',\n",
       " 'hers',\n",
       " 'herself',\n",
       " 'him',\n",
       " 'himself',\n",
       " 'his',\n",
       " 'how',\n",
       " 'i',\n",
       " 'if',\n",
       " 'in',\n",
       " 'into',\n",
       " 'is',\n",
       " 'isn',\n",
       " 'it',\n",
       " 'its',\n",
       " 'itself',\n",
       " 'just',\n",
       " 'll',\n",
       " 'm',\n",
       " 'ma',\n",
       " 'me',\n",
       " 'mightn',\n",
       " 'more',\n",
       " 'most',\n",
       " 'mustn',\n",
       " 'my',\n",
       " 'myself',\n",
       " 'needn',\n",
       " 'no',\n",
       " 'nor',\n",
       " 'not',\n",
       " 'now',\n",
       " 'o',\n",
       " 'of',\n",
       " 'off',\n",
       " 'on',\n",
       " 'once',\n",
       " 'only',\n",
       " 'or',\n",
       " 'other',\n",
       " 'our',\n",
       " 'ours',\n",
       " 'ourselves',\n",
       " 'out',\n",
       " 'over',\n",
       " 'own',\n",
       " 're',\n",
       " 's',\n",
       " 'same',\n",
       " 'shan',\n",
       " 'she',\n",
       " 'should',\n",
       " 'shouldn',\n",
       " 'so',\n",
       " 'some',\n",
       " 'such',\n",
       " 't',\n",
       " 'than',\n",
       " 'that',\n",
       " 'the',\n",
       " 'their',\n",
       " 'theirs',\n",
       " 'them',\n",
       " 'themselves',\n",
       " 'then',\n",
       " 'there',\n",
       " 'these',\n",
       " 'they',\n",
       " 'this',\n",
       " 'those',\n",
       " 'through',\n",
       " 'to',\n",
       " 'too',\n",
       " 'under',\n",
       " 'until',\n",
       " 'up',\n",
       " 've',\n",
       " 'very',\n",
       " 'was',\n",
       " 'wasn',\n",
       " 'we',\n",
       " 'were',\n",
       " 'weren',\n",
       " 'what',\n",
       " 'when',\n",
       " 'where',\n",
       " 'which',\n",
       " 'while',\n",
       " 'who',\n",
       " 'whom',\n",
       " 'why',\n",
       " 'will',\n",
       " 'with',\n",
       " 'won',\n",
       " 'wouldn',\n",
       " 'y',\n",
       " 'you',\n",
       " 'your',\n",
       " 'yours',\n",
       " 'yourself',\n",
       " 'yourselves']"
      ]
     },
     "execution_count": 40,
     "metadata": {},
     "output_type": "execute_result"
    }
   ],
   "source": [
    "# stop_words = set(stopwords.words(\"english\"))\n",
    "with open('stopwords.json') as json_data:\n",
    "    stop_words_json = json.load(json_data)\n",
    "    \n",
    "# with open('foundations_dict.json') as json_data:\n",
    "#     mft_dict = json.load(json_data)\n",
    "stop_words = stop_words_json['words']\n",
    "stop_words"
   ]
  },
  {
   "cell_type": "markdown",
   "metadata": {},
   "source": [
    "### Functions"
   ]
  },
  {
   "cell_type": "markdown",
   "metadata": {},
   "source": [
    "Here are simple rules to define a function in Python. \n",
    "\n",
    "Function blocks begin with the keyword `def` followed by the function name and parentheses ( ( ) ). \n",
    "\n",
    "Any input parameters or arguments should be placed within these parentheses. You can also define parameters inside these parentheses."
   ]
  },
  {
   "cell_type": "markdown",
   "metadata": {},
   "source": [
    "Function definitions consist of a def statement that indicates a `<name>` and a comma-separated list of named `<formal parameters>`, then a return statement, called the function body, that specifies the `<return expression>` of the function, which is an expression to be evaluated whenever the function is applied:\n",
    "\n"
   ]
  },
  {
   "cell_type": "code",
   "execution_count": 41,
   "metadata": {
    "collapsed": true
   },
   "outputs": [],
   "source": [
    "# def <name>(<formal parameters>):\n",
    "#    return <return expression>"
   ]
  },
  {
   "cell_type": "code",
   "execution_count": 42,
   "metadata": {
    "collapsed": true
   },
   "outputs": [
    {
     "data": {
      "text/plain": [
       "3"
      ]
     },
     "execution_count": 42,
     "metadata": {},
     "output_type": "execute_result"
    }
   ],
   "source": [
    "def three():\n",
    "    return 3\n",
    "\n",
    "three()"
   ]
  },
  {
   "cell_type": "markdown",
   "metadata": {},
   "source": [
    "The second line must be indented — most programmers use four spaces to indent. The return expression is not evaluated right away; it is stored as part of the newly defined function and evaluated only when the function is eventually applied."
   ]
  },
  {
   "cell_type": "markdown",
   "metadata": {},
   "source": [
    "I defined a function whose name is without_stopwords. I will explain how this works. However, it is okay for you not to understand the details of the code inside the function. All you have to know is what the function does and how to use it."
   ]
  },
  {
   "cell_type": "code",
   "execution_count": 50,
   "metadata": {
    "collapsed": true
   },
   "outputs": [],
   "source": [
    "def without_stopwords(a_speech):\n",
    "    \"\"\" input(a_speech): string type of a speech\n",
    "        output : list of words in the speech without stop words\n",
    "        \n",
    "        >>> exstr = \"This is an example showing off stop word filter\"\n",
    "        >>> without_stopwords(exstr)\n",
    "        ... ['This', 'example', 'showing', 'stop', 'word', 'filter']\n",
    "    \"\"\"\n",
    "    a_speech = word_tokenize(a_speech)\n",
    "    filtered = []\n",
    "    #this is for-loop and it makes program repeat the following lines of code.\n",
    "    for word in a_speech:\n",
    "        #if is conditional statement that makes program execute the code when the condition is true.\n",
    "        if word not in stop_words:\n",
    "            filtered.append(word)\n",
    "    return filtered"
   ]
  },
  {
   "cell_type": "code",
   "execution_count": 51,
   "metadata": {
    "collapsed": true
   },
   "outputs": [],
   "source": [
    "exstr = \"This is an example showing off stop word filter\""
   ]
  },
  {
   "cell_type": "code",
   "execution_count": 54,
   "metadata": {
    "collapsed": true
   },
   "outputs": [
    {
     "data": {
      "text/plain": [
       "['This', 'example', 'showing', 'stop', 'word', 'filter']"
      ]
     },
     "execution_count": 54,
     "metadata": {},
     "output_type": "execute_result"
    }
   ],
   "source": [
    "without_stopwords(exstr)"
   ]
  },
  {
   "cell_type": "code",
   "execution_count": 56,
   "metadata": {
    "collapsed": true
   },
   "outputs": [
    {
     "data": {
      "text/plain": [
       "'Campaign web site signs up 100 new members per minute, racks up 10,000 messages of support within 6 hours of announcement  Clinton candidacy hailed online as \"profoundly moving\"; \"top tier\"; \"exciting\"; \"remarkable\"; \"smart\"; and \"news of a generation\" Demonstrating the groundswell of enthusiasm generated by her historic candidacy, Senator Hillary Rodham Clinton\\'s announcement for President lit up the internet today, garnering rave reviews in the blogosphere, and thousands of supporters flocking to her web site each hour. Within just six hours of the announcement going live on her campaign web site, Senator Clinton\\'s candidacy attracted thousands of messages of support, and widespread accolades online. Overwhelming Response Within Hours of Going Live:  SIGN UPS = 100 per minute MESSAGES OF SUPPORT = 10,000 VIDEO WEBCAST SIGN-UPS = 7,700 BLOG CONTEST SUBMISSIONS = 2,200  Bloggers Give Clinton Announcement Rave Reviews: MYDD (Jerome Armstrong) - \"And as blogger savvy as John Edwards was in outreach, Clinton internet team had the emails of bloggers to notify them separate from the press (no such outreach from the Obama camp). The website has the clean, Kerry-2004 look about it. A smart \"write our first post\" call to action on the website. The announcement of \"an unprecedented series of video webcasts beginning Monday, January 22nd at 7pm EST for three nights\" creates a quick narrative of interaction and response around Bush\\'s SOTU address.\" DAILY KOS DIARY (nyceve) - \"I\\'m an open and honest person, and I\\'m profoundly moved by her announcement. What was unimaginable just a few decades ago, is now something we can almost touch.\" THE CARPETBAGGER REPORT - \"Clinton enters the race, without a doubt, at the top of the top tier. I\\'ve heard all the various concerns about her candidacy, but I don\\'t have any doubt that she has what it takes to win. Indeed, Clinton brings an enormous amount of talent, experience, and intelligence to the table.\" TAYLOR MARSH - \"Sitting in a living room setting, Senator Hillary Clinton made one simple statement that changed the landscape of the \\'08 presidential tournament to come. (To add, I got an email about this event this morning just after 6:00 a.m.) Because when the first woman to run for president, with an actual chance of winning, puts her name and reputation on the line, it becomes news of the day, week, even a generation.\" TALK LEFT - It is exciting to have a serious female candidate for President. OUTSIDE THE BELTWAY - After nearly eight years of speculation, Hillary Clinton has announced her candidacy for president.... she has done a remarkable job these past several years getting out of her husband\\'s shadow, positioning herself as more moderate than previously thought, and garnering bipartisan praise for collegiality and hard work in the Senate. DAILY KOS DIARY (Yellow Dog Blue) - \"How has she survived and thrived? Not by heavying up her armor. Not by engaging and overwhelming her opponents. Not even by appealing for public sympathy. Instead Hillary has just gone her business being a Senator, building personal relationships and support, getting and using power. And I really admire that.\" SEEING THE FOREST (Dave Johnson) - \"People say Hillary Clinton has \"baggage\" and is \"divisive.\" Actually she has been investigated more thoroughly than almost anyone in the country\\'s history and they found nothing at all. It isn\\'t Hillary who is divisive, it\\'s the people making all the accusations.\"'"
      ]
     },
     "execution_count": 56,
     "metadata": {},
     "output_type": "execute_result"
    }
   ],
   "source": [
    "a_speech"
   ]
  },
  {
   "cell_type": "code",
   "execution_count": 57,
   "metadata": {
    "collapsed": true
   },
   "outputs": [
    {
     "data": {
      "text/plain": [
       "['Campaign',\n",
       " 'web',\n",
       " 'site',\n",
       " 'signs',\n",
       " '100',\n",
       " 'new',\n",
       " 'members',\n",
       " 'per',\n",
       " 'minute',\n",
       " ',',\n",
       " 'racks',\n",
       " '10,000',\n",
       " 'messages',\n",
       " 'support',\n",
       " 'within',\n",
       " '6',\n",
       " 'hours',\n",
       " 'announcement',\n",
       " 'Clinton',\n",
       " 'candidacy',\n",
       " 'hailed',\n",
       " 'online',\n",
       " '``',\n",
       " 'profoundly',\n",
       " 'moving',\n",
       " \"''\",\n",
       " ';',\n",
       " '``',\n",
       " 'top',\n",
       " 'tier',\n",
       " \"''\",\n",
       " ';',\n",
       " '``',\n",
       " 'exciting',\n",
       " \"''\",\n",
       " ';',\n",
       " '``',\n",
       " 'remarkable',\n",
       " \"''\",\n",
       " ';',\n",
       " '``',\n",
       " 'smart',\n",
       " \"''\",\n",
       " ';',\n",
       " '``',\n",
       " 'news',\n",
       " 'generation',\n",
       " \"''\",\n",
       " 'Demonstrating',\n",
       " 'groundswell',\n",
       " 'enthusiasm',\n",
       " 'generated',\n",
       " 'historic',\n",
       " 'candidacy',\n",
       " ',',\n",
       " 'Senator',\n",
       " 'Hillary',\n",
       " 'Rodham',\n",
       " 'Clinton',\n",
       " \"'s\",\n",
       " 'announcement',\n",
       " 'President',\n",
       " 'lit',\n",
       " 'internet',\n",
       " 'today',\n",
       " ',',\n",
       " 'garnering',\n",
       " 'rave',\n",
       " 'reviews',\n",
       " 'blogosphere',\n",
       " ',',\n",
       " 'thousands',\n",
       " 'supporters',\n",
       " 'flocking',\n",
       " 'web',\n",
       " 'site',\n",
       " 'hour',\n",
       " '.',\n",
       " 'Within',\n",
       " 'six',\n",
       " 'hours',\n",
       " 'announcement',\n",
       " 'going',\n",
       " 'live',\n",
       " 'campaign',\n",
       " 'web',\n",
       " 'site',\n",
       " ',',\n",
       " 'Senator',\n",
       " 'Clinton',\n",
       " \"'s\",\n",
       " 'candidacy',\n",
       " 'attracted',\n",
       " 'thousands',\n",
       " 'messages',\n",
       " 'support',\n",
       " ',',\n",
       " 'widespread',\n",
       " 'accolades',\n",
       " 'online',\n",
       " '.',\n",
       " 'Overwhelming',\n",
       " 'Response',\n",
       " 'Within',\n",
       " 'Hours',\n",
       " 'Going',\n",
       " 'Live',\n",
       " ':',\n",
       " 'SIGN',\n",
       " 'UPS',\n",
       " '=',\n",
       " '100',\n",
       " 'per',\n",
       " 'minute',\n",
       " 'MESSAGES',\n",
       " 'OF',\n",
       " 'SUPPORT',\n",
       " '=',\n",
       " '10,000',\n",
       " 'VIDEO',\n",
       " 'WEBCAST',\n",
       " 'SIGN-UPS',\n",
       " '=',\n",
       " '7,700',\n",
       " 'BLOG',\n",
       " 'CONTEST',\n",
       " 'SUBMISSIONS',\n",
       " '=',\n",
       " '2,200',\n",
       " 'Bloggers',\n",
       " 'Give',\n",
       " 'Clinton',\n",
       " 'Announcement',\n",
       " 'Rave',\n",
       " 'Reviews',\n",
       " ':',\n",
       " 'MYDD',\n",
       " '(',\n",
       " 'Jerome',\n",
       " 'Armstrong',\n",
       " ')',\n",
       " '-',\n",
       " '``',\n",
       " 'And',\n",
       " 'blogger',\n",
       " 'savvy',\n",
       " 'John',\n",
       " 'Edwards',\n",
       " 'outreach',\n",
       " ',',\n",
       " 'Clinton',\n",
       " 'internet',\n",
       " 'team',\n",
       " 'emails',\n",
       " 'bloggers',\n",
       " 'notify',\n",
       " 'separate',\n",
       " 'press',\n",
       " '(',\n",
       " 'outreach',\n",
       " 'Obama',\n",
       " 'camp',\n",
       " ')',\n",
       " '.',\n",
       " 'The',\n",
       " 'website',\n",
       " 'clean',\n",
       " ',',\n",
       " 'Kerry-2004',\n",
       " 'look',\n",
       " '.',\n",
       " 'A',\n",
       " 'smart',\n",
       " '``',\n",
       " 'write',\n",
       " 'first',\n",
       " 'post',\n",
       " \"''\",\n",
       " 'call',\n",
       " 'action',\n",
       " 'website',\n",
       " '.',\n",
       " 'The',\n",
       " 'announcement',\n",
       " '``',\n",
       " 'unprecedented',\n",
       " 'series',\n",
       " 'video',\n",
       " 'webcasts',\n",
       " 'beginning',\n",
       " 'Monday',\n",
       " ',',\n",
       " 'January',\n",
       " '22nd',\n",
       " '7pm',\n",
       " 'EST',\n",
       " 'three',\n",
       " 'nights',\n",
       " \"''\",\n",
       " 'creates',\n",
       " 'quick',\n",
       " 'narrative',\n",
       " 'interaction',\n",
       " 'response',\n",
       " 'around',\n",
       " 'Bush',\n",
       " \"'s\",\n",
       " 'SOTU',\n",
       " 'address',\n",
       " '.',\n",
       " \"''\",\n",
       " 'DAILY',\n",
       " 'KOS',\n",
       " 'DIARY',\n",
       " '(',\n",
       " 'nyceve',\n",
       " ')',\n",
       " '-',\n",
       " '``',\n",
       " 'I',\n",
       " \"'m\",\n",
       " 'open',\n",
       " 'honest',\n",
       " 'person',\n",
       " ',',\n",
       " 'I',\n",
       " \"'m\",\n",
       " 'profoundly',\n",
       " 'moved',\n",
       " 'announcement',\n",
       " '.',\n",
       " 'What',\n",
       " 'unimaginable',\n",
       " 'decades',\n",
       " 'ago',\n",
       " ',',\n",
       " 'something',\n",
       " 'almost',\n",
       " 'touch',\n",
       " '.',\n",
       " \"''\",\n",
       " 'THE',\n",
       " 'CARPETBAGGER',\n",
       " 'REPORT',\n",
       " '-',\n",
       " '``',\n",
       " 'Clinton',\n",
       " 'enters',\n",
       " 'race',\n",
       " ',',\n",
       " 'without',\n",
       " 'doubt',\n",
       " ',',\n",
       " 'top',\n",
       " 'top',\n",
       " 'tier',\n",
       " '.',\n",
       " 'I',\n",
       " \"'ve\",\n",
       " 'heard',\n",
       " 'various',\n",
       " 'concerns',\n",
       " 'candidacy',\n",
       " ',',\n",
       " 'I',\n",
       " \"n't\",\n",
       " 'doubt',\n",
       " 'takes',\n",
       " 'win',\n",
       " '.',\n",
       " 'Indeed',\n",
       " ',',\n",
       " 'Clinton',\n",
       " 'brings',\n",
       " 'enormous',\n",
       " 'amount',\n",
       " 'talent',\n",
       " ',',\n",
       " 'experience',\n",
       " ',',\n",
       " 'intelligence',\n",
       " 'table',\n",
       " '.',\n",
       " \"''\",\n",
       " 'TAYLOR',\n",
       " 'MARSH',\n",
       " '-',\n",
       " '``',\n",
       " 'Sitting',\n",
       " 'living',\n",
       " 'room',\n",
       " 'setting',\n",
       " ',',\n",
       " 'Senator',\n",
       " 'Hillary',\n",
       " 'Clinton',\n",
       " 'made',\n",
       " 'one',\n",
       " 'simple',\n",
       " 'statement',\n",
       " 'changed',\n",
       " 'landscape',\n",
       " \"'08\",\n",
       " 'presidential',\n",
       " 'tournament',\n",
       " 'come',\n",
       " '.',\n",
       " '(',\n",
       " 'To',\n",
       " 'add',\n",
       " ',',\n",
       " 'I',\n",
       " 'got',\n",
       " 'email',\n",
       " 'event',\n",
       " 'morning',\n",
       " '6:00',\n",
       " 'a.m.',\n",
       " ')',\n",
       " 'Because',\n",
       " 'first',\n",
       " 'woman',\n",
       " 'run',\n",
       " 'president',\n",
       " ',',\n",
       " 'actual',\n",
       " 'chance',\n",
       " 'winning',\n",
       " ',',\n",
       " 'puts',\n",
       " 'name',\n",
       " 'reputation',\n",
       " 'line',\n",
       " ',',\n",
       " 'becomes',\n",
       " 'news',\n",
       " 'day',\n",
       " ',',\n",
       " 'week',\n",
       " ',',\n",
       " 'even',\n",
       " 'generation',\n",
       " '.',\n",
       " \"''\",\n",
       " 'TALK',\n",
       " 'LEFT',\n",
       " '-',\n",
       " 'It',\n",
       " 'exciting',\n",
       " 'serious',\n",
       " 'female',\n",
       " 'candidate',\n",
       " 'President',\n",
       " '.',\n",
       " 'OUTSIDE',\n",
       " 'THE',\n",
       " 'BELTWAY',\n",
       " '-',\n",
       " 'After',\n",
       " 'nearly',\n",
       " 'eight',\n",
       " 'years',\n",
       " 'speculation',\n",
       " ',',\n",
       " 'Hillary',\n",
       " 'Clinton',\n",
       " 'announced',\n",
       " 'candidacy',\n",
       " 'president',\n",
       " '...',\n",
       " '.',\n",
       " 'done',\n",
       " 'remarkable',\n",
       " 'job',\n",
       " 'past',\n",
       " 'several',\n",
       " 'years',\n",
       " 'getting',\n",
       " 'husband',\n",
       " \"'s\",\n",
       " 'shadow',\n",
       " ',',\n",
       " 'positioning',\n",
       " 'moderate',\n",
       " 'previously',\n",
       " 'thought',\n",
       " ',',\n",
       " 'garnering',\n",
       " 'bipartisan',\n",
       " 'praise',\n",
       " 'collegiality',\n",
       " 'hard',\n",
       " 'work',\n",
       " 'Senate',\n",
       " '.',\n",
       " 'DAILY',\n",
       " 'KOS',\n",
       " 'DIARY',\n",
       " '(',\n",
       " 'Yellow',\n",
       " 'Dog',\n",
       " 'Blue',\n",
       " ')',\n",
       " '-',\n",
       " '``',\n",
       " 'How',\n",
       " 'survived',\n",
       " 'thrived',\n",
       " '?',\n",
       " 'Not',\n",
       " 'heavying',\n",
       " 'armor',\n",
       " '.',\n",
       " 'Not',\n",
       " 'engaging',\n",
       " 'overwhelming',\n",
       " 'opponents',\n",
       " '.',\n",
       " 'Not',\n",
       " 'even',\n",
       " 'appealing',\n",
       " 'public',\n",
       " 'sympathy',\n",
       " '.',\n",
       " 'Instead',\n",
       " 'Hillary',\n",
       " 'gone',\n",
       " 'business',\n",
       " 'Senator',\n",
       " ',',\n",
       " 'building',\n",
       " 'personal',\n",
       " 'relationships',\n",
       " 'support',\n",
       " ',',\n",
       " 'getting',\n",
       " 'using',\n",
       " 'power',\n",
       " '.',\n",
       " 'And',\n",
       " 'I',\n",
       " 'really',\n",
       " 'admire',\n",
       " '.',\n",
       " \"''\",\n",
       " 'SEEING',\n",
       " 'THE',\n",
       " 'FOREST',\n",
       " '(',\n",
       " 'Dave',\n",
       " 'Johnson',\n",
       " ')',\n",
       " '-',\n",
       " '``',\n",
       " 'People',\n",
       " 'say',\n",
       " 'Hillary',\n",
       " 'Clinton',\n",
       " '``',\n",
       " 'baggage',\n",
       " \"''\",\n",
       " '``',\n",
       " 'divisive',\n",
       " '.',\n",
       " \"''\",\n",
       " 'Actually',\n",
       " 'investigated',\n",
       " 'thoroughly',\n",
       " 'almost',\n",
       " 'anyone',\n",
       " 'country',\n",
       " \"'s\",\n",
       " 'history',\n",
       " 'found',\n",
       " 'nothing',\n",
       " '.',\n",
       " 'It',\n",
       " \"n't\",\n",
       " 'Hillary',\n",
       " 'divisive',\n",
       " ',',\n",
       " \"'s\",\n",
       " 'people',\n",
       " 'making',\n",
       " 'accusations',\n",
       " '.',\n",
       " \"''\"]"
      ]
     },
     "execution_count": 57,
     "metadata": {},
     "output_type": "execute_result"
    }
   ],
   "source": [
    "without_stopwords(a_speech)"
   ]
  },
  {
   "cell_type": "code",
   "execution_count": 58,
   "metadata": {
    "collapsed": true
   },
   "outputs": [],
   "source": [
    "list_of_words_c = without_stopwords(a_speech)"
   ]
  },
  {
   "cell_type": "code",
   "execution_count": 59,
   "metadata": {
    "collapsed": true
   },
   "outputs": [
    {
     "data": {
      "text/plain": [
       "[(',', 30),\n",
       " ('.', 24),\n",
       " ('``', 16),\n",
       " (\"''\", 16),\n",
       " ('Clinton', 10),\n",
       " ('-', 8),\n",
       " ('Hillary', 6),\n",
       " (\"'s\", 6),\n",
       " ('(', 6),\n",
       " (')', 6),\n",
       " ('I', 6),\n",
       " ('announcement', 5),\n",
       " ('candidacy', 5),\n",
       " (';', 5),\n",
       " ('Senator', 4),\n",
       " ('=', 4),\n",
       " ('web', 3),\n",
       " ('site', 3),\n",
       " ('support', 3),\n",
       " ('top', 3),\n",
       " ('THE', 3),\n",
       " ('Not', 3),\n",
       " ('100', 2),\n",
       " ('per', 2),\n",
       " ('minute', 2),\n",
       " ('10,000', 2),\n",
       " ('messages', 2),\n",
       " ('hours', 2),\n",
       " ('online', 2),\n",
       " ('profoundly', 2),\n",
       " ('tier', 2),\n",
       " ('exciting', 2),\n",
       " ('remarkable', 2),\n",
       " ('smart', 2),\n",
       " ('news', 2),\n",
       " ('generation', 2),\n",
       " ('President', 2),\n",
       " ('internet', 2),\n",
       " ('garnering', 2),\n",
       " ('thousands', 2),\n",
       " ('Within', 2),\n",
       " (':', 2),\n",
       " ('And', 2),\n",
       " ('outreach', 2),\n",
       " ('The', 2),\n",
       " ('website', 2),\n",
       " ('first', 2),\n",
       " ('DAILY', 2),\n",
       " ('KOS', 2),\n",
       " ('DIARY', 2),\n",
       " (\"'m\", 2),\n",
       " ('almost', 2),\n",
       " ('doubt', 2),\n",
       " (\"n't\", 2),\n",
       " ('president', 2),\n",
       " ('even', 2),\n",
       " ('It', 2),\n",
       " ('years', 2),\n",
       " ('getting', 2),\n",
       " ('divisive', 2),\n",
       " ('Campaign', 1),\n",
       " ('signs', 1),\n",
       " ('new', 1),\n",
       " ('members', 1),\n",
       " ('racks', 1),\n",
       " ('within', 1),\n",
       " ('6', 1),\n",
       " ('hailed', 1),\n",
       " ('moving', 1),\n",
       " ('Demonstrating', 1),\n",
       " ('groundswell', 1),\n",
       " ('enthusiasm', 1),\n",
       " ('generated', 1),\n",
       " ('historic', 1),\n",
       " ('Rodham', 1),\n",
       " ('lit', 1),\n",
       " ('today', 1),\n",
       " ('rave', 1),\n",
       " ('reviews', 1),\n",
       " ('blogosphere', 1),\n",
       " ('supporters', 1),\n",
       " ('flocking', 1),\n",
       " ('hour', 1),\n",
       " ('six', 1),\n",
       " ('going', 1),\n",
       " ('live', 1),\n",
       " ('campaign', 1),\n",
       " ('attracted', 1),\n",
       " ('widespread', 1),\n",
       " ('accolades', 1),\n",
       " ('Overwhelming', 1),\n",
       " ('Response', 1),\n",
       " ('Hours', 1),\n",
       " ('Going', 1),\n",
       " ('Live', 1),\n",
       " ('SIGN', 1),\n",
       " ('UPS', 1),\n",
       " ('MESSAGES', 1),\n",
       " ('OF', 1),\n",
       " ('SUPPORT', 1),\n",
       " ('VIDEO', 1),\n",
       " ('WEBCAST', 1),\n",
       " ('SIGN-UPS', 1),\n",
       " ('7,700', 1),\n",
       " ('BLOG', 1),\n",
       " ('CONTEST', 1),\n",
       " ('SUBMISSIONS', 1),\n",
       " ('2,200', 1),\n",
       " ('Bloggers', 1),\n",
       " ('Give', 1),\n",
       " ('Announcement', 1),\n",
       " ('Rave', 1),\n",
       " ('Reviews', 1),\n",
       " ('MYDD', 1),\n",
       " ('Jerome', 1),\n",
       " ('Armstrong', 1),\n",
       " ('blogger', 1),\n",
       " ('savvy', 1),\n",
       " ('John', 1),\n",
       " ('Edwards', 1),\n",
       " ('team', 1),\n",
       " ('emails', 1),\n",
       " ('bloggers', 1),\n",
       " ('notify', 1),\n",
       " ('separate', 1),\n",
       " ('press', 1),\n",
       " ('Obama', 1),\n",
       " ('camp', 1),\n",
       " ('clean', 1),\n",
       " ('Kerry-2004', 1),\n",
       " ('look', 1),\n",
       " ('A', 1),\n",
       " ('write', 1),\n",
       " ('post', 1),\n",
       " ('call', 1),\n",
       " ('action', 1),\n",
       " ('unprecedented', 1),\n",
       " ('series', 1),\n",
       " ('video', 1),\n",
       " ('webcasts', 1),\n",
       " ('beginning', 1),\n",
       " ('Monday', 1),\n",
       " ('January', 1),\n",
       " ('22nd', 1),\n",
       " ('7pm', 1),\n",
       " ('EST', 1),\n",
       " ('three', 1),\n",
       " ('nights', 1),\n",
       " ('creates', 1),\n",
       " ('quick', 1),\n",
       " ('narrative', 1),\n",
       " ('interaction', 1),\n",
       " ('response', 1),\n",
       " ('around', 1),\n",
       " ('Bush', 1),\n",
       " ('SOTU', 1),\n",
       " ('address', 1),\n",
       " ('nyceve', 1),\n",
       " ('open', 1),\n",
       " ('honest', 1),\n",
       " ('person', 1),\n",
       " ('moved', 1),\n",
       " ('What', 1),\n",
       " ('unimaginable', 1),\n",
       " ('decades', 1),\n",
       " ('ago', 1),\n",
       " ('something', 1),\n",
       " ('touch', 1),\n",
       " ('CARPETBAGGER', 1),\n",
       " ('REPORT', 1),\n",
       " ('enters', 1),\n",
       " ('race', 1),\n",
       " ('without', 1),\n",
       " (\"'ve\", 1),\n",
       " ('heard', 1),\n",
       " ('various', 1),\n",
       " ('concerns', 1),\n",
       " ('takes', 1),\n",
       " ('win', 1),\n",
       " ('Indeed', 1),\n",
       " ('brings', 1),\n",
       " ('enormous', 1),\n",
       " ('amount', 1),\n",
       " ('talent', 1),\n",
       " ('experience', 1),\n",
       " ('intelligence', 1),\n",
       " ('table', 1),\n",
       " ('TAYLOR', 1),\n",
       " ('MARSH', 1),\n",
       " ('Sitting', 1),\n",
       " ('living', 1),\n",
       " ('room', 1),\n",
       " ('setting', 1),\n",
       " ('made', 1),\n",
       " ('one', 1),\n",
       " ('simple', 1),\n",
       " ('statement', 1),\n",
       " ('changed', 1),\n",
       " ('landscape', 1),\n",
       " (\"'08\", 1),\n",
       " ('presidential', 1),\n",
       " ('tournament', 1),\n",
       " ('come', 1),\n",
       " ('To', 1),\n",
       " ('add', 1),\n",
       " ('got', 1),\n",
       " ('email', 1),\n",
       " ('event', 1),\n",
       " ('morning', 1),\n",
       " ('6:00', 1),\n",
       " ('a.m.', 1),\n",
       " ('Because', 1),\n",
       " ('woman', 1),\n",
       " ('run', 1),\n",
       " ('actual', 1),\n",
       " ('chance', 1),\n",
       " ('winning', 1),\n",
       " ('puts', 1),\n",
       " ('name', 1),\n",
       " ('reputation', 1),\n",
       " ('line', 1),\n",
       " ('becomes', 1),\n",
       " ('day', 1),\n",
       " ('week', 1),\n",
       " ('TALK', 1),\n",
       " ('LEFT', 1),\n",
       " ('serious', 1),\n",
       " ('female', 1),\n",
       " ('candidate', 1),\n",
       " ('OUTSIDE', 1),\n",
       " ('BELTWAY', 1),\n",
       " ('After', 1),\n",
       " ('nearly', 1),\n",
       " ('eight', 1),\n",
       " ('speculation', 1),\n",
       " ('announced', 1),\n",
       " ('...', 1),\n",
       " ('done', 1),\n",
       " ('job', 1),\n",
       " ('past', 1),\n",
       " ('several', 1),\n",
       " ('husband', 1),\n",
       " ('shadow', 1),\n",
       " ('positioning', 1),\n",
       " ('moderate', 1),\n",
       " ('previously', 1),\n",
       " ('thought', 1),\n",
       " ('bipartisan', 1),\n",
       " ('praise', 1),\n",
       " ('collegiality', 1),\n",
       " ('hard', 1),\n",
       " ('work', 1),\n",
       " ('Senate', 1),\n",
       " ('Yellow', 1),\n",
       " ('Dog', 1),\n",
       " ('Blue', 1),\n",
       " ('How', 1),\n",
       " ('survived', 1),\n",
       " ('thrived', 1),\n",
       " ('?', 1),\n",
       " ('heavying', 1),\n",
       " ('armor', 1),\n",
       " ('engaging', 1),\n",
       " ('overwhelming', 1),\n",
       " ('opponents', 1),\n",
       " ('appealing', 1),\n",
       " ('public', 1),\n",
       " ('sympathy', 1),\n",
       " ('Instead', 1),\n",
       " ('gone', 1),\n",
       " ('business', 1),\n",
       " ('building', 1),\n",
       " ('personal', 1),\n",
       " ('relationships', 1),\n",
       " ('using', 1),\n",
       " ('power', 1),\n",
       " ('really', 1),\n",
       " ('admire', 1),\n",
       " ('SEEING', 1),\n",
       " ('FOREST', 1),\n",
       " ('Dave', 1),\n",
       " ('Johnson', 1),\n",
       " ('People', 1),\n",
       " ('say', 1),\n",
       " ('baggage', 1),\n",
       " ('Actually', 1),\n",
       " ('investigated', 1),\n",
       " ('thoroughly', 1),\n",
       " ('anyone', 1),\n",
       " ('country', 1),\n",
       " ('history', 1),\n",
       " ('found', 1),\n",
       " ('nothing', 1),\n",
       " ('people', 1),\n",
       " ('making', 1),\n",
       " ('accusations', 1)]"
      ]
     },
     "execution_count": 59,
     "metadata": {},
     "output_type": "execute_result"
    }
   ],
   "source": [
    "Counter(list_of_words_c).most_common()"
   ]
  },
  {
   "cell_type": "markdown",
   "metadata": {},
   "source": [
    "The function below is to filter special characters, such as commas, quotes, colons and so on."
   ]
  },
  {
   "cell_type": "code",
   "execution_count": 60,
   "metadata": {
    "collapsed": true
   },
   "outputs": [],
   "source": [
    "def without_words_set(a_speech, a_set):\n",
    "    a_speech = word_tokenize(a_speech)\n",
    "    filtered = []\n",
    "    for word in a_speech:\n",
    "        if word not in a_set:\n",
    "            filtered.append(word)\n",
    "    return filtered"
   ]
  },
  {
   "cell_type": "code",
   "execution_count": 61,
   "metadata": {
    "collapsed": true
   },
   "outputs": [],
   "source": [
    "stop_words_set = set(stop_words)"
   ]
  },
  {
   "cell_type": "code",
   "execution_count": 62,
   "metadata": {
    "collapsed": true
   },
   "outputs": [],
   "source": [
    "filter_set = {',', '.', '1', '(', ')','*',':','2', '\\'', ';', '?', '=','-', '``', \"''\"}"
   ]
  },
  {
   "cell_type": "code",
   "execution_count": 63,
   "metadata": {
    "collapsed": true
   },
   "outputs": [],
   "source": [
    "custom_filter = stop_words_set | filter_set"
   ]
  },
  {
   "cell_type": "code",
   "execution_count": 64,
   "metadata": {
    "collapsed": true
   },
   "outputs": [
    {
     "data": {
      "text/plain": [
       "{\"'\",\n",
       " \"''\",\n",
       " '(',\n",
       " ')',\n",
       " '*',\n",
       " ',',\n",
       " '-',\n",
       " '.',\n",
       " '1',\n",
       " '2',\n",
       " ':',\n",
       " ';',\n",
       " '=',\n",
       " '?',\n",
       " '``',\n",
       " 'a',\n",
       " 'about',\n",
       " 'above',\n",
       " 'after',\n",
       " 'again',\n",
       " 'against',\n",
       " 'ain',\n",
       " 'all',\n",
       " 'am',\n",
       " 'an',\n",
       " 'and',\n",
       " 'any',\n",
       " 'are',\n",
       " 'aren',\n",
       " 'as',\n",
       " 'at',\n",
       " 'be',\n",
       " 'because',\n",
       " 'been',\n",
       " 'before',\n",
       " 'being',\n",
       " 'below',\n",
       " 'between',\n",
       " 'both',\n",
       " 'but',\n",
       " 'by',\n",
       " 'can',\n",
       " 'couldn',\n",
       " 'd',\n",
       " 'did',\n",
       " 'didn',\n",
       " 'do',\n",
       " 'does',\n",
       " 'doesn',\n",
       " 'doing',\n",
       " 'don',\n",
       " 'down',\n",
       " 'during',\n",
       " 'each',\n",
       " 'few',\n",
       " 'for',\n",
       " 'from',\n",
       " 'further',\n",
       " 'had',\n",
       " 'hadn',\n",
       " 'has',\n",
       " 'hasn',\n",
       " 'have',\n",
       " 'haven',\n",
       " 'having',\n",
       " 'he',\n",
       " 'her',\n",
       " 'here',\n",
       " 'hers',\n",
       " 'herself',\n",
       " 'him',\n",
       " 'himself',\n",
       " 'his',\n",
       " 'how',\n",
       " 'i',\n",
       " 'if',\n",
       " 'in',\n",
       " 'into',\n",
       " 'is',\n",
       " 'isn',\n",
       " 'it',\n",
       " 'its',\n",
       " 'itself',\n",
       " 'just',\n",
       " 'll',\n",
       " 'm',\n",
       " 'ma',\n",
       " 'me',\n",
       " 'mightn',\n",
       " 'more',\n",
       " 'most',\n",
       " 'mustn',\n",
       " 'my',\n",
       " 'myself',\n",
       " 'needn',\n",
       " 'no',\n",
       " 'nor',\n",
       " 'not',\n",
       " 'now',\n",
       " 'o',\n",
       " 'of',\n",
       " 'off',\n",
       " 'on',\n",
       " 'once',\n",
       " 'only',\n",
       " 'or',\n",
       " 'other',\n",
       " 'our',\n",
       " 'ours',\n",
       " 'ourselves',\n",
       " 'out',\n",
       " 'over',\n",
       " 'own',\n",
       " 're',\n",
       " 's',\n",
       " 'same',\n",
       " 'shan',\n",
       " 'she',\n",
       " 'should',\n",
       " 'shouldn',\n",
       " 'so',\n",
       " 'some',\n",
       " 'such',\n",
       " 't',\n",
       " 'than',\n",
       " 'that',\n",
       " 'the',\n",
       " 'their',\n",
       " 'theirs',\n",
       " 'them',\n",
       " 'themselves',\n",
       " 'then',\n",
       " 'there',\n",
       " 'these',\n",
       " 'they',\n",
       " 'this',\n",
       " 'those',\n",
       " 'through',\n",
       " 'to',\n",
       " 'too',\n",
       " 'under',\n",
       " 'until',\n",
       " 'up',\n",
       " 've',\n",
       " 'very',\n",
       " 'was',\n",
       " 'wasn',\n",
       " 'we',\n",
       " 'were',\n",
       " 'weren',\n",
       " 'what',\n",
       " 'when',\n",
       " 'where',\n",
       " 'which',\n",
       " 'while',\n",
       " 'who',\n",
       " 'whom',\n",
       " 'why',\n",
       " 'will',\n",
       " 'with',\n",
       " 'won',\n",
       " 'wouldn',\n",
       " 'y',\n",
       " 'you',\n",
       " 'your',\n",
       " 'yours',\n",
       " 'yourself',\n",
       " 'yourselves'}"
      ]
     },
     "execution_count": 64,
     "metadata": {},
     "output_type": "execute_result"
    }
   ],
   "source": [
    "custom_filter"
   ]
  },
  {
   "cell_type": "code",
   "execution_count": 65,
   "metadata": {
    "collapsed": true,
    "scrolled": true
   },
   "outputs": [
    {
     "data": {
      "text/plain": [
       "['Campaign',\n",
       " 'web',\n",
       " 'site',\n",
       " 'signs',\n",
       " '100',\n",
       " 'new',\n",
       " 'members',\n",
       " 'per',\n",
       " 'minute',\n",
       " 'racks',\n",
       " '10,000',\n",
       " 'messages',\n",
       " 'support',\n",
       " 'within',\n",
       " '6',\n",
       " 'hours',\n",
       " 'announcement',\n",
       " 'Clinton',\n",
       " 'candidacy',\n",
       " 'hailed',\n",
       " 'online',\n",
       " 'profoundly',\n",
       " 'moving',\n",
       " 'top',\n",
       " 'tier',\n",
       " 'exciting',\n",
       " 'remarkable',\n",
       " 'smart',\n",
       " 'news',\n",
       " 'generation',\n",
       " 'Demonstrating',\n",
       " 'groundswell',\n",
       " 'enthusiasm',\n",
       " 'generated',\n",
       " 'historic',\n",
       " 'candidacy',\n",
       " 'Senator',\n",
       " 'Hillary',\n",
       " 'Rodham',\n",
       " 'Clinton',\n",
       " \"'s\",\n",
       " 'announcement',\n",
       " 'President',\n",
       " 'lit',\n",
       " 'internet',\n",
       " 'today',\n",
       " 'garnering',\n",
       " 'rave',\n",
       " 'reviews',\n",
       " 'blogosphere',\n",
       " 'thousands',\n",
       " 'supporters',\n",
       " 'flocking',\n",
       " 'web',\n",
       " 'site',\n",
       " 'hour',\n",
       " 'Within',\n",
       " 'six',\n",
       " 'hours',\n",
       " 'announcement',\n",
       " 'going',\n",
       " 'live',\n",
       " 'campaign',\n",
       " 'web',\n",
       " 'site',\n",
       " 'Senator',\n",
       " 'Clinton',\n",
       " \"'s\",\n",
       " 'candidacy',\n",
       " 'attracted',\n",
       " 'thousands',\n",
       " 'messages',\n",
       " 'support',\n",
       " 'widespread',\n",
       " 'accolades',\n",
       " 'online',\n",
       " 'Overwhelming',\n",
       " 'Response',\n",
       " 'Within',\n",
       " 'Hours',\n",
       " 'Going',\n",
       " 'Live',\n",
       " 'SIGN',\n",
       " 'UPS',\n",
       " '100',\n",
       " 'per',\n",
       " 'minute',\n",
       " 'MESSAGES',\n",
       " 'OF',\n",
       " 'SUPPORT',\n",
       " '10,000',\n",
       " 'VIDEO',\n",
       " 'WEBCAST',\n",
       " 'SIGN-UPS',\n",
       " '7,700',\n",
       " 'BLOG',\n",
       " 'CONTEST',\n",
       " 'SUBMISSIONS',\n",
       " '2,200',\n",
       " 'Bloggers',\n",
       " 'Give',\n",
       " 'Clinton',\n",
       " 'Announcement',\n",
       " 'Rave',\n",
       " 'Reviews',\n",
       " 'MYDD',\n",
       " 'Jerome',\n",
       " 'Armstrong',\n",
       " 'And',\n",
       " 'blogger',\n",
       " 'savvy',\n",
       " 'John',\n",
       " 'Edwards',\n",
       " 'outreach',\n",
       " 'Clinton',\n",
       " 'internet',\n",
       " 'team',\n",
       " 'emails',\n",
       " 'bloggers',\n",
       " 'notify',\n",
       " 'separate',\n",
       " 'press',\n",
       " 'outreach',\n",
       " 'Obama',\n",
       " 'camp',\n",
       " 'The',\n",
       " 'website',\n",
       " 'clean',\n",
       " 'Kerry-2004',\n",
       " 'look',\n",
       " 'A',\n",
       " 'smart',\n",
       " 'write',\n",
       " 'first',\n",
       " 'post',\n",
       " 'call',\n",
       " 'action',\n",
       " 'website',\n",
       " 'The',\n",
       " 'announcement',\n",
       " 'unprecedented',\n",
       " 'series',\n",
       " 'video',\n",
       " 'webcasts',\n",
       " 'beginning',\n",
       " 'Monday',\n",
       " 'January',\n",
       " '22nd',\n",
       " '7pm',\n",
       " 'EST',\n",
       " 'three',\n",
       " 'nights',\n",
       " 'creates',\n",
       " 'quick',\n",
       " 'narrative',\n",
       " 'interaction',\n",
       " 'response',\n",
       " 'around',\n",
       " 'Bush',\n",
       " \"'s\",\n",
       " 'SOTU',\n",
       " 'address',\n",
       " 'DAILY',\n",
       " 'KOS',\n",
       " 'DIARY',\n",
       " 'nyceve',\n",
       " 'I',\n",
       " \"'m\",\n",
       " 'open',\n",
       " 'honest',\n",
       " 'person',\n",
       " 'I',\n",
       " \"'m\",\n",
       " 'profoundly',\n",
       " 'moved',\n",
       " 'announcement',\n",
       " 'What',\n",
       " 'unimaginable',\n",
       " 'decades',\n",
       " 'ago',\n",
       " 'something',\n",
       " 'almost',\n",
       " 'touch',\n",
       " 'THE',\n",
       " 'CARPETBAGGER',\n",
       " 'REPORT',\n",
       " 'Clinton',\n",
       " 'enters',\n",
       " 'race',\n",
       " 'without',\n",
       " 'doubt',\n",
       " 'top',\n",
       " 'top',\n",
       " 'tier',\n",
       " 'I',\n",
       " \"'ve\",\n",
       " 'heard',\n",
       " 'various',\n",
       " 'concerns',\n",
       " 'candidacy',\n",
       " 'I',\n",
       " \"n't\",\n",
       " 'doubt',\n",
       " 'takes',\n",
       " 'win',\n",
       " 'Indeed',\n",
       " 'Clinton',\n",
       " 'brings',\n",
       " 'enormous',\n",
       " 'amount',\n",
       " 'talent',\n",
       " 'experience',\n",
       " 'intelligence',\n",
       " 'table',\n",
       " 'TAYLOR',\n",
       " 'MARSH',\n",
       " 'Sitting',\n",
       " 'living',\n",
       " 'room',\n",
       " 'setting',\n",
       " 'Senator',\n",
       " 'Hillary',\n",
       " 'Clinton',\n",
       " 'made',\n",
       " 'one',\n",
       " 'simple',\n",
       " 'statement',\n",
       " 'changed',\n",
       " 'landscape',\n",
       " \"'08\",\n",
       " 'presidential',\n",
       " 'tournament',\n",
       " 'come',\n",
       " 'To',\n",
       " 'add',\n",
       " 'I',\n",
       " 'got',\n",
       " 'email',\n",
       " 'event',\n",
       " 'morning',\n",
       " '6:00',\n",
       " 'a.m.',\n",
       " 'Because',\n",
       " 'first',\n",
       " 'woman',\n",
       " 'run',\n",
       " 'president',\n",
       " 'actual',\n",
       " 'chance',\n",
       " 'winning',\n",
       " 'puts',\n",
       " 'name',\n",
       " 'reputation',\n",
       " 'line',\n",
       " 'becomes',\n",
       " 'news',\n",
       " 'day',\n",
       " 'week',\n",
       " 'even',\n",
       " 'generation',\n",
       " 'TALK',\n",
       " 'LEFT',\n",
       " 'It',\n",
       " 'exciting',\n",
       " 'serious',\n",
       " 'female',\n",
       " 'candidate',\n",
       " 'President',\n",
       " 'OUTSIDE',\n",
       " 'THE',\n",
       " 'BELTWAY',\n",
       " 'After',\n",
       " 'nearly',\n",
       " 'eight',\n",
       " 'years',\n",
       " 'speculation',\n",
       " 'Hillary',\n",
       " 'Clinton',\n",
       " 'announced',\n",
       " 'candidacy',\n",
       " 'president',\n",
       " '...',\n",
       " 'done',\n",
       " 'remarkable',\n",
       " 'job',\n",
       " 'past',\n",
       " 'several',\n",
       " 'years',\n",
       " 'getting',\n",
       " 'husband',\n",
       " \"'s\",\n",
       " 'shadow',\n",
       " 'positioning',\n",
       " 'moderate',\n",
       " 'previously',\n",
       " 'thought',\n",
       " 'garnering',\n",
       " 'bipartisan',\n",
       " 'praise',\n",
       " 'collegiality',\n",
       " 'hard',\n",
       " 'work',\n",
       " 'Senate',\n",
       " 'DAILY',\n",
       " 'KOS',\n",
       " 'DIARY',\n",
       " 'Yellow',\n",
       " 'Dog',\n",
       " 'Blue',\n",
       " 'How',\n",
       " 'survived',\n",
       " 'thrived',\n",
       " 'Not',\n",
       " 'heavying',\n",
       " 'armor',\n",
       " 'Not',\n",
       " 'engaging',\n",
       " 'overwhelming',\n",
       " 'opponents',\n",
       " 'Not',\n",
       " 'even',\n",
       " 'appealing',\n",
       " 'public',\n",
       " 'sympathy',\n",
       " 'Instead',\n",
       " 'Hillary',\n",
       " 'gone',\n",
       " 'business',\n",
       " 'Senator',\n",
       " 'building',\n",
       " 'personal',\n",
       " 'relationships',\n",
       " 'support',\n",
       " 'getting',\n",
       " 'using',\n",
       " 'power',\n",
       " 'And',\n",
       " 'I',\n",
       " 'really',\n",
       " 'admire',\n",
       " 'SEEING',\n",
       " 'THE',\n",
       " 'FOREST',\n",
       " 'Dave',\n",
       " 'Johnson',\n",
       " 'People',\n",
       " 'say',\n",
       " 'Hillary',\n",
       " 'Clinton',\n",
       " 'baggage',\n",
       " 'divisive',\n",
       " 'Actually',\n",
       " 'investigated',\n",
       " 'thoroughly',\n",
       " 'almost',\n",
       " 'anyone',\n",
       " 'country',\n",
       " \"'s\",\n",
       " 'history',\n",
       " 'found',\n",
       " 'nothing',\n",
       " 'It',\n",
       " \"n't\",\n",
       " 'Hillary',\n",
       " 'divisive',\n",
       " \"'s\",\n",
       " 'people',\n",
       " 'making',\n",
       " 'accusations']"
      ]
     },
     "execution_count": 65,
     "metadata": {},
     "output_type": "execute_result"
    }
   ],
   "source": [
    "filtered = without_words_set(a_speech, custom_filter)\n",
    "filtered"
   ]
  },
  {
   "cell_type": "code",
   "execution_count": 66,
   "metadata": {
    "collapsed": true
   },
   "outputs": [
    {
     "data": {
      "text/plain": [
       "[('Clinton', 10),\n",
       " ('Hillary', 6),\n",
       " (\"'s\", 6),\n",
       " ('I', 6),\n",
       " ('announcement', 5),\n",
       " ('candidacy', 5),\n",
       " ('Senator', 4),\n",
       " ('web', 3),\n",
       " ('site', 3),\n",
       " ('support', 3),\n",
       " ('top', 3),\n",
       " ('THE', 3),\n",
       " ('Not', 3),\n",
       " ('100', 2),\n",
       " ('per', 2)]"
      ]
     },
     "execution_count": 66,
     "metadata": {},
     "output_type": "execute_result"
    }
   ],
   "source": [
    "Counter(filtered).most_common(15)"
   ]
  },
  {
   "cell_type": "markdown",
   "metadata": {},
   "source": [
    "## Counts words 2\n",
    "Build your own dictionary you want to count and run it"
   ]
  },
  {
   "cell_type": "code",
   "execution_count": 67,
   "metadata": {
    "collapsed": true
   },
   "outputs": [],
   "source": [
    "def words_to_dictionary(words):\n",
    "    \"\"\"Making a dictionary with given words. \n",
    "    Set key as each word and set value to initail counting 0\"\"\"\n",
    "    dic = {}\n",
    "    for word in words:\n",
    "        dic[word] = 0\n",
    "    return dic"
   ]
  },
  {
   "cell_type": "code",
   "execution_count": 68,
   "metadata": {
    "collapsed": true
   },
   "outputs": [
    {
     "data": {
      "text/plain": [
       "{'Clinton': 0, 'Hillary': 0, 'action': 0, 'her': 0}"
      ]
     },
     "execution_count": 68,
     "metadata": {},
     "output_type": "execute_result"
    }
   ],
   "source": [
    "my_words = [\"Clinton\", \"Hillary\", \"action\", \"her\"]\n",
    "my_dictionary = words_to_dictionary(my_words)\n",
    "my_dictionary"
   ]
  },
  {
   "cell_type": "code",
   "execution_count": 69,
   "metadata": {
    "collapsed": true
   },
   "outputs": [
    {
     "data": {
      "text/plain": [
       "{'Clinton': 7, 'Hillary': 6, 'action': 1, 'her': 11}"
      ]
     },
     "execution_count": 69,
     "metadata": {},
     "output_type": "execute_result"
    }
   ],
   "source": [
    "def count_words(dictionary, speech):\n",
    "    speech_words = speech.split(' ')\n",
    "    for word in speech_words:\n",
    "        if word in dictionary:\n",
    "            dictionary[word] = dictionary[word] + 1\n",
    "    return dictionary\n",
    "count_words(my_dictionary, a_speech)"
   ]
  },
  {
   "cell_type": "markdown",
   "metadata": {},
   "source": [
    "### Assignment: Code your dictionary into Python"
   ]
  },
  {
   "cell_type": "markdown",
   "metadata": {},
   "source": [
    "First, make a list of the words you found corresponding to each foundation. Assign them to the variable names below by filling in the lists."
   ]
  },
  {
   "cell_type": "code",
   "execution_count": 70,
   "metadata": {
    "collapsed": true
   },
   "outputs": [],
   "source": [
    "# Make 6 lists. \n",
    "# Tip: each word needs to go in quotation marks and each string must be separated by commas\n",
    "care_words = []\n",
    "authority_words = []\n",
    "loyalty_words = []\n",
    "sanctity_words = []\n",
    "fairness_words = []\n",
    "liberty_words = []\n"
   ]
  },
  {
   "cell_type": "markdown",
   "metadata": {},
   "source": [
    "Next, make your dictionary by creating a new dictionary with the foundations as keys and your lists as the values."
   ]
  },
  {
   "cell_type": "code",
   "execution_count": 71,
   "metadata": {
    "collapsed": true
   },
   "outputs": [],
   "source": [
    "# \n",
    "my_dict = {'test': 1}"
   ]
  },
  {
   "cell_type": "markdown",
   "metadata": {},
   "source": [
    "Finally, run the next cell to write your dictionary to a file."
   ]
  },
  {
   "cell_type": "code",
   "execution_count": 72,
   "metadata": {
    "collapsed": true
   },
   "outputs": [],
   "source": [
    "# Run this cell to write dictionary to a file\n",
    "import json \n",
    "# convert dictionary to a JSON-formatted string\n",
    "with open('../mft_data/my_dict.json', 'w') as fp:\n",
    "    json.dump(my_dict, fp, sort_keys=True, indent=4)"
   ]
  },
  {
   "cell_type": "markdown",
   "metadata": {},
   "source": [
    "## Next Steps\n",
    "\n",
    "### Homework!\n",
    "Complete this short assignment by Monday. We recommend starting early, and coming to office hours for help. https://tinyurl.com/rhetorichomework\n",
    "\n",
    "### Office Hours\n",
    "Come to the Center for Connected Learning on the first floor of Moffitt Library (opposite side of elevators) today from 4:30-6:00 pm to answer any questions relating to this notebook or the homework.\n",
    "\n",
    "### Next Week\n",
    "#### Module 02: Moral Foundations Analysis\n",
    "#### Module 03: The Rhetoric of Data"
   ]
  },
  {
   "cell_type": "markdown",
   "metadata": {},
   "source": [
    "Module Developers: Alec Kan, Shalini Kunapuli, and William McEachen \n",
    "\n",
    "Earlier version of this notebook developed by: Seungwoo Sean Son, Keeley Takimoto, Sujude Dalieh\n",
    "\n",
    "Data Science Modules: http://data.berkeley.edu/education/modules\n",
    "\n",
    "Some materials are from http://composingprograms.com and https://developers.google.com/edu/python"
   ]
  }
 ],
 "metadata": {
  "kernelspec": {
   "display_name": "Python 3",
   "language": "python",
   "name": "python3"
  },
  "language_info": {
   "codemirror_mode": {
    "name": "ipython",
    "version": 3
   },
   "file_extension": ".py",
   "mimetype": "text/x-python",
   "name": "python",
   "nbconvert_exporter": "python",
   "pygments_lexer": "ipython3",
   "version": "3.6.5"
  }
 },
 "nbformat": 4,
 "nbformat_minor": 2
}
