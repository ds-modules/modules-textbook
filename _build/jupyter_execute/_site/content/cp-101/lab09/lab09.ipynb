{
 "cells": [
  {
   "cell_type": "markdown",
   "metadata": {},
   "source": [
    "# Introduction to `geopandas`\n",
    "---\n",
    "Today we are going to learn how to use python and Jupyter notebooks to learn the basics of working with geospatial data in `geopandas`. `geopandas` is built on top of the `pandas` package you saw in the previous lab. Many of the methods you will see in this lab are shared between the two packages."
   ]
  },
  {
   "cell_type": "code",
   "execution_count": 3,
   "metadata": {
    "collapsed": true
   },
   "outputs": [],
   "source": [
    "# RUN THIS CELL FIRST or the notebook won't work\n",
    "import numpy as np\n",
    "import pandas as pd\n",
    "import geopandas as gpd\n",
    "from IPython.display import display\n",
    "import matplotlib.pyplot as plt\n",
    "\n",
    "# These help the maps display nicely in the notebook\n",
    "%matplotlib inline\n",
    "plt.rcParams['figure.figsize'] = [30, 20]\n",
    "\n",
    "# This line tells iPython to not display warnings.\n",
    "import warnings\n",
    "warnings.filterwarnings('ignore')"
   ]
  },
  {
   "cell_type": "markdown",
   "metadata": {},
   "source": [
    "First, let's load our data and see what kind of data we are working with.  The `read_file` method requires that we pass the _filepath_ from our current directory (the location of this notebook) to the data. The `pwd()` function shows you the your current location in the file system. Another way you can say this is that it __p__rints your __w__orking __d__irectory."
   ]
  },
  {
   "cell_type": "code",
   "execution_count": 4,
   "metadata": {
    "collapsed": true
   },
   "outputs": [
    {
     "data": {
      "text/plain": [
       "'/Users/chrispyles/GitHub/modules-textbook/content/cp-101/lab09'"
      ]
     },
     "execution_count": 4,
     "metadata": {},
     "output_type": "execute_result"
    }
   ],
   "source": [
    "pwd()"
   ]
  },
  {
   "cell_type": "markdown",
   "metadata": {},
   "source": [
    "To get to the data, we would first enter the `shapefiles` folder from the working directory, then the `alameda` folder. The way we communicate this to the function is by passing `'shapefiles/alameda/'` as an argument. This folder contains demographic information organized by census tract in Alameda County."
   ]
  },
  {
   "cell_type": "code",
   "execution_count": 5,
   "metadata": {
    "collapsed": true
   },
   "outputs": [],
   "source": [
    "alameda = gpd.read_file('shapefiles/alameda/')"
   ]
  },
  {
   "cell_type": "markdown",
   "metadata": {},
   "source": [
    "Let's take a look at what our data looks like in Jupyter. We can use the `.head()` method to show the first 5 rows of our data. Similarly, you can use the `.tail()` method to show the last 5 rows of the data."
   ]
  },
  {
   "cell_type": "code",
   "execution_count": 6,
   "metadata": {
    "collapsed": true
   },
   "outputs": [
    {
     "data": {
      "text/html": [
       "<div>\n",
       "<style scoped>\n",
       "    .dataframe tbody tr th:only-of-type {\n",
       "        vertical-align: middle;\n",
       "    }\n",
       "\n",
       "    .dataframe tbody tr th {\n",
       "        vertical-align: top;\n",
       "    }\n",
       "\n",
       "    .dataframe thead th {\n",
       "        text-align: right;\n",
       "    }\n",
       "</style>\n",
       "<table border=\"1\" class=\"dataframe\">\n",
       "  <thead>\n",
       "    <tr style=\"text-align: right;\">\n",
       "      <th></th>\n",
       "      <th>AFFGEOID</th>\n",
       "      <th>ALAND</th>\n",
       "      <th>ALAND_1</th>\n",
       "      <th>AWATER</th>\n",
       "      <th>AWATER_1</th>\n",
       "      <th>COUNTYFP</th>\n",
       "      <th>COUNTYFP_1</th>\n",
       "      <th>FID_1</th>\n",
       "      <th>FUNCSTAT</th>\n",
       "      <th>GEOID</th>\n",
       "      <th>...</th>\n",
       "      <th>female</th>\n",
       "      <th>male</th>\n",
       "      <th>medianage</th>\n",
       "      <th>mergeid</th>\n",
       "      <th>pct_20to64</th>\n",
       "      <th>pct_over64</th>\n",
       "      <th>pct_pov</th>\n",
       "      <th>pct_und_20</th>\n",
       "      <th>total_pop</th>\n",
       "      <th>geometry</th>\n",
       "    </tr>\n",
       "  </thead>\n",
       "  <tbody>\n",
       "    <tr>\n",
       "      <th>0</th>\n",
       "      <td>1400000US06001400600</td>\n",
       "      <td>297856.0</td>\n",
       "      <td>297856.0</td>\n",
       "      <td>0.0</td>\n",
       "      <td>0.0</td>\n",
       "      <td>001</td>\n",
       "      <td>001</td>\n",
       "      <td>275.0</td>\n",
       "      <td>S</td>\n",
       "      <td>06001400600</td>\n",
       "      <td>...</td>\n",
       "      <td>1020.0</td>\n",
       "      <td>730.0</td>\n",
       "      <td>34.4</td>\n",
       "      <td>06001400600</td>\n",
       "      <td>78.2</td>\n",
       "      <td>9.8</td>\n",
       "      <td>8.3</td>\n",
       "      <td>12.0</td>\n",
       "      <td>1750.0</td>\n",
       "      <td>POLYGON ((-122.26807 37.844136, -122.26514 37....</td>\n",
       "    </tr>\n",
       "    <tr>\n",
       "      <th>1</th>\n",
       "      <td>1400000US06001400900</td>\n",
       "      <td>420877.0</td>\n",
       "      <td>420877.0</td>\n",
       "      <td>0.0</td>\n",
       "      <td>0.0</td>\n",
       "      <td>001</td>\n",
       "      <td>001</td>\n",
       "      <td>297.0</td>\n",
       "      <td>S</td>\n",
       "      <td>06001400900</td>\n",
       "      <td>...</td>\n",
       "      <td>1106.0</td>\n",
       "      <td>925.0</td>\n",
       "      <td>38.9</td>\n",
       "      <td>06001400900</td>\n",
       "      <td>71.0</td>\n",
       "      <td>7.7</td>\n",
       "      <td>12.0</td>\n",
       "      <td>21.0</td>\n",
       "      <td>2031.0</td>\n",
       "      <td>POLYGON ((-122.285576 37.839778, -122.283186 3...</td>\n",
       "    </tr>\n",
       "    <tr>\n",
       "      <th>2</th>\n",
       "      <td>1400000US06001401400</td>\n",
       "      <td>758241.0</td>\n",
       "      <td>758241.0</td>\n",
       "      <td>0.0</td>\n",
       "      <td>0.0</td>\n",
       "      <td>001</td>\n",
       "      <td>001</td>\n",
       "      <td>239.0</td>\n",
       "      <td>S</td>\n",
       "      <td>06001401400</td>\n",
       "      <td>...</td>\n",
       "      <td>2170.0</td>\n",
       "      <td>2127.0</td>\n",
       "      <td>31.3</td>\n",
       "      <td>06001401400</td>\n",
       "      <td>64.7</td>\n",
       "      <td>8.2</td>\n",
       "      <td>41.7</td>\n",
       "      <td>27.1</td>\n",
       "      <td>4297.0</td>\n",
       "      <td>POLYGON ((-122.278611 37.826878, -122.268563 3...</td>\n",
       "    </tr>\n",
       "    <tr>\n",
       "      <th>3</th>\n",
       "      <td>1400000US06001403000</td>\n",
       "      <td>352394.0</td>\n",
       "      <td>352394.0</td>\n",
       "      <td>0.0</td>\n",
       "      <td>0.0</td>\n",
       "      <td>001</td>\n",
       "      <td>001</td>\n",
       "      <td>258.0</td>\n",
       "      <td>S</td>\n",
       "      <td>06001403000</td>\n",
       "      <td>...</td>\n",
       "      <td>1445.0</td>\n",
       "      <td>1026.0</td>\n",
       "      <td>58.3</td>\n",
       "      <td>06001403000</td>\n",
       "      <td>47.9</td>\n",
       "      <td>43.8</td>\n",
       "      <td>30.2</td>\n",
       "      <td>8.3</td>\n",
       "      <td>2471.0</td>\n",
       "      <td>POLYGON ((-122.274757 37.79883299999999, -122....</td>\n",
       "    </tr>\n",
       "    <tr>\n",
       "      <th>4</th>\n",
       "      <td>1400000US06001405902</td>\n",
       "      <td>487280.0</td>\n",
       "      <td>487280.0</td>\n",
       "      <td>0.0</td>\n",
       "      <td>0.0</td>\n",
       "      <td>001</td>\n",
       "      <td>001</td>\n",
       "      <td>746.0</td>\n",
       "      <td>S</td>\n",
       "      <td>06001405902</td>\n",
       "      <td>...</td>\n",
       "      <td>1713.0</td>\n",
       "      <td>1808.0</td>\n",
       "      <td>31.5</td>\n",
       "      <td>06001405902</td>\n",
       "      <td>58.6</td>\n",
       "      <td>10.0</td>\n",
       "      <td>31.0</td>\n",
       "      <td>31.5</td>\n",
       "      <td>3521.0</td>\n",
       "      <td>POLYGON ((-122.247175 37.789913, -122.243512 3...</td>\n",
       "    </tr>\n",
       "  </tbody>\n",
       "</table>\n",
       "<p>5 rows × 35 columns</p>\n",
       "</div>"
      ],
      "text/plain": [
       "               AFFGEOID     ALAND   ALAND_1  AWATER  AWATER_1 COUNTYFP  \\\n",
       "0  1400000US06001400600  297856.0  297856.0     0.0       0.0      001   \n",
       "1  1400000US06001400900  420877.0  420877.0     0.0       0.0      001   \n",
       "2  1400000US06001401400  758241.0  758241.0     0.0       0.0      001   \n",
       "3  1400000US06001403000  352394.0  352394.0     0.0       0.0      001   \n",
       "4  1400000US06001405902  487280.0  487280.0     0.0       0.0      001   \n",
       "\n",
       "  COUNTYFP_1  FID_1 FUNCSTAT        GEOID  ...  female    male medianage  \\\n",
       "0        001  275.0        S  06001400600  ...  1020.0   730.0      34.4   \n",
       "1        001  297.0        S  06001400900  ...  1106.0   925.0      38.9   \n",
       "2        001  239.0        S  06001401400  ...  2170.0  2127.0      31.3   \n",
       "3        001  258.0        S  06001403000  ...  1445.0  1026.0      58.3   \n",
       "4        001  746.0        S  06001405902  ...  1713.0  1808.0      31.5   \n",
       "\n",
       "       mergeid pct_20to64  pct_over64 pct_pov pct_und_20 total_pop  \\\n",
       "0  06001400600       78.2         9.8     8.3       12.0    1750.0   \n",
       "1  06001400900       71.0         7.7    12.0       21.0    2031.0   \n",
       "2  06001401400       64.7         8.2    41.7       27.1    4297.0   \n",
       "3  06001403000       47.9        43.8    30.2        8.3    2471.0   \n",
       "4  06001405902       58.6        10.0    31.0       31.5    3521.0   \n",
       "\n",
       "                                            geometry  \n",
       "0  POLYGON ((-122.26807 37.844136, -122.26514 37....  \n",
       "1  POLYGON ((-122.285576 37.839778, -122.283186 3...  \n",
       "2  POLYGON ((-122.278611 37.826878, -122.268563 3...  \n",
       "3  POLYGON ((-122.274757 37.79883299999999, -122....  \n",
       "4  POLYGON ((-122.247175 37.789913, -122.243512 3...  \n",
       "\n",
       "[5 rows x 35 columns]"
      ]
     },
     "execution_count": 6,
     "metadata": {},
     "output_type": "execute_result"
    }
   ],
   "source": [
    "alameda.head()"
   ]
  },
  {
   "cell_type": "markdown",
   "metadata": {},
   "source": [
    "The first few columns of the table contain information relating to the itentity of each census tract, but we can't interpret these without looking at the metadata for this dataset. If you scroll the table all the way to the right, you can see some columns with names that are more easily interpretable. However, because the table we are reading in has more columns than the page can accomodate, the display omits the middle columns to make the table narrower. To see a list of all of the columns in our `GeoDataFrame`, we access use the `.column` attribute like so."
   ]
  },
  {
   "cell_type": "code",
   "execution_count": 7,
   "metadata": {
    "collapsed": true
   },
   "outputs": [
    {
     "data": {
      "text/plain": [
       "Index(['AFFGEOID', 'ALAND', 'ALAND_1', 'AWATER', 'AWATER_1', 'COUNTYFP',\n",
       "       'COUNTYFP_1', 'FID_1', 'FUNCSTAT', 'GEOID', 'GEOID_1', 'Geography',\n",
       "       'INTPTLAT', 'INTPTLON', 'Id', 'Id2', 'LSAD', 'MTFCC', 'NAME',\n",
       "       'NAMELSAD', 'NAME_1', 'STATEFP', 'STATEFP_1', 'TRACTCE', 'TRACTCE_1',\n",
       "       'female', 'male', 'medianage', 'mergeid', 'pct_20to64', 'pct_over64',\n",
       "       'pct_pov', 'pct_und_20', 'total_pop', 'geometry'],\n",
       "      dtype='object')"
      ]
     },
     "execution_count": 7,
     "metadata": {},
     "output_type": "execute_result"
    }
   ],
   "source": [
    "alameda.columns"
   ]
  },
  {
   "cell_type": "markdown",
   "metadata": {},
   "source": [
    "## Examining the data"
   ]
  },
  {
   "cell_type": "markdown",
   "metadata": {},
   "source": [
    "### Accessing the data"
   ]
  },
  {
   "cell_type": "markdown",
   "metadata": {},
   "source": [
    "The `.loc[]` and `.iloc[]` methods allow us to view cells in a `DataFrame` or `GeoDataFrame` based on their name or location. The __i__ in `.iloc[]` stands for the __integer__ position of a cell, and accesses cells by location in index coordinates. The `.loc[]` method allows you to access cells by the index of the rows and the names of the columns. For both `.loc[]` and `.iloc[]`, the first argument refers to the row, and the second argument refers to the column.\n",
    "\n",
    "Typically the row index will be the same as its integer position, but that is not always the case. Let's set up a `DataFrame` to see this in action."
   ]
  },
  {
   "cell_type": "code",
   "execution_count": 8,
   "metadata": {
    "collapsed": true
   },
   "outputs": [
    {
     "data": {
      "text/html": [
       "<div>\n",
       "<style scoped>\n",
       "    .dataframe tbody tr th:only-of-type {\n",
       "        vertical-align: middle;\n",
       "    }\n",
       "\n",
       "    .dataframe tbody tr th {\n",
       "        vertical-align: top;\n",
       "    }\n",
       "\n",
       "    .dataframe thead th {\n",
       "        text-align: right;\n",
       "    }\n",
       "</style>\n",
       "<table border=\"1\" class=\"dataframe\">\n",
       "  <thead>\n",
       "    <tr style=\"text-align: right;\">\n",
       "      <th></th>\n",
       "      <th>a</th>\n",
       "      <th>b</th>\n",
       "      <th>c</th>\n",
       "      <th>d</th>\n",
       "    </tr>\n",
       "  </thead>\n",
       "  <tbody>\n",
       "    <tr>\n",
       "      <th>1.1</th>\n",
       "      <td>1</td>\n",
       "      <td>4</td>\n",
       "      <td>7</td>\n",
       "      <td>10</td>\n",
       "    </tr>\n",
       "    <tr>\n",
       "      <th>1.2</th>\n",
       "      <td>2</td>\n",
       "      <td>5</td>\n",
       "      <td>8</td>\n",
       "      <td>11</td>\n",
       "    </tr>\n",
       "    <tr>\n",
       "      <th>1.3</th>\n",
       "      <td>3</td>\n",
       "      <td>6</td>\n",
       "      <td>9</td>\n",
       "      <td>12</td>\n",
       "    </tr>\n",
       "  </tbody>\n",
       "</table>\n",
       "</div>"
      ],
      "text/plain": [
       "     a  b  c   d\n",
       "1.1  1  4  7  10\n",
       "1.2  2  5  8  11\n",
       "1.3  3  6  9  12"
      ]
     },
     "execution_count": 8,
     "metadata": {},
     "output_type": "execute_result"
    }
   ],
   "source": [
    "df = pd.DataFrame(data = {'a': [1, 2, 3],\n",
    "                         'b': [4, 5, 6],\n",
    "                         'c': [7, 8, 9],\n",
    "                         'd': [10, 11, 12]},\n",
    "                 index = [1.1, 1.2, 1.3])\n",
    "df"
   ]
  },
  {
   "cell_type": "markdown",
   "metadata": {},
   "source": [
    "If we want to access the number 8 from `df`, we would need to tell `.iloc[]` to look in `df` at row `1`, column `2` (remember that python starts counting from zero!)."
   ]
  },
  {
   "cell_type": "code",
   "execution_count": 9,
   "metadata": {
    "collapsed": true
   },
   "outputs": [
    {
     "data": {
      "text/plain": [
       "8"
      ]
     },
     "execution_count": 9,
     "metadata": {},
     "output_type": "execute_result"
    }
   ],
   "source": [
    "df.iloc[1, 2]"
   ]
  },
  {
   "cell_type": "markdown",
   "metadata": {},
   "source": [
    "Using `.loc[]`, we would need to tell the method that we want row index `1.2`, column name `'c'`."
   ]
  },
  {
   "cell_type": "code",
   "execution_count": 10,
   "metadata": {
    "collapsed": true
   },
   "outputs": [
    {
     "data": {
      "text/plain": [
       "8"
      ]
     },
     "execution_count": 10,
     "metadata": {},
     "output_type": "execute_result"
    }
   ],
   "source": [
    "df.loc[1.2, 'c']"
   ]
  },
  {
   "cell_type": "markdown",
   "metadata": {},
   "source": [
    "You can also specify a range of indices to both of these methods if you want to access multiple adjacent cells. For `iloc[]`, this range will always refer to integer coordinates of the cells."
   ]
  },
  {
   "cell_type": "code",
   "execution_count": 11,
   "metadata": {
    "collapsed": true
   },
   "outputs": [
    {
     "data": {
      "text/html": [
       "<div>\n",
       "<style scoped>\n",
       "    .dataframe tbody tr th:only-of-type {\n",
       "        vertical-align: middle;\n",
       "    }\n",
       "\n",
       "    .dataframe tbody tr th {\n",
       "        vertical-align: top;\n",
       "    }\n",
       "\n",
       "    .dataframe thead th {\n",
       "        text-align: right;\n",
       "    }\n",
       "</style>\n",
       "<table border=\"1\" class=\"dataframe\">\n",
       "  <thead>\n",
       "    <tr style=\"text-align: right;\">\n",
       "      <th></th>\n",
       "      <th>b</th>\n",
       "      <th>c</th>\n",
       "      <th>d</th>\n",
       "    </tr>\n",
       "  </thead>\n",
       "  <tbody>\n",
       "    <tr>\n",
       "      <th>1.1</th>\n",
       "      <td>4</td>\n",
       "      <td>7</td>\n",
       "      <td>10</td>\n",
       "    </tr>\n",
       "    <tr>\n",
       "      <th>1.3</th>\n",
       "      <td>6</td>\n",
       "      <td>9</td>\n",
       "      <td>12</td>\n",
       "    </tr>\n",
       "  </tbody>\n",
       "</table>\n",
       "</div>"
      ],
      "text/plain": [
       "     b  c   d\n",
       "1.1  4  7  10\n",
       "1.3  6  9  12"
      ]
     },
     "execution_count": 11,
     "metadata": {},
     "output_type": "execute_result"
    }
   ],
   "source": [
    "# This code tells .iloc that we want rows 0 and 2, then all columns with index\n",
    "# greater than or equal to 1.\n",
    "df.iloc[[0, 2], 1:]"
   ]
  },
  {
   "cell_type": "markdown",
   "metadata": {},
   "source": [
    "We can also refer to a range named columns and rows using `.loc[]`"
   ]
  },
  {
   "cell_type": "code",
   "execution_count": 12,
   "metadata": {
    "collapsed": true
   },
   "outputs": [
    {
     "data": {
      "text/html": [
       "<div>\n",
       "<style scoped>\n",
       "    .dataframe tbody tr th:only-of-type {\n",
       "        vertical-align: middle;\n",
       "    }\n",
       "\n",
       "    .dataframe tbody tr th {\n",
       "        vertical-align: top;\n",
       "    }\n",
       "\n",
       "    .dataframe thead th {\n",
       "        text-align: right;\n",
       "    }\n",
       "</style>\n",
       "<table border=\"1\" class=\"dataframe\">\n",
       "  <thead>\n",
       "    <tr style=\"text-align: right;\">\n",
       "      <th></th>\n",
       "      <th>b</th>\n",
       "      <th>c</th>\n",
       "      <th>d</th>\n",
       "    </tr>\n",
       "  </thead>\n",
       "  <tbody>\n",
       "    <tr>\n",
       "      <th>1.2</th>\n",
       "      <td>5</td>\n",
       "      <td>8</td>\n",
       "      <td>11</td>\n",
       "    </tr>\n",
       "  </tbody>\n",
       "</table>\n",
       "</div>"
      ],
      "text/plain": [
       "     b  c   d\n",
       "1.2  5  8  11"
      ]
     },
     "execution_count": 12,
     "metadata": {},
     "output_type": "execute_result"
    }
   ],
   "source": [
    "# This code tells .loc that we want row 1.2, columns 'b' through 'd' inclusive.\n",
    "df.loc[[1.2], 'b':'d']"
   ]
  },
  {
   "cell_type": "markdown",
   "metadata": {},
   "source": [
    "### Basic maps"
   ]
  },
  {
   "cell_type": "markdown",
   "metadata": {},
   "source": [
    "The `geometry` column contains a new data type called a polygon, which is how `geopandas` is able to store geographic information. Let's look at one of these polygons using `.loc[]`."
   ]
  },
  {
   "cell_type": "code",
   "execution_count": 13,
   "metadata": {
    "collapsed": true
   },
   "outputs": [
    {
     "data": {
      "image/svg+xml": [
       "<svg xmlns=\"http://www.w3.org/2000/svg\" xmlns:xlink=\"http://www.w3.org/1999/xlink\" width=\"100.0\" height=\"100.0\" viewBox=\"-122.2683718 37.8371802 0.007377599999998097 0.008148600000005501\" preserveAspectRatio=\"xMinYMin meet\"><g transform=\"matrix(1,0,0,-1,0,75.68250900000001)\"><path fill-rule=\"evenodd\" fill=\"#66cc99\" stroke=\"#555555\" stroke-width=\"0.00016297200000011002\" opacity=\"0.6\" d=\"M -122.26807,37.844136 L -122.26514,37.84453 L -122.261296,37.845027 L -122.261805,37.841789999999996 L -122.26186,37.841353 L -122.264164,37.839997 L -122.265631,37.837635999999996 L -122.26665299999999,37.837482 L -122.267257,37.840151999999996 L -122.267562,37.841671999999996 L -122.26807,37.844136 z\" /></g></svg>"
      ],
      "text/plain": [
       "<shapely.geometry.polygon.Polygon at 0x124d626a0>"
      ]
     },
     "execution_count": 13,
     "metadata": {},
     "output_type": "execute_result"
    }
   ],
   "source": [
    "alameda.loc[0, 'geometry']"
   ]
  },
  {
   "cell_type": "markdown",
   "metadata": {},
   "source": [
    "To view all of the polygons in the `GeoDataFrame`, we can just use the `.plot()` method. The documentation for this function can be found [here](http://geopandas.org/mapping.html)."
   ]
  },
  {
   "cell_type": "code",
   "execution_count": 14,
   "metadata": {
    "collapsed": true
   },
   "outputs": [
    {
     "data": {
      "text/plain": [
       "<matplotlib.axes._subplots.AxesSubplot at 0x124dea7f0>"
      ]
     },
     "execution_count": 14,
     "metadata": {},
     "output_type": "execute_result"
    },
    {
     "data": {
      "image/png": "[encoded data removed]",
      "text/plain": [
       "<Figure size 432x288 with 1 Axes>"
      ]
     },
     "metadata": {},
     "output_type": "display_data"
    }
   ],
   "source": [
    "alameda.plot()"
   ]
  },
  {
   "cell_type": "markdown",
   "metadata": {},
   "source": [
    "You can improve the appearance of this graph by removing the axis labels surrounding the map and adding a title. You may also see a line that says something like `<matplotlib.axes._subplots.AxesSubplot at 0x1120b5710>` above the map. You can prevent Jupyter from displaying this line by adding a `;` to the last line of code creating the map."
   ]
  },
  {
   "cell_type": "code",
   "execution_count": 15,
   "metadata": {
    "collapsed": true,
    "scrolled": false
   },
   "outputs": [
    {
     "data": {
      "image/png": "[encoded data removed]",
      "text/plain": [
       "<Figure size 432x288 with 1 Axes>"
      ]
     },
     "metadata": {},
     "output_type": "display_data"
    }
   ],
   "source": [
    "alameda.plot()\n",
    "\n",
    "# Adding the fontsize argument allows you to manipulate the font size.\n",
    "plt.title('Alameda County Census Tracts', fontsize = 30)\n",
    "\n",
    "# This turns the plot axes off.\n",
    "plt.axis('off');"
   ]
  },
  {
   "cell_type": "markdown",
   "metadata": {},
   "source": [
    "### Choropleth maps"
   ]
  },
  {
   "cell_type": "markdown",
   "metadata": {},
   "source": [
    "If we want to make this map more informative, we can incorporate some of the other columns from the data into the map. For example, the `'pct_pov'` column in the table contains the percentage of people living in poverty in each census tract."
   ]
  },
  {
   "cell_type": "code",
   "execution_count": 16,
   "metadata": {
    "collapsed": true
   },
   "outputs": [
    {
     "data": {
      "text/plain": [
       "0       8.3\n",
       "1      12.0\n",
       "2      41.7\n",
       "3      30.2\n",
       "4      31.0\n",
       "5      20.3\n",
       "6      34.2\n",
       "7       2.8\n",
       "8      43.9\n",
       "9      24.7\n",
       "10      4.3\n",
       "11      8.5\n",
       "12     11.2\n",
       "13     28.6\n",
       "14     10.1\n",
       "15     16.1\n",
       "16      2.4\n",
       "17      3.4\n",
       "18      6.5\n",
       "19      2.7\n",
       "20      2.8\n",
       "21      3.7\n",
       "22      6.6\n",
       "23      1.8\n",
       "24     34.9\n",
       "25     25.3\n",
       "26     26.5\n",
       "27     10.3\n",
       "28     10.8\n",
       "29     11.4\n",
       "       ... \n",
       "331     4.1\n",
       "332    42.6\n",
       "333    22.4\n",
       "334     3.7\n",
       "335     6.4\n",
       "336    11.3\n",
       "337    16.2\n",
       "338     1.6\n",
       "339     8.9\n",
       "340    14.5\n",
       "341     6.5\n",
       "342     1.6\n",
       "343     4.9\n",
       "344    34.4\n",
       "345    11.1\n",
       "346     4.5\n",
       "347     5.5\n",
       "348    17.7\n",
       "349     5.5\n",
       "350    31.8\n",
       "351    41.3\n",
       "352    27.0\n",
       "353     5.5\n",
       "354    37.2\n",
       "355    12.6\n",
       "356     4.2\n",
       "357    17.3\n",
       "358     8.1\n",
       "359     5.0\n",
       "360     2.6\n",
       "Name: pct_pov, Length: 361, dtype: float64"
      ]
     },
     "execution_count": 16,
     "metadata": {},
     "output_type": "execute_result"
    }
   ],
   "source": [
    "alameda['pct_pov']"
   ]
  },
  {
   "cell_type": "markdown",
   "metadata": {},
   "source": [
    "We can pass the column name as an optional argument to the `.plot()` method to create a map with a color gradient based on the values in this column. Setting `legend` equal to `True` in the function call will also tell the method that we want our final plot to have a legend so that we can interpret the colors on the map. "
   ]
  },
  {
   "cell_type": "code",
   "execution_count": 17,
   "metadata": {
    "collapsed": true
   },
   "outputs": [
    {
     "data": {
      "image/png": "[encoded data removed]",
      "text/plain": [
       "<Figure size 432x288 with 2 Axes>"
      ]
     },
     "metadata": {},
     "output_type": "display_data"
    }
   ],
   "source": [
    "alameda.plot(column = 'pct_pov', legend = True)\n",
    "#Bounds supplies information on the maximum and minimum values of the x-axis and y-axis of our plot.\n",
    "bounds = alameda.bounds.iloc[0]\n",
    "''' \n",
    "        minx   -122.268070\n",
    "        miny     37.837482\n",
    "        maxx   -122.261296\n",
    "        maxy     37.845027\n",
    "        Name: 0, dtype: float64 \n",
    "'''\n",
    "minx = bounds[\"minx\"]\n",
    "miny = bounds[\"miny\"]\n",
    "# We use that information to place the text label for our legend\n",
    "plt.text(minx + 1, miny - 0.3, 'Percentage of People Living in Poverty', fontsize=20, rotation=90, rotation_mode='anchor')\n",
    "plt.title('Alameda County Poverty Rates by Census Tract', fontsize = 30)\n",
    "plt.axis('off');"
   ]
  },
  {
   "cell_type": "markdown",
   "metadata": {},
   "source": [
    "If you want to change the color scheme of the map, you can choose the \"color map\" of the plot by adding in the optional `cmap` argument to `plot()`. You can choose from the variety of color maps available in the `matplotlib` package, which is what our plotting software is built off of. Above, we saw the default colormap, which is called viridis. If you want to view all the available colormaps, you can reference the documentation [here](https://matplotlib.org/users/colormaps.html)."
   ]
  },
  {
   "cell_type": "code",
   "execution_count": 18,
   "metadata": {
    "collapsed": true
   },
   "outputs": [
    {
     "data": {
      "image/png": "[encoded data removed]",
      "text/plain": [
       "<Figure size 432x288 with 2 Axes>"
      ]
     },
     "metadata": {},
     "output_type": "display_data"
    }
   ],
   "source": [
    "alameda.plot(column = 'pct_pov', legend = True, cmap = 'magma')\n",
    "bounds = alameda.bounds.iloc[0]\n",
    "minx = bounds[\"minx\"]\n",
    "miny = bounds[\"miny\"]\n",
    "plt.text(minx + 1, miny - 0.3, 'Percentage of People Living in Poverty', fontsize=20, rotation=90, rotation_mode='anchor')\n",
    "plt.title('Alameda County Poverty Rates by Census Tract', fontsize = 30)\n",
    "plt.axis('off');"
   ]
  },
  {
   "cell_type": "markdown",
   "metadata": {},
   "source": [
    "Now it's your turn! In the following cell, try creating your own choropleth map using a different column from `alameda`. If you want to see all of the columns in our data, you can scroll up to where we displayed all of the column names."
   ]
  },
  {
   "cell_type": "code",
   "execution_count": 19,
   "metadata": {
    "collapsed": true
   },
   "outputs": [],
   "source": [
    "# YOUR CODE HERE"
   ]
  },
  {
   "cell_type": "markdown",
   "metadata": {},
   "source": [
    "What are some conclusions that you can draw from the map you created?"
   ]
  },
  {
   "cell_type": "markdown",
   "metadata": {},
   "source": [
    "YOUR ANSWER HERE"
   ]
  },
  {
   "cell_type": "markdown",
   "metadata": {},
   "source": [
    "### Creating a new shapefile"
   ]
  },
  {
   "cell_type": "markdown",
   "metadata": {},
   "source": [
    "Let's isolate the census tracts belonging to Berkeley. Below are the identification numbers for Berkeley's census tracts."
   ]
  },
  {
   "cell_type": "code",
   "execution_count": 20,
   "metadata": {
    "collapsed": true
   },
   "outputs": [],
   "source": [
    "berkeley_census_tracts = [4211, 4212, 4213, 4214, 4215, 4216, 4217, 4218, 4219, 4220, 4221, 4222, 4223, 4224, 4225,\n",
    "                          4226, 4227, 4228, 4229, 4230, 4231, 4232, 4233, 4234, 4235, 4236, 4236.01, 4236.02,\n",
    "                          4237, 4238, 4239.01, 4239.02, 4240.01, 4240.02]"
   ]
  },
  {
   "cell_type": "markdown",
   "metadata": {},
   "source": [
    "The data in our `GeoDataFrame` are all strings, so we need to convert these numbers into strings before python can compare them to our data. We are going to use a technique called a list comprehension to do this. A list comprehension is basically a for loop condensed into a single line."
   ]
  },
  {
   "cell_type": "code",
   "execution_count": 21,
   "metadata": {
    "collapsed": true
   },
   "outputs": [],
   "source": [
    "berkeley_census_tracts = [str(id) for id in berkeley_census_tracts]"
   ]
  },
  {
   "cell_type": "markdown",
   "metadata": {},
   "source": [
    "If we were going to write this list comprehension as a for loop, we would have to create a new list to save our converted data into. It would look a little something like this:\n",
    "```\n",
    "berkeley_census_tracts_str = []\n",
    "for id in berkley_census_tracts:\n",
    "    berkeley_census_tracts_str.append(str(id))\n",
    "```\n",
    "List comprehensions are so much more efficient!"
   ]
  },
  {
   "cell_type": "markdown",
   "metadata": {},
   "source": [
    "Next, we are going to use a for loop to look at all of the rows in `alameda` and add the rows belonging to Berkeley census tracts to a new `GeoDataFrame`."
   ]
  },
  {
   "cell_type": "code",
   "execution_count": 22,
   "metadata": {
    "collapsed": true
   },
   "outputs": [
    {
     "data": {
      "text/html": [
       "<div>\n",
       "<style scoped>\n",
       "    .dataframe tbody tr th:only-of-type {\n",
       "        vertical-align: middle;\n",
       "    }\n",
       "\n",
       "    .dataframe tbody tr th {\n",
       "        vertical-align: top;\n",
       "    }\n",
       "\n",
       "    .dataframe thead th {\n",
       "        text-align: right;\n",
       "    }\n",
       "</style>\n",
       "<table border=\"1\" class=\"dataframe\">\n",
       "  <thead>\n",
       "    <tr style=\"text-align: right;\">\n",
       "      <th></th>\n",
       "      <th>AFFGEOID</th>\n",
       "      <th>ALAND</th>\n",
       "      <th>ALAND_1</th>\n",
       "      <th>AWATER</th>\n",
       "      <th>AWATER_1</th>\n",
       "      <th>COUNTYFP</th>\n",
       "      <th>COUNTYFP_1</th>\n",
       "      <th>FID_1</th>\n",
       "      <th>FUNCSTAT</th>\n",
       "      <th>GEOID</th>\n",
       "      <th>...</th>\n",
       "      <th>female</th>\n",
       "      <th>geometry</th>\n",
       "      <th>male</th>\n",
       "      <th>medianage</th>\n",
       "      <th>mergeid</th>\n",
       "      <th>pct_20to64</th>\n",
       "      <th>pct_over64</th>\n",
       "      <th>pct_pov</th>\n",
       "      <th>pct_und_20</th>\n",
       "      <th>total_pop</th>\n",
       "    </tr>\n",
       "  </thead>\n",
       "  <tbody>\n",
       "    <tr>\n",
       "      <th>7</th>\n",
       "      <td>1400000US06001421400</td>\n",
       "      <td>474780.0</td>\n",
       "      <td>474780.0</td>\n",
       "      <td>0.0</td>\n",
       "      <td>0.0</td>\n",
       "      <td>001</td>\n",
       "      <td>001</td>\n",
       "      <td>686.0</td>\n",
       "      <td>S</td>\n",
       "      <td>06001421400</td>\n",
       "      <td>...</td>\n",
       "      <td>974.0</td>\n",
       "      <td>POLYGON ((-122.276027 37.88887, -122.272507 37...</td>\n",
       "      <td>747.0</td>\n",
       "      <td>51.3</td>\n",
       "      <td>06001421400</td>\n",
       "      <td>53.7</td>\n",
       "      <td>26.3</td>\n",
       "      <td>2.8</td>\n",
       "      <td>20.2</td>\n",
       "      <td>1721.0</td>\n",
       "    </tr>\n",
       "    <tr>\n",
       "      <th>8</th>\n",
       "      <td>1400000US06001422900</td>\n",
       "      <td>544282.0</td>\n",
       "      <td>544282.0</td>\n",
       "      <td>0.0</td>\n",
       "      <td>0.0</td>\n",
       "      <td>001</td>\n",
       "      <td>001</td>\n",
       "      <td>157.0</td>\n",
       "      <td>S</td>\n",
       "      <td>06001422900</td>\n",
       "      <td>...</td>\n",
       "      <td>2260.0</td>\n",
       "      <td>POLYGON ((-122.273067 37.871512, -122.268403 3...</td>\n",
       "      <td>2177.0</td>\n",
       "      <td>23.1</td>\n",
       "      <td>06001422900</td>\n",
       "      <td>72.5</td>\n",
       "      <td>2.5</td>\n",
       "      <td>43.9</td>\n",
       "      <td>25.1</td>\n",
       "      <td>4437.0</td>\n",
       "    </tr>\n",
       "    <tr>\n",
       "      <th>9</th>\n",
       "      <td>1400000US06001424001</td>\n",
       "      <td>507529.0</td>\n",
       "      <td>507529.0</td>\n",
       "      <td>0.0</td>\n",
       "      <td>0.0</td>\n",
       "      <td>001</td>\n",
       "      <td>001</td>\n",
       "      <td>131.0</td>\n",
       "      <td>S</td>\n",
       "      <td>06001424001</td>\n",
       "      <td>...</td>\n",
       "      <td>2045.0</td>\n",
       "      <td>POLYGON ((-122.279121 37.853287, -122.271161 3...</td>\n",
       "      <td>1954.0</td>\n",
       "      <td>30.4</td>\n",
       "      <td>06001424001</td>\n",
       "      <td>72.2</td>\n",
       "      <td>6.8</td>\n",
       "      <td>24.7</td>\n",
       "      <td>21.1</td>\n",
       "      <td>3999.0</td>\n",
       "    </tr>\n",
       "    <tr>\n",
       "      <th>36</th>\n",
       "      <td>1400000US06001421500</td>\n",
       "      <td>1590680.0</td>\n",
       "      <td>1590680.0</td>\n",
       "      <td>3635.0</td>\n",
       "      <td>3635.0</td>\n",
       "      <td>001</td>\n",
       "      <td>001</td>\n",
       "      <td>314.0</td>\n",
       "      <td>S</td>\n",
       "      <td>06001421500</td>\n",
       "      <td>...</td>\n",
       "      <td>1984.0</td>\n",
       "      <td>POLYGON ((-122.267737 37.893131, -122.262683 3...</td>\n",
       "      <td>1809.0</td>\n",
       "      <td>49.9</td>\n",
       "      <td>06001421500</td>\n",
       "      <td>56.0</td>\n",
       "      <td>24.9</td>\n",
       "      <td>4.5</td>\n",
       "      <td>19.2</td>\n",
       "      <td>3793.0</td>\n",
       "    </tr>\n",
       "    <tr>\n",
       "      <th>37</th>\n",
       "      <td>1400000US06001422100</td>\n",
       "      <td>551943.0</td>\n",
       "      <td>551943.0</td>\n",
       "      <td>0.0</td>\n",
       "      <td>0.0</td>\n",
       "      <td>001</td>\n",
       "      <td>001</td>\n",
       "      <td>488.0</td>\n",
       "      <td>S</td>\n",
       "      <td>06001422100</td>\n",
       "      <td>...</td>\n",
       "      <td>1183.0</td>\n",
       "      <td>POLYGON ((-122.300853 37.877571, -122.295353 3...</td>\n",
       "      <td>1101.0</td>\n",
       "      <td>39.7</td>\n",
       "      <td>06001422100</td>\n",
       "      <td>71.7</td>\n",
       "      <td>11.9</td>\n",
       "      <td>7.7</td>\n",
       "      <td>16.7</td>\n",
       "      <td>2284.0</td>\n",
       "    </tr>\n",
       "  </tbody>\n",
       "</table>\n",
       "<p>5 rows × 35 columns</p>\n",
       "</div>"
      ],
      "text/plain": [
       "                AFFGEOID      ALAND    ALAND_1  AWATER  AWATER_1 COUNTYFP  \\\n",
       "7   1400000US06001421400   474780.0   474780.0     0.0       0.0      001   \n",
       "8   1400000US06001422900   544282.0   544282.0     0.0       0.0      001   \n",
       "9   1400000US06001424001   507529.0   507529.0     0.0       0.0      001   \n",
       "36  1400000US06001421500  1590680.0  1590680.0  3635.0    3635.0      001   \n",
       "37  1400000US06001422100   551943.0   551943.0     0.0       0.0      001   \n",
       "\n",
       "   COUNTYFP_1  FID_1 FUNCSTAT        GEOID  ...  female  \\\n",
       "7         001  686.0        S  06001421400  ...   974.0   \n",
       "8         001  157.0        S  06001422900  ...  2260.0   \n",
       "9         001  131.0        S  06001424001  ...  2045.0   \n",
       "36        001  314.0        S  06001421500  ...  1984.0   \n",
       "37        001  488.0        S  06001422100  ...  1183.0   \n",
       "\n",
       "                                             geometry    male medianage  \\\n",
       "7   POLYGON ((-122.276027 37.88887, -122.272507 37...   747.0      51.3   \n",
       "8   POLYGON ((-122.273067 37.871512, -122.268403 3...  2177.0      23.1   \n",
       "9   POLYGON ((-122.279121 37.853287, -122.271161 3...  1954.0      30.4   \n",
       "36  POLYGON ((-122.267737 37.893131, -122.262683 3...  1809.0      49.9   \n",
       "37  POLYGON ((-122.300853 37.877571, -122.295353 3...  1101.0      39.7   \n",
       "\n",
       "        mergeid  pct_20to64 pct_over64 pct_pov pct_und_20 total_pop  \n",
       "7   06001421400        53.7       26.3     2.8       20.2    1721.0  \n",
       "8   06001422900        72.5        2.5    43.9       25.1    4437.0  \n",
       "9   06001424001        72.2        6.8    24.7       21.1    3999.0  \n",
       "36  06001421500        56.0       24.9     4.5       19.2    3793.0  \n",
       "37  06001422100        71.7       11.9     7.7       16.7    2284.0  \n",
       "\n",
       "[5 rows x 35 columns]"
      ]
     },
     "execution_count": 22,
     "metadata": {},
     "output_type": "execute_result"
    }
   ],
   "source": [
    "# Create a new GeoDataFrame\n",
    "berkeley = gpd.GeoDataFrame()\n",
    "for row in range(len(alameda)):\n",
    "    # If the NAME of a census tract is in our list of Berkeley census tracts, we want to\n",
    "    # add it to our berkeley GeoDataFrame.\n",
    "    if alameda.loc[row, 'NAME'] in berkeley_census_tracts:\n",
    "        berkeley = berkeley.append(alameda.loc[row, :])\n",
    "berkeley.head()"
   ]
  },
  {
   "cell_type": "markdown",
   "metadata": {},
   "source": [
    "Next, we can save our new `GeoDataFrame`. The following code saves `berkeley` as a file type called a \"shapefile,\" which happens to be the same file type as the data we read in earlier. `geopandas` can also read and write many other geospatial file types, but we are just going to be using the same file type as before for now."
   ]
  },
  {
   "cell_type": "code",
   "execution_count": 23,
   "metadata": {
    "collapsed": true,
    "scrolled": true
   },
   "outputs": [],
   "source": [
    "berkeley.to_file(driver='ESRI Shapefile', filename = 'shapefiles/berkeley')"
   ]
  },
  {
   "cell_type": "markdown",
   "metadata": {},
   "source": [
    "Now we can make a map with our new data."
   ]
  },
  {
   "cell_type": "code",
   "execution_count": 24,
   "metadata": {
    "collapsed": true
   },
   "outputs": [
    {
     "data": {
      "image/png": "[encoded data removed]",
      "text/plain": [
       "<Figure size 432x288 with 2 Axes>"
      ]
     },
     "metadata": {},
     "output_type": "display_data"
    }
   ],
   "source": [
    "berkeley.plot(column = 'medianage', legend = True)\n",
    "bounds = berkeley.bounds.iloc[0]\n",
    "minx = bounds[\"minx\"]\n",
    "miny = bounds[\"miny\"]\n",
    "plt.text(minx + 0.0625, miny - 0.015, 'Median Age in Years', fontsize=20, rotation=90, rotation_mode='anchor')\n",
    "plt.title('Berkeley Median Age by Census Tract', fontsize = 30)\n",
    "plt.axis('off');"
   ]
  },
  {
   "cell_type": "markdown",
   "metadata": {},
   "source": [
    "Can you tell which census tracts are around the UC Berkeley campus from this map? Explain."
   ]
  },
  {
   "cell_type": "markdown",
   "metadata": {},
   "source": [
    "YOUR ANSWER HERE"
   ]
  },
  {
   "cell_type": "markdown",
   "metadata": {},
   "source": [
    "### Combining multiple `GeoDataFrame`s"
   ]
  },
  {
   "cell_type": "markdown",
   "metadata": {},
   "source": [
    "When working with multiple sets of geospatial data, we may need to plot multiple `GeoDataFrames` together on the same map. There are a few different ways we can do this."
   ]
  },
  {
   "cell_type": "markdown",
   "metadata": {},
   "source": [
    "If one of our `GeoDataFrames` covers a smaller area than the other, we can use the `GeoDataFrame` with the larger area as a base on top of which we plot the smaller `GeoDataFrame`. To do this, we use the optional `ax` argument when plotting the smaller `GeoDataFrame` to tell the plotting sofware that we want to continue using a previously plotted map."
   ]
  },
  {
   "cell_type": "code",
   "execution_count": 25,
   "metadata": {
    "collapsed": true
   },
   "outputs": [
    {
     "data": {
      "image/png": "[encoded data removed]",
      "text/plain": [
       "<Figure size 432x288 with 1 Axes>"
      ]
     },
     "metadata": {},
     "output_type": "display_data"
    }
   ],
   "source": [
    "# We can also define explicitly the colors of the lines and open spaces on our map.\n",
    "base = alameda.plot(color = 'white', edgecolor = 'black')\n",
    "berkeley.plot(ax = base, color = 'blue', edgecolor = 'red')\n",
    "plt.axis('off');"
   ]
  },
  {
   "cell_type": "markdown",
   "metadata": {},
   "source": [
    "We may also have separate `GeoDataFrames` that do not overlap, and we may want to combine them into a single table. Let's load in some more data so we can see this in action."
   ]
  },
  {
   "cell_type": "markdown",
   "metadata": {},
   "source": [
    "First, we need to read in our data. Let's use the `read_file` method from before to load in shapefiles in the `contra_costa` and `san_francisco` folders inside the `shapefiles` folder."
   ]
  },
  {
   "cell_type": "code",
   "execution_count": 26,
   "metadata": {
    "collapsed": true
   },
   "outputs": [],
   "source": [
    "contra_costa = gpd.read_file('shapefiles/contra_costa')\n",
    "san_francisco = gpd.read_file('shapefiles/san_francisco')"
   ]
  },
  {
   "cell_type": "markdown",
   "metadata": {},
   "source": [
    "Now that you have loaded the data in, let's take a look at the columns it contains."
   ]
  },
  {
   "cell_type": "code",
   "execution_count": 27,
   "metadata": {
    "collapsed": true
   },
   "outputs": [
    {
     "data": {
      "text/plain": [
       "Index(['AFFGEOID', 'ALAND', 'ALAND_1', 'AWATER', 'AWATER_1', 'COUNTYFP',\n",
       "       'COUNTYFP_1', 'FID_1', 'FUNCSTAT', 'GEOID', 'GEOID_1', 'Geography',\n",
       "       'INTPTLAT', 'INTPTLON', 'Id', 'Id2', 'LSAD', 'MTFCC', 'NAME',\n",
       "       'NAMELSAD', 'NAME_1', 'STATEFP', 'STATEFP_1', 'TRACTCE', 'TRACTCE_1',\n",
       "       'female', 'male', 'medianage', 'mergeid', 'pct_20to64', 'pct_over64',\n",
       "       'pct_pov', 'pct_und_20', 'total_pop', 'geometry'],\n",
       "      dtype='object')"
      ]
     },
     "execution_count": 27,
     "metadata": {},
     "output_type": "execute_result"
    }
   ],
   "source": [
    "contra_costa.columns"
   ]
  },
  {
   "cell_type": "code",
   "execution_count": 28,
   "metadata": {
    "collapsed": true
   },
   "outputs": [
    {
     "data": {
      "text/plain": [
       "Index(['AFFGEOID', 'ALAND', 'ALAND_1', 'AWATER', 'AWATER_1', 'COUNTYFP',\n",
       "       'COUNTYFP_1', 'FID_1', 'FUNCSTAT', 'GEOID', 'GEOID_1', 'Geography',\n",
       "       'INTPTLAT', 'INTPTLON', 'Id', 'Id2', 'LSAD', 'MTFCC', 'NAME',\n",
       "       'NAMELSAD', 'NAME_1', 'STATEFP', 'STATEFP_1', 'TRACTCE', 'TRACTCE_1',\n",
       "       'female', 'male', 'medianage', 'mergeid', 'pct_20to64', 'pct_over64',\n",
       "       'pct_pov', 'pct_und_20', 'total_pop', 'geometry'],\n",
       "      dtype='object')"
      ]
     },
     "execution_count": 28,
     "metadata": {},
     "output_type": "execute_result"
    }
   ],
   "source": [
    "san_francisco.columns"
   ]
  },
  {
   "cell_type": "markdown",
   "metadata": {},
   "source": [
    "Since `contra_costa` and `san_francisco` both have the same columns as `alameda`, we can use the `.append()` method to combine them without introducing any missing values, or spaces in our data table that do not have any information. Different packages can often have different ways of dealing with missing values, such completely ignoring any rows containing missing values to interpreting missing values as some default value. Since we do not have any missing values here, we don't have to worry about this."
   ]
  },
  {
   "cell_type": "code",
   "execution_count": 29,
   "metadata": {
    "collapsed": true
   },
   "outputs": [
    {
     "data": {
      "image/png": "[encoded data removed]",
      "text/plain": [
       "<Figure size 432x288 with 1 Axes>"
      ]
     },
     "metadata": {},
     "output_type": "display_data"
    }
   ],
   "source": [
    "# These three lines create a new column called 'county' in each of the GeoDataFrames,\n",
    "# then assigns the name of the county to all rows within the GeoDataFrame.\n",
    "alameda['county'] = 'alameda'\n",
    "contra_costa['county'] = 'contra costa'\n",
    "san_francisco['county'] = 'san francisco'\n",
    "\n",
    "# This creates a new, empty GeoDataFrame, then appends of our GeoDataFrames to it.\n",
    "data = gpd.GeoDataFrame()\n",
    "data = data.append(alameda)\n",
    "data = data.append(contra_costa)\n",
    "data = data.append(san_francisco)\n",
    "\n",
    "# This plots our new aggregated GeoDataFrame using the 'county' column we created\n",
    "# above.\n",
    "data.plot(column = 'county', legend = True, cmap = 'Set3')\n",
    "plt.axis('off');"
   ]
  },
  {
   "cell_type": "markdown",
   "metadata": {},
   "source": [
    "Note that the code for this map has essentially the same form as the choropleth maps we created earlier. Since the column we are using to distinguish the census transects from each other is text rather than continuous numerical values, the plotting software uses distinct colors rather than a smooth spectrum."
   ]
  },
  {
   "cell_type": "markdown",
   "metadata": {},
   "source": [
    "# More geospatial data types in `geopandas`"
   ]
  },
  {
   "cell_type": "markdown",
   "metadata": {},
   "source": [
    "So far, we have only been creating maps using polygons, but `geopandas` has a few more data types we can work with. First, we need some new data to work with. In the `shapefiles` folder, we have folders named `bart_stations` and `bart_routes` containing geospatial data about the BART system. Load in the data as we did with `alameda` file from the beginning of the lab."
   ]
  },
  {
   "cell_type": "code",
   "execution_count": 30,
   "metadata": {
    "collapsed": true
   },
   "outputs": [],
   "source": [
    "bart_stations = ...\n",
    "bart_routes = ..."
   ]
  },
  {
   "cell_type": "markdown",
   "metadata": {},
   "source": [
    "## Examining the data"
   ]
  },
  {
   "cell_type": "markdown",
   "metadata": {},
   "source": [
    "To get an idea of what the data we are working with looks like, let's call the `.head()` method on the data we have just read."
   ]
  },
  {
   "cell_type": "code",
   "execution_count": null,
   "metadata": {
    "collapsed": true
   },
   "outputs": [],
   "source": [
    "bart_stations.head()"
   ]
  },
  {
   "cell_type": "code",
   "execution_count": null,
   "metadata": {
    "collapsed": true
   },
   "outputs": [],
   "source": [
    "bart_routes.head()"
   ]
  },
  {
   "cell_type": "markdown",
   "metadata": {},
   "source": [
    "Looking at the `geometry` columns of our two GeoDataFrames, we can see that we have some new types of data. Where we had polygons before, our new data have points and linestrings. Points are are exactly what they sound like, 1-dimensional coordinates in space. Linestrings are line segments that do not necessarily have to be a straight line.\n",
    "\n",
    "Use the following cell to draw a linestring the same way we did the first time we looked at a polygon."
   ]
  },
  {
   "cell_type": "code",
   "execution_count": null,
   "metadata": {
    "collapsed": true
   },
   "outputs": [],
   "source": [
    "# YOUR CODE HERE"
   ]
  },
  {
   "cell_type": "markdown",
   "metadata": {},
   "source": [
    "## Creating the map"
   ]
  },
  {
   "cell_type": "markdown",
   "metadata": {},
   "source": [
    "In the next few cells, you will create a map that overlays the bart stations and routes over a map of all the counties. (Alameda, Contra Costa, and San Francisco)"
   ]
  },
  {
   "cell_type": "markdown",
   "metadata": {},
   "source": [
    "First, we need the base map of all the counties. We can use the aggregated `GeoDataFrame` we created earlier in this notebook. Try setting the `color` and `edgecolor` arguments so the map looks more uniform."
   ]
  },
  {
   "cell_type": "code",
   "execution_count": null,
   "metadata": {
    "collapsed": true
   },
   "outputs": [],
   "source": [
    "base = ...\n",
    "plt.axis('off');"
   ]
  },
  {
   "cell_type": "markdown",
   "metadata": {},
   "source": [
    "Next, overlay the routes and stations and plot the graph by using this as the base for the map. The Jupyter notebook will not remember the map you drew in the previous cell even if you assigned it a name, so make sure to plot the base map again in the following cell."
   ]
  },
  {
   "cell_type": "code",
   "execution_count": null,
   "metadata": {
    "collapsed": true
   },
   "outputs": [],
   "source": [
    "base = ...\n",
    "bart_routes.plot(...)\n",
    "bart_stations.plot(...)\n",
    "plt.axis('off');"
   ]
  },
  {
   "cell_type": "markdown",
   "metadata": {},
   "source": [
    "Congratulations! You're done with this lab! If you are interested in learning more about what you can do with `geopandas`, you can find the documentation for the package [here](http://geopandas.org/reference.html)."
   ]
  },
  {
   "cell_type": "markdown",
   "metadata": {},
   "source": [
    "***"
   ]
  },
  {
   "cell_type": "markdown",
   "metadata": {},
   "source": [
    "### Authors: Monica Wilkinson and Vera Wang\n",
    "### References:\n",
    "- http://geopandas.org/mapping.html\n",
    "- https://matplotlib.org/users/colormaps.html\n",
    "- http://www.bayareacensus.ca.gov/small/small.htm\n",
    "- https://www.bart.gov/schedules/developers/geo"
   ]
  }
 ],
 "metadata": {
  "kernelspec": {
   "display_name": "Python 3",
   "language": "python",
   "name": "python3"
  },
  "language_info": {
   "codemirror_mode": {
    "name": "ipython",
    "version": 3
   },
   "file_extension": ".py",
   "mimetype": "text/x-python",
   "name": "python",
   "nbconvert_exporter": "python",
   "pygments_lexer": "ipython3",
   "version": "3.6.5"
  }
 },
 "nbformat": 4,
 "nbformat_minor": 2
}