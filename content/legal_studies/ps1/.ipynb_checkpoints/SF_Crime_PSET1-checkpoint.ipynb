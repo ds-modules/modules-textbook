{
 "cells": [
  {
   "cell_type": "markdown",
   "metadata": {},
   "source": [
    "# SF Crime PSET 1\n",
    "\n",
    "1. [Introduction](#intro)\n",
    "2. [Getting the Data](#data)\n",
    "3. [Descriptive Statistics](#stats)\n",
    "4. [Geographic Information Systems](#gis)\n",
    "5. [Discussion Questions](#dq)"
   ]
  },
  {
   "cell_type": "code",
   "execution_count": 1,
   "metadata": {
    "ExecuteTime": {
     "end_time": "2019-04-23T20:10:14.541257Z",
     "start_time": "2019-04-23T20:10:11.557604Z"
    }
   },
   "outputs": [],
   "source": [
    "# imports\n",
    "import requests\n",
    "from datascience import *\n",
    "import matplotlib.pyplot as plt\n",
    "import datetime\n",
    "import folium\n",
    "import time\n",
    "import json\n",
    "import os\n",
    "from branca.colormap import linear\n",
    "import branca.colormap\n",
    "import pandas as pd\n",
    "%matplotlib inline"
   ]
  },
  {
   "cell_type": "markdown",
   "metadata": {},
   "source": [
    "## 1. Introduction <a id='intro'></a>\n",
    "\n",
    "For this lab, we will be working with the San Francisco Police Department's Incident Database. The dataset contains up-to-date information on incidents reported to the SFPD. Each observation is tagged with information about the incident's location, type of infraaction, and date/time. In this lab you will:\n",
    "\n",
    "1. Download the data through an Application Programming Interface (API)\n",
    "2. Explore the data with summary and descriptive statistics\n",
    "3. Map the incidents\n",
    "\n",
    "Make sure to start early and ask lots of questions! The dataset, along with other publicaly available data, is available at: https://data.sfgov.org/Public-Safety/Police-Department-Incidents/tmnf-yvry"
   ]
  },
  {
   "cell_type": "markdown",
   "metadata": {},
   "source": [
    "## 2. Getting the Data <a id='data'></a>\n",
    "\n",
    "Write code that pulls the data into your environment with an API call. Here is the link to the API: https://data.sfgov.org/resource/PdId.json"
   ]
  },
  {
   "cell_type": "code",
   "execution_count": 3,
   "metadata": {
    "ExecuteTime": {
     "end_time": "2019-04-23T20:11:12.650559Z",
     "start_time": "2019-04-23T20:11:12.564610Z"
    }
   },
   "outputs": [],
   "source": [
    "sf_police = os.path.join('Police_Department_Sample_Incidents.csv')\n",
    "df = pd.read_csv(sf_police)"
   ]
  },
  {
   "cell_type": "code",
   "execution_count": 13,
   "metadata": {
    "ExecuteTime": {
     "end_time": "2019-04-23T20:12:34.916699Z",
     "start_time": "2019-04-23T20:12:34.219400Z"
    }
   },
   "outputs": [
    {
     "name": "stdout",
     "output_type": "stream",
     "text": [
      "2\n",
      "1\n",
      "['code', 'error', 'message', 'data', 'code', 'error', 'message', 'data']\n"
     ]
    }
   ],
   "source": [
    "#ts = Table(data.labels)\n",
    "import pandas as pd\n",
    "from sodapy import Socrata\n",
    "\n",
    "# Unauthenticated client only works with public data sets. Note 'None'\n",
    "# in place of application token, and no username or password:\n",
    "client = Socrata(\"data.sfgov.org\", None)\n",
    "\n",
    "# Example authenticated client (needed for non-public datasets):\n",
    "# client = Socrata(data.sfgov.org,\n",
    "#                  MyAppToken,\n",
    "#                  userame=\"user@example.com\",\n",
    "#                  password=\"AFakePassword\")\n",
    "\n",
    "# First 2000 results, returned as JSON from API / converted to Python list of\n",
    "# dictionaries by sodapy.\n",
    "results = client.get(\"tmnf-yvry\", limit=2000)\n",
    "\n",
    "# Convert to pandas DataFrame\n",
    "results_df = pd.DataFrame.from_records(results)"
   ]
  },
  {
   "cell_type": "code",
   "execution_count": 12,
   "metadata": {
    "ExecuteTime": {
     "end_time": "2019-04-23T20:12:14.495979Z",
     "start_time": "2019-04-23T20:12:14.488270Z"
    }
   },
   "outputs": [
    {
     "data": {
      "text/html": [
       "<div>\n",
       "<style scoped>\n",
       "    .dataframe tbody tr th:only-of-type {\n",
       "        vertical-align: middle;\n",
       "    }\n",
       "\n",
       "    .dataframe tbody tr th {\n",
       "        vertical-align: top;\n",
       "    }\n",
       "\n",
       "    .dataframe thead th {\n",
       "        text-align: right;\n",
       "    }\n",
       "</style>\n",
       "<table border=\"1\" class=\"dataframe\">\n",
       "  <thead>\n",
       "    <tr style=\"text-align: right;\">\n",
       "      <th></th>\n",
       "      <th>0</th>\n",
       "    </tr>\n",
       "  </thead>\n",
       "  <tbody>\n",
       "    <tr>\n",
       "      <th>0</th>\n",
       "      <td>code</td>\n",
       "    </tr>\n",
       "    <tr>\n",
       "      <th>1</th>\n",
       "      <td>error</td>\n",
       "    </tr>\n",
       "    <tr>\n",
       "      <th>2</th>\n",
       "      <td>message</td>\n",
       "    </tr>\n",
       "    <tr>\n",
       "      <th>3</th>\n",
       "      <td>data</td>\n",
       "    </tr>\n",
       "    <tr>\n",
       "      <th>4</th>\n",
       "      <td>code</td>\n",
       "    </tr>\n",
       "  </tbody>\n",
       "</table>\n",
       "</div>"
      ],
      "text/plain": [
       "         0\n",
       "0     code\n",
       "1    error\n",
       "2  message\n",
       "3     data\n",
       "4     code"
      ]
     },
     "execution_count": 12,
     "metadata": {},
     "output_type": "execute_result"
    }
   ],
   "source": [
    "import pandas as pd\n",
    "df = pd.DataFrame(recs)\n",
    "df.head()"
   ]
  },
  {
   "cell_type": "code",
   "execution_count": 10,
   "metadata": {
    "ExecuteTime": {
     "end_time": "2019-04-23T20:11:38.745340Z",
     "start_time": "2019-04-23T20:11:38.736024Z"
    }
   },
   "outputs": [
    {
     "ename": "NameError",
     "evalue": "name 'data' is not defined",
     "output_type": "error",
     "traceback": [
      "\u001b[0;31m---------------------------------------------------------------------------\u001b[0m",
      "\u001b[0;31mNameError\u001b[0m                                 Traceback (most recent call last)",
      "\u001b[0;32m<ipython-input-10-cf486b52f37a>\u001b[0m in \u001b[0;36m<module>\u001b[0;34m()\u001b[0m\n\u001b[1;32m      1\u001b[0m \u001b[0;31m# data = Table.from_df(df.drop('location', axis=1))\u001b[0m\u001b[0;34m\u001b[0m\u001b[0;34m\u001b[0m\u001b[0m\n\u001b[0;32m----> 2\u001b[0;31m \u001b[0mdata\u001b[0m\u001b[0;34m\u001b[0m\u001b[0m\n\u001b[0m",
      "\u001b[0;31mNameError\u001b[0m: name 'data' is not defined"
     ]
    }
   ],
   "source": [
    "data = Table.from_df(df.drop('location', axis=1))\n",
    "data"
   ]
  },
  {
   "cell_type": "code",
   "execution_count": null,
   "metadata": {
    "ExecuteTime": {
     "end_time": "2019-04-23T20:11:16.194088Z",
     "start_time": "2019-04-23T20:11:16.183Z"
    }
   },
   "outputs": [],
   "source": [
    "min(df['date'])"
   ]
  },
  {
   "cell_type": "code",
   "execution_count": 8,
   "metadata": {
    "ExecuteTime": {
     "end_time": "2019-04-23T20:11:16.349539Z",
     "start_time": "2019-04-23T20:11:16.346643Z"
    }
   },
   "outputs": [],
   "source": [
    "# making a table out of our json\n",
    "# DO NOT USE \n",
    "#data = Table.from_records(json_response)\n",
    "#data.show(3)"
   ]
  },
  {
   "cell_type": "code",
   "execution_count": 9,
   "metadata": {
    "ExecuteTime": {
     "end_time": "2019-04-23T20:11:16.507198Z",
     "start_time": "2019-04-23T20:11:16.495456Z"
    }
   },
   "outputs": [
    {
     "ename": "NameError",
     "evalue": "name 'data' is not defined",
     "output_type": "error",
     "traceback": [
      "\u001b[0;31m---------------------------------------------------------------------------\u001b[0m",
      "\u001b[0;31mNameError\u001b[0m                                 Traceback (most recent call last)",
      "\u001b[0;32m<ipython-input-9-8d418cf325f3>\u001b[0m in \u001b[0;36m<module>\u001b[0;34m()\u001b[0m\n\u001b[0;32m----> 1\u001b[0;31m \u001b[0mdata\u001b[0m\u001b[0;34m[\u001b[0m\u001b[0;34m'y'\u001b[0m\u001b[0;34m]\u001b[0m \u001b[0;34m=\u001b[0m \u001b[0mdata\u001b[0m\u001b[0;34m[\u001b[0m\u001b[0;34m'y'\u001b[0m\u001b[0;34m]\u001b[0m\u001b[0;34m.\u001b[0m\u001b[0mastype\u001b[0m\u001b[0;34m(\u001b[0m\u001b[0;34m'float'\u001b[0m\u001b[0;34m)\u001b[0m\u001b[0;34m\u001b[0m\u001b[0m\n\u001b[0m\u001b[1;32m      2\u001b[0m \u001b[0mdata\u001b[0m\u001b[0;34m[\u001b[0m\u001b[0;34m'x'\u001b[0m\u001b[0;34m]\u001b[0m \u001b[0;34m=\u001b[0m \u001b[0mdata\u001b[0m\u001b[0;34m[\u001b[0m\u001b[0;34m'x'\u001b[0m\u001b[0;34m]\u001b[0m\u001b[0;34m.\u001b[0m\u001b[0mastype\u001b[0m\u001b[0;34m(\u001b[0m\u001b[0;34m'float'\u001b[0m\u001b[0;34m)\u001b[0m\u001b[0;34m\u001b[0m\u001b[0m\n",
      "\u001b[0;31mNameError\u001b[0m: name 'data' is not defined"
     ]
    }
   ],
   "source": [
    "data['y'] = data['y'].astype('float')\n",
    "data['x'] = data['x'].astype('float')"
   ]
  },
  {
   "cell_type": "markdown",
   "metadata": {},
   "source": [
    "**QUESTION: What are the advantages to downloading data this way, instead of with a point-and-click action?**"
   ]
  },
  {
   "cell_type": "markdown",
   "metadata": {},
   "source": [
    "## 3. Descriptive Statistics <a id='stats'></a>\n",
    "\n",
    "Plot the number of incidents per year from 2000-2017 (choose the appropriate type of plot). Have crime rates increased or decreased in general? "
   ]
  },
  {
   "cell_type": "code",
   "execution_count": null,
   "metadata": {
    "ExecuteTime": {
     "end_time": "2019-04-23T20:10:14.557727Z",
     "start_time": "2019-04-23T20:10:11.583Z"
    },
    "scrolled": false
   },
   "outputs": [],
   "source": [
    "# creating a year column from the first four characters of the 'date' column\n",
    "data['year'] = pd.DatetimeIndex(df['date']).year\n",
    "data"
   ]
  },
  {
   "cell_type": "code",
   "execution_count": null,
   "metadata": {
    "ExecuteTime": {
     "end_time": "2019-04-23T20:10:14.558682Z",
     "start_time": "2019-04-23T20:10:11.586Z"
    }
   },
   "outputs": [],
   "source": [
    "agg_on_year = data.group('year')\n",
    "agg_on_year.show()"
   ]
  },
  {
   "cell_type": "code",
   "execution_count": null,
   "metadata": {
    "ExecuteTime": {
     "end_time": "2019-04-23T20:10:14.563029Z",
     "start_time": "2019-04-23T20:10:11.588Z"
    }
   },
   "outputs": [],
   "source": [
    "agg_on_year.plot('year', 'count')"
   ]
  },
  {
   "cell_type": "markdown",
   "metadata": {},
   "source": [
    "Looking just at 2017, what proportion of the total does each type of crime constitute? Use at least one table and at least one plot to support your answer."
   ]
  },
  {
   "cell_type": "code",
   "execution_count": null,
   "metadata": {
    "ExecuteTime": {
     "end_time": "2019-04-23T20:10:14.564001Z",
     "start_time": "2019-04-23T20:10:11.590Z"
    }
   },
   "outputs": [],
   "source": [
    "agg_by_crime = data.where('year', 2017).group('category')\n",
    "agg_by_crime['proportion'] = [count / sum(agg_by_crime.column('count')) for count in agg_by_crime.column('count')]\n",
    "agg_by_crime.sort('proportion', descending=True)"
   ]
  },
  {
   "cell_type": "code",
   "execution_count": null,
   "metadata": {
    "ExecuteTime": {
     "end_time": "2019-04-23T20:10:14.564995Z",
     "start_time": "2019-04-23T20:10:11.592Z"
    }
   },
   "outputs": [],
   "source": [
    "agg_by_crime.sort('count', descending=True).barh('category', 'proportion')"
   ]
  },
  {
   "cell_type": "markdown",
   "metadata": {},
   "source": [
    "Is there a relationship between day of week, time, and whether an incident occurs? Bonus: Is there a relationship between day/time and particular types of incidents?"
   ]
  },
  {
   "cell_type": "code",
   "execution_count": null,
   "metadata": {
    "ExecuteTime": {
     "end_time": "2019-04-23T20:10:14.566554Z",
     "start_time": "2019-04-23T20:10:11.594Z"
    }
   },
   "outputs": [],
   "source": [
    "data.group('dayofweek').barh('dayofweek')"
   ]
  },
  {
   "cell_type": "code",
   "execution_count": null,
   "metadata": {
    "ExecuteTime": {
     "end_time": "2019-04-23T20:10:14.567324Z",
     "start_time": "2019-04-23T20:10:11.596Z"
    }
   },
   "outputs": [],
   "source": [
    "# making an hour column that can be grouped on\n",
    "data['hour'] = [int(t[:2]) for t in data['time']]"
   ]
  },
  {
   "cell_type": "code",
   "execution_count": null,
   "metadata": {
    "ExecuteTime": {
     "end_time": "2019-04-23T20:10:14.567923Z",
     "start_time": "2019-04-23T20:10:11.598Z"
    }
   },
   "outputs": [],
   "source": [
    "data.group('hour').bar('hour')"
   ]
  },
  {
   "cell_type": "markdown",
   "metadata": {},
   "source": [
    "#### Bonus: Are there any other interesting relationships in the data?"
   ]
  },
  {
   "cell_type": "code",
   "execution_count": null,
   "metadata": {},
   "outputs": [],
   "source": []
  },
  {
   "cell_type": "markdown",
   "metadata": {},
   "source": [
    "# 4. Geographic Information Systems (GIS) <a id='gis'></a>\n",
    "\n",
    "Plot individual incidents in 2017 as points on a map of San Francisco. Does crime seem randomly distributed in space, or do incidents tend to cluster close together? Propose an explanation for your conclusion. Bonus: Shade the points by type of crime.\n",
    "\n",
    "Hint: Use the `basemap` extension to the `matplotlib` package!"
   ]
  },
  {
   "cell_type": "code",
   "execution_count": null,
   "metadata": {
    "ExecuteTime": {
     "end_time": "2019-04-23T20:10:14.568792Z",
     "start_time": "2019-04-23T20:10:11.602Z"
    }
   },
   "outputs": [],
   "source": [
    "twentyeighteen = data.where('year' == 2017).sample(1000)\n",
    "twentyeighteen['y'] = twentyeighteen['y'].astype('float')\n",
    "twentyeighteen['x'] = twentyeighteen['x'].astype('float')"
   ]
  },
  {
   "cell_type": "code",
   "execution_count": null,
   "metadata": {
    "ExecuteTime": {
     "end_time": "2019-04-23T20:10:14.569678Z",
     "start_time": "2019-04-23T20:10:11.606Z"
    }
   },
   "outputs": [],
   "source": [
    "mp = folium.Map(location=[37.7749, -122.4194])\n",
    "for coords in list(zip(twentyeighteen['y'], twentyeighteen['x'])):\n",
    "    folium.Marker(\n",
    "        location=coords\n",
    "    ).add_to(mp)\n",
    "mp"
   ]
  },
  {
   "cell_type": "code",
   "execution_count": null,
   "metadata": {
    "ExecuteTime": {
     "end_time": "2019-04-23T20:10:14.570729Z",
     "start_time": "2019-04-23T20:10:11.608Z"
    }
   },
   "outputs": [],
   "source": [
    "from folium.plugins import HeatMap\n",
    "\n",
    "mp = folium.Map(location=[37.7749, -122.4194])\n",
    "HeatMap(list(zip(twentyeighteen['y'], twentyeighteen['x']))).add_to(mp)\n",
    "mp"
   ]
  },
  {
   "cell_type": "markdown",
   "metadata": {},
   "source": [
    "Merge the incidents data with either a Shapefile or GeoJSON file with information on the boundaries of neighborhoods in San Francisco. \n",
    "\n",
    "The neighborhood data is available here: https://data.sfgov.org/Geographic-Locations-and-Boundaries/Analysis-Neighborhoods/p5b7-5n3h\n",
    "\n",
    "The API endpoint: https://data.sfgov.org/resource/xfcw-9evu.json\n",
    "\n",
    "*.geojson"
   ]
  },
  {
   "cell_type": "code",
   "execution_count": null,
   "metadata": {
    "ExecuteTime": {
     "end_time": "2019-04-23T20:10:14.571869Z",
     "start_time": "2019-04-23T20:10:11.611Z"
    }
   },
   "outputs": [],
   "source": [
    "#import requests\n",
    "#r = requests.get(url='https://data.sfgov.org/resource/xfcw-9evu.json')"
   ]
  },
  {
   "cell_type": "code",
   "execution_count": null,
   "metadata": {
    "ExecuteTime": {
     "end_time": "2019-04-23T20:10:14.572826Z",
     "start_time": "2019-04-23T20:10:11.614Z"
    },
    "scrolled": true
   },
   "outputs": [],
   "source": [
    "sf_neighborhoods = os.path.join('SF Find Neighborhoods.geojson')\n",
    "geo_json_data = json.load(open(sf_neighborhoods))"
   ]
  },
  {
   "cell_type": "code",
   "execution_count": null,
   "metadata": {
    "ExecuteTime": {
     "end_time": "2019-04-23T20:10:14.575513Z",
     "start_time": "2019-04-23T20:10:11.616Z"
    }
   },
   "outputs": [],
   "source": [
    "m = folium.Map([37.7749, -122.4194], zoom_start = 12)\n",
    "m"
   ]
  },
  {
   "cell_type": "code",
   "execution_count": null,
   "metadata": {
    "ExecuteTime": {
     "end_time": "2019-04-23T20:10:14.576480Z",
     "start_time": "2019-04-23T20:10:11.619Z"
    },
    "scrolled": false
   },
   "outputs": [],
   "source": [
    "# might be too big bc won't display\n",
    "m = folium.Map(\n",
    "    location=[37.7749, -122.4194], zoom_start = 12\n",
    ")\n",
    "\n",
    "folium.GeoJson(geo_json_data\n",
    ").add_to(m)\n",
    "m"
   ]
  },
  {
   "cell_type": "markdown",
   "metadata": {},
   "source": [
    "Construct a choropleth map, coloring in each neighborhood by how many incidents it had in 2018. Bonus: Construct several maps that explore differences by day of week, time of year, time of day, etc."
   ]
  },
  {
   "cell_type": "code",
   "execution_count": null,
   "metadata": {
    "ExecuteTime": {
     "end_time": "2019-04-23T20:10:14.577515Z",
     "start_time": "2019-04-23T20:10:11.621Z"
    }
   },
   "outputs": [],
   "source": [
    "twentyeighteen = twentyeighteen.to_df()"
   ]
  },
  {
   "cell_type": "code",
   "execution_count": null,
   "metadata": {
    "ExecuteTime": {
     "end_time": "2019-04-23T20:10:14.583183Z",
     "start_time": "2019-04-23T20:10:11.623Z"
    }
   },
   "outputs": [],
   "source": [
    "import geopandas as gpd\n",
    "import shapely\n",
    "shapely.speedups.enable()"
   ]
  },
  {
   "cell_type": "code",
   "execution_count": null,
   "metadata": {
    "ExecuteTime": {
     "end_time": "2019-04-23T20:10:14.584535Z",
     "start_time": "2019-04-23T20:10:11.626Z"
    }
   },
   "outputs": [],
   "source": [
    "twentyeighteen_spatial_points = gpd.GeoDataFrame(twentyeighteen.drop(['x', 'y'], axis=1),\n",
    "                       crs={'init': 'epsg:4326'},\n",
    "                       geometry=twentyeighteen.apply(lambda row: shapely.geometry.Point((row.x, row.y)), axis=1))"
   ]
  },
  {
   "cell_type": "code",
   "execution_count": null,
   "metadata": {
    "ExecuteTime": {
     "end_time": "2019-04-23T20:10:14.585774Z",
     "start_time": "2019-04-23T20:10:11.628Z"
    }
   },
   "outputs": [],
   "source": [
    "sf_polygons = gpd.GeoDataFrame.from_features(geo_json_data['features'])\n",
    "sf_polygons.crs = {'init' :'epsg:4326'}"
   ]
  },
  {
   "cell_type": "code",
   "execution_count": null,
   "metadata": {
    "ExecuteTime": {
     "end_time": "2019-04-23T20:10:14.587018Z",
     "start_time": "2019-04-23T20:10:11.630Z"
    }
   },
   "outputs": [],
   "source": [
    "sf_spatial = gpd.sjoin(sf_polygons, twentyeighteen_spatial_points, how=\"inner\", op=\"intersects\")"
   ]
  },
  {
   "cell_type": "code",
   "execution_count": null,
   "metadata": {
    "ExecuteTime": {
     "end_time": "2019-04-23T20:10:14.588449Z",
     "start_time": "2019-04-23T20:10:11.632Z"
    }
   },
   "outputs": [],
   "source": [
    "crime_neighborhood = pd.DataFrame(sf_spatial).reset_index()\n",
    "crime_neighborhood.head(5)"
   ]
  },
  {
   "cell_type": "code",
   "execution_count": null,
   "metadata": {
    "ExecuteTime": {
     "end_time": "2019-04-23T20:10:14.590240Z",
     "start_time": "2019-04-23T20:10:11.635Z"
    }
   },
   "outputs": [],
   "source": [
    "crime_neighborhood_agg = crime_neighborhood.groupby('name').size().reset_index()\n",
    "crime_neighborhood_agg.head(5)"
   ]
  },
  {
   "cell_type": "code",
   "execution_count": null,
   "metadata": {
    "ExecuteTime": {
     "end_time": "2019-04-23T20:10:14.591365Z",
     "start_time": "2019-04-23T20:10:11.637Z"
    }
   },
   "outputs": [],
   "source": [
    "crime_neighborhood_agg.columns = ['neighborhood', 'crimes']\n",
    "crime_neighborhood_agg.head(5)"
   ]
  },
  {
   "cell_type": "markdown",
   "metadata": {},
   "source": [
    "Do you notice any patters? Are there particular neighborhoods where crime concentrates more heavily?"
   ]
  },
  {
   "cell_type": "code",
   "execution_count": null,
   "metadata": {
    "ExecuteTime": {
     "end_time": "2019-04-23T20:10:14.592428Z",
     "start_time": "2019-04-23T20:10:11.641Z"
    }
   },
   "outputs": [],
   "source": [
    "m = folium.Map(\n",
    "    location=[37.7749, -122.4194], zoom_start = 12\n",
    ")\n",
    "\n",
    "m.choropleth(\n",
    "    geo_data=geo_json_data,\n",
    "    data=crime_neighborhood_agg,\n",
    "    columns=['neighborhood', 'crimes'],\n",
    "    key_on='feature.properties.name',\n",
    "    fill_color='OrRd',\n",
    "    threshold_scale=[10, 60, 100, 140],\n",
    "    highlight=True\n",
    "    )\n",
    "\n",
    "m"
   ]
  },
  {
   "cell_type": "markdown",
   "metadata": {},
   "source": [
    "# 5. Discussion Questions <a id='dq'></a>\n",
    "\n",
    "Based on the evidence from this lab assignment, why do you think \"hot spots\" policing became more popular in the last few decades? What are the pros and cons to this kind of approach?\n",
    "\n",
    "What other sorts of data would help improve your analysis?"
   ]
  },
  {
   "cell_type": "code",
   "execution_count": null,
   "metadata": {},
   "outputs": [],
   "source": []
  },
  {
   "cell_type": "code",
   "execution_count": null,
   "metadata": {},
   "outputs": [],
   "source": []
  },
  {
   "cell_type": "code",
   "execution_count": null,
   "metadata": {
    "ExecuteTime": {
     "end_time": "2019-04-23T20:10:14.593622Z",
     "start_time": "2019-04-23T20:10:11.648Z"
    }
   },
   "outputs": [],
   "source": [
    "def append_and_follow(t, link, n):\n",
    "    if n == 0:\n",
    "        print('Next link (if you want to continue)', link)\n",
    "        return t\n",
    "    time.sleep(3)\n",
    "    print(n)\n",
    "    r = requests.get(link)\n",
    "    js = r.json()\n",
    "    return append_and_follow(t.append(Table.from_records(js['value'])), js['@odata.nextLink'], n-1)\n",
    "\n",
    "starter = Table(('__id', 'address', 'category', 'date', 'dayofweek', 'descript', 'incidntnum', \n",
    "                 'location', 'pddistrict', 'pdid', 'resolution', 'time', 'x', 'y'))\n",
    "starting_url = 'https://data.sfgov.org/api/odata/v4/tmnf-yvry'\n",
    "\n",
    "c = append_and_follow(starter, starting_url, 6)\n",
    "c"
   ]
  },
  {
   "cell_type": "code",
   "execution_count": null,
   "metadata": {},
   "outputs": [],
   "source": []
  }
 ],
 "metadata": {
  "kernelspec": {
   "display_name": "Python 3",
   "language": "python",
   "name": "python3"
  },
  "language_info": {
   "codemirror_mode": {
    "name": "ipython",
    "version": 3
   },
   "file_extension": ".py",
   "mimetype": "text/x-python",
   "name": "python",
   "nbconvert_exporter": "python",
   "pygments_lexer": "ipython3",
   "version": "3.6.4"
  }
 },
 "nbformat": 4,
 "nbformat_minor": 2
}
