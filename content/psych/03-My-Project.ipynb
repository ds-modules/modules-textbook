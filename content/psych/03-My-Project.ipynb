{
 "cells": [
  {
   "cell_type": "markdown",
   "metadata": {},
   "source": [
    "# Using your own data\n",
    "\n",
    "*If you run into errors, check the [common errors](https://docs.google.com/document/d/1-LUvfYYI5UtjYiZerCGIBNgzkaJHNxl4530tgh37uYs/edit?usp=sharing) Google doc first.*\n",
    "\n",
    "All the information/functions you will need are on the notebooks. The notebooks follow the general order you will want to follow during your own data analysis for the project.\n",
    "\n",
    "If you need help, please consult the [Data Peers](https://data.berkeley.edu/education/data-science-community)!\n",
    "\n",
    "# Part 1\n",
    "\n",
    "## Import the right libraries"
   ]
  },
  {
   "cell_type": "code",
   "execution_count": null,
   "metadata": {
    "collapsed": true
   },
   "outputs": [],
   "source": [
    "from datascience import *\n",
    "import numpy as np\n",
    "import matplotlib.pyplot as plots\n",
    "import scipy as sp\n",
    "%matplotlib inline\n",
    "import statsmodels.formula.api as smf\n",
    "plots.style.use('fivethirtyeight')"
   ]
  },
  {
   "cell_type": "markdown",
   "metadata": {},
   "source": [
    "## Read in your `.csv` files\n",
    "\n",
    "Go back to the file browser (or look below) and choose your first dataset.\n",
    "\n",
    "```\n",
    "Implicit-Age_IAT.csv               Implicit-Weight_IAT.csv\n",
    "Implicit-Disability_IAT.csv        Outcome-FBI-Hate-Crimes.csv\n",
    "Implicit-Race_IAT.csv              Outcome-Heart-Attack-Mortality.csv\n",
    "Implicit-Religion-Muslim_IAT.csv   Outcome-Neonatal-Deaths.csv\n",
    "Implicit-Sexuality_IAT.csv         Outcome-Poverty.csv\n",
    "```\n",
    "\n",
    "Type its name *exactly* as it appears between the apostrophes below:"
   ]
  },
  {
   "cell_type": "code",
   "execution_count": null,
   "metadata": {
    "collapsed": true
   },
   "outputs": [],
   "source": [
    "my_data = Table.read_table('YOUR-FILE-NAME.csv')\n",
    "my_data"
   ]
  },
  {
   "cell_type": "markdown",
   "metadata": {},
   "source": [
    "Now do the same with your second dataset:"
   ]
  },
  {
   "cell_type": "code",
   "execution_count": null,
   "metadata": {
    "collapsed": true
   },
   "outputs": [],
   "source": [
    "my_data2 = Table.read_table('YOUR-FILE-NAME.csv')\n",
    "my_data2"
   ]
  },
  {
   "cell_type": "markdown",
   "metadata": {},
   "source": [
    "## Wrangle your data\n",
    "\n",
    "Look back at the previous notebook to figure out how to subset and join your data for analysis:"
   ]
  },
  {
   "cell_type": "code",
   "execution_count": null,
   "metadata": {
    "collapsed": true
   },
   "outputs": [],
   "source": [
    "# work on subsetting and joining your data here\n",
    "\n",
    "my_joined_data = "
   ]
  },
  {
   "cell_type": "markdown",
   "metadata": {},
   "source": [
    "Now write your merged data to a `.csv`:"
   ]
  },
  {
   "cell_type": "code",
   "execution_count": null,
   "metadata": {
    "collapsed": true
   },
   "outputs": [],
   "source": [
    "my_joined_data.to_df().to_csv('my-joined-data.csv')"
   ]
  },
  {
   "cell_type": "markdown",
   "metadata": {},
   "source": [
    "---\n",
    "\n",
    "# Part 2\n",
    "\n",
    "## Visualize your data\n",
    "\n",
    "To find an association between two variables, the `.scatter` method is perhaps the most useful one. \n",
    "Try creating a few scatter plots of variables you might think are related among your data!"
   ]
  },
  {
   "cell_type": "code",
   "execution_count": null,
   "metadata": {
    "collapsed": true
   },
   "outputs": [],
   "source": [
    "# create some visualizations of your data here\n",
    "\n"
   ]
  },
  {
   "cell_type": "markdown",
   "metadata": {},
   "source": [
    "## Correlate your data\n",
    "\n",
    "Calculate a correlation coefficient on your data! Remember: `sp.stats.pearsonr(var1, var2)`"
   ]
  },
  {
   "cell_type": "code",
   "execution_count": null,
   "metadata": {
    "collapsed": true
   },
   "outputs": [],
   "source": [
    "# calculate the correlation coefficient here\n",
    "\n"
   ]
  },
  {
   "cell_type": "markdown",
   "metadata": {},
   "source": [
    "## Regress your data\n",
    "\n",
    "Run a simple regression on your data"
   ]
  },
  {
   "cell_type": "code",
   "execution_count": null,
   "metadata": {
    "collapsed": true
   },
   "outputs": [],
   "source": [
    "# run a regression here\n",
    "\n"
   ]
  },
  {
   "cell_type": "markdown",
   "metadata": {},
   "source": [
    "Try adding a covariate to that regression below:"
   ]
  },
  {
   "cell_type": "code",
   "execution_count": null,
   "metadata": {
    "collapsed": true
   },
   "outputs": [],
   "source": [
    "# run another regression here, this time with a covariate\n",
    "\n"
   ]
  },
  {
   "cell_type": "markdown",
   "metadata": {},
   "source": [
    "---\n",
    "\n",
    "***We would also appreciate if you filled out this feedback form regarding the notebook:\n",
    "https://goo.gl/forms/ADY9TJU3TGKlllyT2***\n",
    "\n",
    "***Your input allows us to continue improving our educational notebooks!***\n",
    "\n",
    "---"
   ]
  }
 ],
 "metadata": {
  "kernelspec": {
   "display_name": "Python 3",
   "language": "python",
   "name": "python3"
  },
  "language_info": {
   "codemirror_mode": {
    "name": "ipython",
    "version": 3
   },
   "file_extension": ".py",
   "mimetype": "text/x-python",
   "name": "python",
   "nbconvert_exporter": "python",
   "pygments_lexer": "ipython3",
   "version": "3.6.3"
  }
 },
 "nbformat": 4,
 "nbformat_minor": 2
}
